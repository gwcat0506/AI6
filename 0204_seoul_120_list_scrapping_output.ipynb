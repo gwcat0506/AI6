{
  "cells": [
    {
      "cell_type": "markdown",
      "metadata": {
        "id": "iVJdUbmc3ooz"
      },
      "source": [
        "# 서울특별시 다산콜센터(☎120)의 주요 민원\n",
        "* 서울특별시 다산콜센터(☎120)의 주요 민원(자주 묻는 질문)에 대한 답변정보\n",
        "* https://opengov.seoul.go.kr/civilappeal/list"
      ]
    },
    {
      "cell_type": "code",
      "execution_count": null,
      "metadata": {
        "id": "Oc2iAc1l3opH"
      },
      "outputs": [],
      "source": [
        "# 필요한 도구를 불러온다.\n",
        "# 파이썬에서 사용할 수 있는 엑셀과 유사한 데이터분석 도구\n",
        "# 매우 작은 브라우저로 웹사이트의 내용과 정보를 불러옴\n",
        "# request로 가져온 웹사이트의 html 태그를 찾기위해 사용\n",
        "# 간격을 두고 가져오기 위해 사용\n",
        "\n",
        "import pandas as pd\n",
        "import numpy as np\n",
        "import requests\n",
        "from bs4 import BeautifulSoup as bs"
      ]
    },
    {
      "cell_type": "code",
      "execution_count": null,
      "metadata": {
        "id": "s5lQRA3X3opP",
        "outputId": "73f154c9-1831-4d5c-d1b5-18b9fe035516"
      },
      "outputs": [
        {
          "name": "stdout",
          "output_type": "stream",
          "text": [
            "https://opengov.seoul.go.kr/civilappeal/list?items_per_page=100&page=1\n"
          ]
        }
      ],
      "source": [
        "# 120 다산 콜센터의 첫 페이지를 먼저 불러와 크롤링할 내용을 봅니다.\n",
        "base_url = \"https://opengov.seoul.go.kr/civilappeal/list?items_per_page=100&page=1\"\n",
        "print(base_url)"
      ]
    },
    {
      "cell_type": "code",
      "execution_count": null,
      "metadata": {
        "id": "XKMZjC2C3opU",
        "outputId": "fa994ad4-d907-4371-e436-3b2484924549"
      },
      "outputs": [
        {
          "data": {
            "text/plain": [
              "1"
            ]
          },
          "execution_count": 5,
          "metadata": {},
          "output_type": "execute_result"
        }
      ],
      "source": [
        "# pd.read_html 을 통해 해당 URL의 table 정보를 읽어옵니다.\n",
        "table = pd.read_html(base_url, encoding=\"utf-8\")\n",
        "len(table)"
      ]
    },
    {
      "cell_type": "code",
      "execution_count": null,
      "metadata": {
        "id": "-HoEsp8Z3opX",
        "outputId": "07f68bf8-d885-4b7f-9589-8b2c5707ba60"
      },
      "outputs": [
        {
          "data": {
            "text/html": [
              "<div>\n",
              "<style scoped>\n",
              "    .dataframe tbody tr th:only-of-type {\n",
              "        vertical-align: middle;\n",
              "    }\n",
              "\n",
              "    .dataframe tbody tr th {\n",
              "        vertical-align: top;\n",
              "    }\n",
              "\n",
              "    .dataframe thead th {\n",
              "        text-align: right;\n",
              "    }\n",
              "</style>\n",
              "<table border=\"1\" class=\"dataframe\">\n",
              "  <thead>\n",
              "    <tr style=\"text-align: right;\">\n",
              "      <th></th>\n",
              "      <th>번호</th>\n",
              "      <th>제목</th>\n",
              "      <th>생산일</th>\n",
              "      <th>조회수</th>\n",
              "    </tr>\n",
              "  </thead>\n",
              "  <tbody>\n",
              "    <tr>\n",
              "      <th>0</th>\n",
              "      <td>2470</td>\n",
              "      <td>다자녀가정 실내 바닥매트 지원</td>\n",
              "      <td>2021-08-17</td>\n",
              "      <td>156</td>\n",
              "    </tr>\n",
              "    <tr>\n",
              "      <th>1</th>\n",
              "      <td>2469</td>\n",
              "      <td>[서울산업진흥원] 서울메이드란?</td>\n",
              "      <td>2021-06-29</td>\n",
              "      <td>675</td>\n",
              "    </tr>\n",
              "    <tr>\n",
              "      <th>2</th>\n",
              "      <td>2468</td>\n",
              "      <td>광진맘택시 운영(임산부,영아 양육가정 전용 택시)</td>\n",
              "      <td>2021-05-13</td>\n",
              "      <td>712</td>\n",
              "    </tr>\n",
              "    <tr>\n",
              "      <th>3</th>\n",
              "      <td>2467</td>\n",
              "      <td>마포 뇌병변장애인 비전센터</td>\n",
              "      <td>2021-03-12</td>\n",
              "      <td>840</td>\n",
              "    </tr>\n",
              "    <tr>\n",
              "      <th>4</th>\n",
              "      <td>2466</td>\n",
              "      <td>위드유 서울 직장 성희롱.성폭력 예방센터</td>\n",
              "      <td>2020-09-16</td>\n",
              "      <td>1177</td>\n",
              "    </tr>\n",
              "    <tr>\n",
              "      <th>...</th>\n",
              "      <td>...</td>\n",
              "      <td>...</td>\n",
              "      <td>...</td>\n",
              "      <td>...</td>\n",
              "    </tr>\n",
              "    <tr>\n",
              "      <th>95</th>\n",
              "      <td>2375</td>\n",
              "      <td>[서울시민 힐링 프로젝트] 속마음 버스</td>\n",
              "      <td>2014-03-31</td>\n",
              "      <td>3533</td>\n",
              "    </tr>\n",
              "    <tr>\n",
              "      <th>96</th>\n",
              "      <td>2374</td>\n",
              "      <td>안산과천선 당고개 급행 (코레일 운영 4호선 급행)</td>\n",
              "      <td>2014-03-31</td>\n",
              "      <td>6100</td>\n",
              "    </tr>\n",
              "    <tr>\n",
              "      <th>97</th>\n",
              "      <td>2373</td>\n",
              "      <td>여성안심지킴이 집</td>\n",
              "      <td>2014-03-04</td>\n",
              "      <td>3603</td>\n",
              "    </tr>\n",
              "    <tr>\n",
              "      <th>98</th>\n",
              "      <td>2372</td>\n",
              "      <td>판게아는 내친구</td>\n",
              "      <td>2014-03-03</td>\n",
              "      <td>568</td>\n",
              "    </tr>\n",
              "    <tr>\n",
              "      <th>99</th>\n",
              "      <td>2371</td>\n",
              "      <td>문화가 있는 날</td>\n",
              "      <td>2014-02-20</td>\n",
              "      <td>1853</td>\n",
              "    </tr>\n",
              "  </tbody>\n",
              "</table>\n",
              "<p>100 rows × 4 columns</p>\n",
              "</div>"
            ],
            "text/plain": [
              "      번호                            제목         생산일   조회수\n",
              "0   2470              다자녀가정 실내 바닥매트 지원  2021-08-17   156\n",
              "1   2469             [서울산업진흥원] 서울메이드란?  2021-06-29   675\n",
              "2   2468   광진맘택시 운영(임산부,영아 양육가정 전용 택시)  2021-05-13   712\n",
              "3   2467                마포 뇌병변장애인 비전센터  2021-03-12   840\n",
              "4   2466        위드유 서울 직장 성희롱.성폭력 예방센터  2020-09-16  1177\n",
              "..   ...                           ...         ...   ...\n",
              "95  2375         [서울시민 힐링 프로젝트] 속마음 버스  2014-03-31  3533\n",
              "96  2374  안산과천선 당고개 급행 (코레일 운영 4호선 급행)  2014-03-31  6100\n",
              "97  2373                     여성안심지킴이 집  2014-03-04  3603\n",
              "98  2372                      판게아는 내친구  2014-03-03   568\n",
              "99  2371                      문화가 있는 날  2014-02-20  1853\n",
              "\n",
              "[100 rows x 4 columns]"
            ]
          },
          "execution_count": 6,
          "metadata": {},
          "output_type": "execute_result"
        }
      ],
      "source": [
        "table[0]"
      ]
    },
    {
      "cell_type": "markdown",
      "metadata": {
        "id": "KxgD7A4A3opf"
      },
      "source": [
        "## 상세정보를 위한 링크정보 수집\n",
        "* get : 필요한 데이터를 Query String 에 담아 전송\n",
        "* post : 전송할 데이터를 HTTP 메시지의 Body의 Form Data에 담아 전송\n",
        "\n",
        "* get 과 post 여부는 브라우저의 네트워크 탭의 Headers > Request Method 를 통해 확인"
      ]
    },
    {
      "cell_type": "code",
      "execution_count": null,
      "metadata": {
        "id": "8FWMTmGa3oph",
        "outputId": "bbbd192c-220d-4770-a102-77624f793968"
      },
      "outputs": [
        {
          "data": {
            "text/plain": [
              "<Response [200]>"
            ]
          },
          "execution_count": 7,
          "metadata": {},
          "output_type": "execute_result"
        }
      ],
      "source": [
        "# 웹페이지의 결과를 받아옵니다.\n",
        "response = requests.get(base_url)\n",
        "response"
      ]
    },
    {
      "cell_type": "code",
      "execution_count": null,
      "metadata": {
        "id": "TUN5j_4x3opk",
        "outputId": "9f56f79c-deb5-45bb-d5d5-90c16ff71018"
      },
      "outputs": [
        {
          "data": {
            "text/plain": [
              "200"
            ]
          },
          "execution_count": 8,
          "metadata": {},
          "output_type": "execute_result"
        }
      ],
      "source": [
        "# status_code를 통한 응답코드 확인 200 == OK\n",
        "response.status_code"
      ]
    },
    {
      "cell_type": "code",
      "execution_count": null,
      "metadata": {
        "id": "qHW4eddC3opm"
      },
      "outputs": [],
      "source": [
        "# response.text"
      ]
    },
    {
      "cell_type": "markdown",
      "metadata": {
        "id": "uMUMrcyy3opp"
      },
      "source": [
        "## BeautifulSoup 을 통해 html 페이지를 읽기 쉽게 만들기"
      ]
    },
    {
      "cell_type": "code",
      "execution_count": null,
      "metadata": {
        "scrolled": false,
        "id": "4JjRuUWp3opr"
      },
      "outputs": [],
      "source": [
        "# html 태그를 파싱해 올 수 있도록 합니다.\n",
        "html = bs(response.text, \"lxml\")\n",
        "# html"
      ]
    },
    {
      "cell_type": "markdown",
      "metadata": {
        "id": "NADPP1h93ops"
      },
      "source": [
        "## 상세 정보 수집을 위한 링크 정보 찾기"
      ]
    },
    {
      "cell_type": "code",
      "execution_count": null,
      "metadata": {
        "id": "6YJdHxBu3opt"
      },
      "outputs": [],
      "source": [
        "# html.table.select(\"a\")"
      ]
    },
    {
      "cell_type": "code",
      "execution_count": null,
      "metadata": {
        "id": "OSj5MDSt3opu",
        "outputId": "67985cc2-67c0-44c0-c8f9-ced77eaed73c"
      },
      "outputs": [
        {
          "name": "stdout",
          "output_type": "stream",
          "text": [
            "https://opengov.seoul.go.kr/civilappeal/list?items_per_page=100&page=1\n"
          ]
        }
      ],
      "source": [
        "print(base_url)"
      ]
    },
    {
      "cell_type": "code",
      "execution_count": null,
      "metadata": {
        "id": "Ep39HNE-3opv",
        "outputId": "f809a461-8068-451c-b2a9-1a00f3cd3afe"
      },
      "outputs": [
        {
          "data": {
            "text/plain": [
              "[<a href=\"/civilappeal/25670204\">다자녀가정 실내 바닥매트 지원</a>,\n",
              " <a href=\"/civilappeal/23194045\">[서울산업진흥원] 서울메이드란?</a>,\n",
              " <a href=\"/civilappeal/22904492\">광진맘택시 운영(임산부,영아 양육가정 전용 택시)</a>,\n",
              " <a href=\"/civilappeal/22477798\">마포 뇌병변장애인 비전센터</a>,\n",
              " <a href=\"/civilappeal/21212235\">위드유 서울 직장 성희롱.성폭력 예방센터</a>]"
            ]
          },
          "execution_count": 13,
          "metadata": {},
          "output_type": "execute_result"
        }
      ],
      "source": [
        "# BeautifulSoup 의 select 기능을 통한 링크 태그 찾기\n",
        "# a 태그 안의 상세 페이지 접근을 위한 링크 번호 수집\n",
        "# a_list\n",
        "# a_link_no\n",
        "# #content > div > div.view-content > div > table > tbody > tr:nth-child(1) > td.data-title.aLeft > a\n",
        "# html.select(\"#content > div > div.view-content > div > table > tbody > tr > td > a\")\n",
        "# //*[@id=\"content\"]/div/div[2]/div/table/tbody/tr[1]/td[2]/a\n",
        "a_list = html.select(\"#content > div > div.view-content > div > table > tbody > tr > td > a\")\n",
        "a_list[:5]"
      ]
    },
    {
      "cell_type": "code",
      "execution_count": null,
      "metadata": {
        "id": "QFsZGM1n3opw"
      },
      "outputs": [],
      "source": [
        "# str(a_list[0])[\"href\"]"
      ]
    },
    {
      "cell_type": "code",
      "execution_count": null,
      "metadata": {
        "id": "Hx0O5ybM3opw",
        "outputId": "4f179eb7-b575-4700-c802-165046c067d4"
      },
      "outputs": [
        {
          "data": {
            "text/plain": [
              "'/civilappeal/25670204'"
            ]
          },
          "execution_count": 15,
          "metadata": {},
          "output_type": "execute_result"
        }
      ],
      "source": [
        "a_list[0][\"href\"]"
      ]
    },
    {
      "cell_type": "code",
      "execution_count": null,
      "metadata": {
        "id": "fg0wBucB3opx",
        "outputId": "c519e723-9096-4920-9cc2-ae474c7bea89"
      },
      "outputs": [
        {
          "data": {
            "text/plain": [
              "'/civilappeal/25670204'"
            ]
          },
          "execution_count": 16,
          "metadata": {},
          "output_type": "execute_result"
        }
      ],
      "source": [
        "a_list[0].get(\"href\")"
      ]
    },
    {
      "cell_type": "code",
      "execution_count": null,
      "metadata": {
        "id": "h3r2G0Rp3opy",
        "outputId": "342ae9e8-9b93-498a-84ab-6246f8575de0"
      },
      "outputs": [
        {
          "data": {
            "text/plain": [
              "bs4.element.Tag"
            ]
          },
          "execution_count": 17,
          "metadata": {},
          "output_type": "execute_result"
        }
      ],
      "source": [
        "type(a_list[0])"
      ]
    },
    {
      "cell_type": "code",
      "execution_count": null,
      "metadata": {
        "scrolled": true,
        "id": "Rtul9l6_3opz",
        "outputId": "4d48d29a-d5c0-4414-a599-59a94a840eb0"
      },
      "outputs": [
        {
          "data": {
            "text/plain": [
              "'/civilappeal/25670204'"
            ]
          },
          "execution_count": 18,
          "metadata": {},
          "output_type": "execute_result"
        }
      ],
      "source": [
        "# href 값만 가져오기\n",
        "a_list[0][\"href\"]"
      ]
    },
    {
      "cell_type": "code",
      "execution_count": null,
      "metadata": {
        "id": "vI-24ltb3op0",
        "outputId": "9618c057-0288-4305-dffe-706fc981042a"
      },
      "outputs": [
        {
          "data": {
            "text/plain": [
              "['', 'civilappeal', '25670204']"
            ]
          },
          "execution_count": 19,
          "metadata": {},
          "output_type": "execute_result"
        }
      ],
      "source": [
        "# href 값을 / 로 나누기\n",
        "a_list[0][\"href\"].split(\"/\")"
      ]
    },
    {
      "cell_type": "code",
      "execution_count": null,
      "metadata": {
        "id": "CIkJQQYj3op0",
        "outputId": "d4f34f6e-bb85-41cd-f6c2-6981509bcbab"
      },
      "outputs": [
        {
          "data": {
            "text/plain": [
              "'25670204'"
            ]
          },
          "execution_count": 20,
          "metadata": {},
          "output_type": "execute_result"
        }
      ],
      "source": [
        "# 내용 번호만 인덱싱\n",
        "a_list[0][\"href\"].split(\"/\")[-1]"
      ]
    },
    {
      "cell_type": "code",
      "execution_count": null,
      "metadata": {
        "id": "58GzyTpV3op1",
        "outputId": "d503c14f-7729-4b8a-da50-6a68177d7fc8"
      },
      "outputs": [
        {
          "data": {
            "text/plain": [
              "['25670204', '23194045', '22904492']"
            ]
          },
          "execution_count": 21,
          "metadata": {},
          "output_type": "execute_result"
        }
      ],
      "source": [
        "# 전처리한 내용을 a_link_no 리스트에 담기\n",
        "a_link_no = []\n",
        "for a in a_list:\n",
        "    a_link_no.append(a[\"href\"].split(\"/\")[-1])\n",
        "\n",
        "# 앞에서 3개만 슬라이싱\n",
        "a_link_no[:3]"
      ]
    },
    {
      "cell_type": "code",
      "execution_count": null,
      "metadata": {
        "id": "A8NuCHDP3op2",
        "outputId": "aa3386ea-c87a-402f-832b-df7a996a3acb"
      },
      "outputs": [
        {
          "data": {
            "text/plain": [
              "['25670204', '23194045', '22904492']"
            ]
          },
          "execution_count": 22,
          "metadata": {},
          "output_type": "execute_result"
        }
      ],
      "source": [
        "# 리스트컴프리헨션을 사용해서 전처리 하기\n",
        "a_link_no = [a[\"href\"].split(\"/\")[-1] for a in a_list]\n",
        "a_link_no[:3]"
      ]
    },
    {
      "cell_type": "code",
      "execution_count": null,
      "metadata": {
        "id": "Ysq65bfC3op8",
        "outputId": "a1e21318-5742-419f-93df-ee6093fa6176"
      },
      "outputs": [
        {
          "data": {
            "text/html": [
              "<div>\n",
              "<style scoped>\n",
              "    .dataframe tbody tr th:only-of-type {\n",
              "        vertical-align: middle;\n",
              "    }\n",
              "\n",
              "    .dataframe tbody tr th {\n",
              "        vertical-align: top;\n",
              "    }\n",
              "\n",
              "    .dataframe thead th {\n",
              "        text-align: right;\n",
              "    }\n",
              "</style>\n",
              "<table border=\"1\" class=\"dataframe\">\n",
              "  <thead>\n",
              "    <tr style=\"text-align: right;\">\n",
              "      <th></th>\n",
              "      <th>번호</th>\n",
              "      <th>제목</th>\n",
              "      <th>생산일</th>\n",
              "      <th>조회수</th>\n",
              "    </tr>\n",
              "  </thead>\n",
              "  <tbody>\n",
              "    <tr>\n",
              "      <th>0</th>\n",
              "      <td>2470</td>\n",
              "      <td>다자녀가정 실내 바닥매트 지원</td>\n",
              "      <td>2021-08-17</td>\n",
              "      <td>156</td>\n",
              "    </tr>\n",
              "    <tr>\n",
              "      <th>1</th>\n",
              "      <td>2469</td>\n",
              "      <td>[서울산업진흥원] 서울메이드란?</td>\n",
              "      <td>2021-06-29</td>\n",
              "      <td>675</td>\n",
              "    </tr>\n",
              "  </tbody>\n",
              "</table>\n",
              "</div>"
            ],
            "text/plain": [
              "     번호                 제목         생산일  조회수\n",
              "0  2470   다자녀가정 실내 바닥매트 지원  2021-08-17  156\n",
              "1  2469  [서울산업진흥원] 서울메이드란?  2021-06-29  675"
            ]
          },
          "execution_count": 23,
          "metadata": {},
          "output_type": "execute_result"
        }
      ],
      "source": [
        "df_table = table[0]\n",
        "df_table.head(2)"
      ]
    },
    {
      "cell_type": "code",
      "execution_count": null,
      "metadata": {
        "id": "ww0rp5sZ3op8",
        "outputId": "d61aae8a-2c23-43b9-8f19-10b408eb9e38"
      },
      "outputs": [
        {
          "data": {
            "text/plain": [
              "(100, 100)"
            ]
          },
          "execution_count": 24,
          "metadata": {},
          "output_type": "execute_result"
        }
      ],
      "source": [
        "len(a_link_no), len(df_table)"
      ]
    },
    {
      "cell_type": "code",
      "execution_count": null,
      "metadata": {
        "scrolled": true,
        "id": "TwoVoUEL3op9",
        "outputId": "9ef0c562-f208-44c7-9876-5fd72de3f3f5"
      },
      "outputs": [
        {
          "data": {
            "text/html": [
              "<div>\n",
              "<style scoped>\n",
              "    .dataframe tbody tr th:only-of-type {\n",
              "        vertical-align: middle;\n",
              "    }\n",
              "\n",
              "    .dataframe tbody tr th {\n",
              "        vertical-align: top;\n",
              "    }\n",
              "\n",
              "    .dataframe thead th {\n",
              "        text-align: right;\n",
              "    }\n",
              "</style>\n",
              "<table border=\"1\" class=\"dataframe\">\n",
              "  <thead>\n",
              "    <tr style=\"text-align: right;\">\n",
              "      <th></th>\n",
              "      <th>번호</th>\n",
              "      <th>제목</th>\n",
              "      <th>생산일</th>\n",
              "      <th>조회수</th>\n",
              "      <th>내용번호</th>\n",
              "    </tr>\n",
              "  </thead>\n",
              "  <tbody>\n",
              "    <tr>\n",
              "      <th>0</th>\n",
              "      <td>2470</td>\n",
              "      <td>다자녀가정 실내 바닥매트 지원</td>\n",
              "      <td>2021-08-17</td>\n",
              "      <td>156</td>\n",
              "      <td>25670204</td>\n",
              "    </tr>\n",
              "    <tr>\n",
              "      <th>1</th>\n",
              "      <td>2469</td>\n",
              "      <td>[서울산업진흥원] 서울메이드란?</td>\n",
              "      <td>2021-06-29</td>\n",
              "      <td>675</td>\n",
              "      <td>23194045</td>\n",
              "    </tr>\n",
              "    <tr>\n",
              "      <th>2</th>\n",
              "      <td>2468</td>\n",
              "      <td>광진맘택시 운영(임산부,영아 양육가정 전용 택시)</td>\n",
              "      <td>2021-05-13</td>\n",
              "      <td>712</td>\n",
              "      <td>22904492</td>\n",
              "    </tr>\n",
              "    <tr>\n",
              "      <th>3</th>\n",
              "      <td>2467</td>\n",
              "      <td>마포 뇌병변장애인 비전센터</td>\n",
              "      <td>2021-03-12</td>\n",
              "      <td>840</td>\n",
              "      <td>22477798</td>\n",
              "    </tr>\n",
              "    <tr>\n",
              "      <th>4</th>\n",
              "      <td>2466</td>\n",
              "      <td>위드유 서울 직장 성희롱.성폭력 예방센터</td>\n",
              "      <td>2020-09-16</td>\n",
              "      <td>1177</td>\n",
              "      <td>21212235</td>\n",
              "    </tr>\n",
              "    <tr>\n",
              "      <th>...</th>\n",
              "      <td>...</td>\n",
              "      <td>...</td>\n",
              "      <td>...</td>\n",
              "      <td>...</td>\n",
              "      <td>...</td>\n",
              "    </tr>\n",
              "    <tr>\n",
              "      <th>95</th>\n",
              "      <td>2375</td>\n",
              "      <td>[서울시민 힐링 프로젝트] 속마음 버스</td>\n",
              "      <td>2014-03-31</td>\n",
              "      <td>3533</td>\n",
              "      <td>2898630</td>\n",
              "    </tr>\n",
              "    <tr>\n",
              "      <th>96</th>\n",
              "      <td>2374</td>\n",
              "      <td>안산과천선 당고개 급행 (코레일 운영 4호선 급행)</td>\n",
              "      <td>2014-03-31</td>\n",
              "      <td>6100</td>\n",
              "      <td>2896420</td>\n",
              "    </tr>\n",
              "    <tr>\n",
              "      <th>97</th>\n",
              "      <td>2373</td>\n",
              "      <td>여성안심지킴이 집</td>\n",
              "      <td>2014-03-04</td>\n",
              "      <td>3603</td>\n",
              "      <td>2896330</td>\n",
              "    </tr>\n",
              "    <tr>\n",
              "      <th>98</th>\n",
              "      <td>2372</td>\n",
              "      <td>판게아는 내친구</td>\n",
              "      <td>2014-03-03</td>\n",
              "      <td>568</td>\n",
              "      <td>2896326</td>\n",
              "    </tr>\n",
              "    <tr>\n",
              "      <th>99</th>\n",
              "      <td>2371</td>\n",
              "      <td>문화가 있는 날</td>\n",
              "      <td>2014-02-20</td>\n",
              "      <td>1853</td>\n",
              "      <td>2897633</td>\n",
              "    </tr>\n",
              "  </tbody>\n",
              "</table>\n",
              "<p>100 rows × 5 columns</p>\n",
              "</div>"
            ],
            "text/plain": [
              "      번호                            제목         생산일   조회수      내용번호\n",
              "0   2470              다자녀가정 실내 바닥매트 지원  2021-08-17   156  25670204\n",
              "1   2469             [서울산업진흥원] 서울메이드란?  2021-06-29   675  23194045\n",
              "2   2468   광진맘택시 운영(임산부,영아 양육가정 전용 택시)  2021-05-13   712  22904492\n",
              "3   2467                마포 뇌병변장애인 비전센터  2021-03-12   840  22477798\n",
              "4   2466        위드유 서울 직장 성희롱.성폭력 예방센터  2020-09-16  1177  21212235\n",
              "..   ...                           ...         ...   ...       ...\n",
              "95  2375         [서울시민 힐링 프로젝트] 속마음 버스  2014-03-31  3533   2898630\n",
              "96  2374  안산과천선 당고개 급행 (코레일 운영 4호선 급행)  2014-03-31  6100   2896420\n",
              "97  2373                     여성안심지킴이 집  2014-03-04  3603   2896330\n",
              "98  2372                      판게아는 내친구  2014-03-03   568   2896326\n",
              "99  2371                      문화가 있는 날  2014-02-20  1853   2897633\n",
              "\n",
              "[100 rows x 5 columns]"
            ]
          },
          "execution_count": 25,
          "metadata": {},
          "output_type": "execute_result"
        }
      ],
      "source": [
        "# a_link_no 를 \"내용번호\" 컬럼을 생성해서 넣어줍니다.\n",
        "df_table[\"내용번호\"] = a_link_no\n",
        "df_table"
      ]
    },
    {
      "cell_type": "markdown",
      "metadata": {
        "id": "693baAwA3op-"
      },
      "source": [
        "## 특정 페이지를 수집하는 함수 만들기"
      ]
    },
    {
      "cell_type": "code",
      "execution_count": null,
      "metadata": {
        "id": "iAncD63b3op-"
      },
      "outputs": [],
      "source": [
        "def get_one_page(page_no):\n",
        "    \"\"\"\n",
        "    120 주요질문의 특정 페이지 목록을 수집\n",
        "    \"\"\"\n",
        "    # url을 f-string 으로 만들어 줍니다.\n",
        "    base_url = f\"https://opengov.seoul.go.kr/civilappeal/list?items_per_page=100&page={page_no}\"\n",
        "    # requests 를 통해 HTTP 통신으로 url 에 요청을 보내서 결과 값을 받아옵니다.\n",
        "    response = requests.get(base_url)\n",
        "    # 위에서 받은 결과값을 재사용합니다. \n",
        "    # 테이블을 데이터프레임으로 만들어 줍니다.\n",
        "    df_table = pd.read_html(response.text)[0]\n",
        "\n",
        "    # 행의 갯수가 0 이거나 컬럼의 갯수가 4개가 아니라면 데이터가 없는 페이지이기 때문에 예외처리를 해주었습니다.\n",
        "    if df_table.shape[0] == 0 or df_table.shape[1] != 4:\n",
        "        return f\"{page_no}페이지를 찾을 수 없습니다.\"\n",
        "        \n",
        "    try:\n",
        "        # 링크 번호 수집을 위해 bs 으로 html 태그를 감싸줍니다.\n",
        "        html = bs(response.text, \"lxml\")\n",
        "        # 테이블 안의 a 태그를 찾습니다.\n",
        "        a_list = html.select(\"#content > div > div.view-content > div > table > tbody > tr > td > a\")\n",
        "        # 리스트컴프리헨션을 사용해서 전처리 하기\n",
        "        # a 태그 안의 href 주소 안의 번호만 가져옵니다.\n",
        "        a_link_no = [a[\"href\"].split(\"/\")[-1] for a in a_list]\n",
        "        # 데이터프레임에 내용 링크 번호를 넣어줍니다.\n",
        "        df_table[\"내용번호\"] = a_link_no\n",
        "    except:\n",
        "        # raise Exception(f\"{page_no}를 찾을 수 없습니다.\")\n",
        "        return f\"{page_no}페이지를 찾을 수 없습니다.\"\n",
        "    \n",
        "    return df_table"
      ]
    },
    {
      "cell_type": "code",
      "execution_count": null,
      "metadata": {
        "id": "2aB1nETv3op_",
        "outputId": "144191a6-3b07-4071-bc77-256ecba5872c"
      },
      "outputs": [
        {
          "data": {
            "text/html": [
              "<div>\n",
              "<style scoped>\n",
              "    .dataframe tbody tr th:only-of-type {\n",
              "        vertical-align: middle;\n",
              "    }\n",
              "\n",
              "    .dataframe tbody tr th {\n",
              "        vertical-align: top;\n",
              "    }\n",
              "\n",
              "    .dataframe thead th {\n",
              "        text-align: right;\n",
              "    }\n",
              "</style>\n",
              "<table border=\"1\" class=\"dataframe\">\n",
              "  <thead>\n",
              "    <tr style=\"text-align: right;\">\n",
              "      <th></th>\n",
              "      <th>번호</th>\n",
              "      <th>제목</th>\n",
              "      <th>생산일</th>\n",
              "      <th>조회수</th>\n",
              "      <th>내용번호</th>\n",
              "    </tr>\n",
              "  </thead>\n",
              "  <tbody>\n",
              "    <tr>\n",
              "      <th>0</th>\n",
              "      <td>2470</td>\n",
              "      <td>다자녀가정 실내 바닥매트 지원</td>\n",
              "      <td>2021-08-17</td>\n",
              "      <td>157</td>\n",
              "      <td>25670204</td>\n",
              "    </tr>\n",
              "    <tr>\n",
              "      <th>1</th>\n",
              "      <td>2469</td>\n",
              "      <td>[서울산업진흥원] 서울메이드란?</td>\n",
              "      <td>2021-06-29</td>\n",
              "      <td>675</td>\n",
              "      <td>23194045</td>\n",
              "    </tr>\n",
              "    <tr>\n",
              "      <th>2</th>\n",
              "      <td>2468</td>\n",
              "      <td>광진맘택시 운영(임산부,영아 양육가정 전용 택시)</td>\n",
              "      <td>2021-05-13</td>\n",
              "      <td>712</td>\n",
              "      <td>22904492</td>\n",
              "    </tr>\n",
              "    <tr>\n",
              "      <th>3</th>\n",
              "      <td>2467</td>\n",
              "      <td>마포 뇌병변장애인 비전센터</td>\n",
              "      <td>2021-03-12</td>\n",
              "      <td>840</td>\n",
              "      <td>22477798</td>\n",
              "    </tr>\n",
              "    <tr>\n",
              "      <th>4</th>\n",
              "      <td>2466</td>\n",
              "      <td>위드유 서울 직장 성희롱.성폭력 예방센터</td>\n",
              "      <td>2020-09-16</td>\n",
              "      <td>1177</td>\n",
              "      <td>21212235</td>\n",
              "    </tr>\n",
              "    <tr>\n",
              "      <th>...</th>\n",
              "      <td>...</td>\n",
              "      <td>...</td>\n",
              "      <td>...</td>\n",
              "      <td>...</td>\n",
              "      <td>...</td>\n",
              "    </tr>\n",
              "    <tr>\n",
              "      <th>95</th>\n",
              "      <td>2375</td>\n",
              "      <td>[서울시민 힐링 프로젝트] 속마음 버스</td>\n",
              "      <td>2014-03-31</td>\n",
              "      <td>3533</td>\n",
              "      <td>2898630</td>\n",
              "    </tr>\n",
              "    <tr>\n",
              "      <th>96</th>\n",
              "      <td>2374</td>\n",
              "      <td>안산과천선 당고개 급행 (코레일 운영 4호선 급행)</td>\n",
              "      <td>2014-03-31</td>\n",
              "      <td>6100</td>\n",
              "      <td>2896420</td>\n",
              "    </tr>\n",
              "    <tr>\n",
              "      <th>97</th>\n",
              "      <td>2373</td>\n",
              "      <td>여성안심지킴이 집</td>\n",
              "      <td>2014-03-04</td>\n",
              "      <td>3603</td>\n",
              "      <td>2896330</td>\n",
              "    </tr>\n",
              "    <tr>\n",
              "      <th>98</th>\n",
              "      <td>2372</td>\n",
              "      <td>판게아는 내친구</td>\n",
              "      <td>2014-03-03</td>\n",
              "      <td>568</td>\n",
              "      <td>2896326</td>\n",
              "    </tr>\n",
              "    <tr>\n",
              "      <th>99</th>\n",
              "      <td>2371</td>\n",
              "      <td>문화가 있는 날</td>\n",
              "      <td>2014-02-20</td>\n",
              "      <td>1853</td>\n",
              "      <td>2897633</td>\n",
              "    </tr>\n",
              "  </tbody>\n",
              "</table>\n",
              "<p>100 rows × 5 columns</p>\n",
              "</div>"
            ],
            "text/plain": [
              "      번호                            제목         생산일   조회수      내용번호\n",
              "0   2470              다자녀가정 실내 바닥매트 지원  2021-08-17   157  25670204\n",
              "1   2469             [서울산업진흥원] 서울메이드란?  2021-06-29   675  23194045\n",
              "2   2468   광진맘택시 운영(임산부,영아 양육가정 전용 택시)  2021-05-13   712  22904492\n",
              "3   2467                마포 뇌병변장애인 비전센터  2021-03-12   840  22477798\n",
              "4   2466        위드유 서울 직장 성희롱.성폭력 예방센터  2020-09-16  1177  21212235\n",
              "..   ...                           ...         ...   ...       ...\n",
              "95  2375         [서울시민 힐링 프로젝트] 속마음 버스  2014-03-31  3533   2898630\n",
              "96  2374  안산과천선 당고개 급행 (코레일 운영 4호선 급행)  2014-03-31  6100   2896420\n",
              "97  2373                     여성안심지킴이 집  2014-03-04  3603   2896330\n",
              "98  2372                      판게아는 내친구  2014-03-03   568   2896326\n",
              "99  2371                      문화가 있는 날  2014-02-20  1853   2897633\n",
              "\n",
              "[100 rows x 5 columns]"
            ]
          },
          "execution_count": 232,
          "metadata": {},
          "output_type": "execute_result"
        }
      ],
      "source": [
        "# 없는 페이지도 확인\n",
        "get_one_page(page_no=1)"
      ]
    },
    {
      "cell_type": "code",
      "execution_count": null,
      "metadata": {
        "id": "nEefGtrv3oqA",
        "outputId": "5f81fc54-43df-4c5a-f856-19028e1dd120"
      },
      "outputs": [
        {
          "data": {
            "text/plain": [
              "'1000페이지를 찾을 수 없습니다.'"
            ]
          },
          "execution_count": 233,
          "metadata": {},
          "output_type": "execute_result"
        }
      ],
      "source": [
        "# 함수가 잘 동작하는지 확인\n",
        "get_one_page(page_no=1000)"
      ]
    },
    {
      "cell_type": "markdown",
      "metadata": {
        "id": "KtQInTVj3oqA"
      },
      "source": [
        "## 반복문을 통한 여러 페이지 수집하기\n",
        "\n",
        "* 게시물이 없을 때까지 수집하기"
      ]
    },
    {
      "cell_type": "code",
      "execution_count": null,
      "metadata": {
        "id": "ffWiktid3oqB",
        "outputId": "5257f545-869f-439c-9d63-d5dfef290417"
      },
      "outputs": [
        {
          "name": "stdout",
          "output_type": "stream",
          "text": [
            "1, 2, 3, 4, 5, 6, 7, 8, 9, 10, 11, 12, 13, 14, 15, 16, 17, 18, 19, 20, 21, 22, 23, 24, 25, 26, \n",
            "수집이 완료되었습니다.\n"
          ]
        }
      ],
      "source": [
        "import time\n",
        "# time.sleep을 통해 일정 간격 쉬었다가 가져옵니다.\n",
        "# 게시물이 없으면 멈춥니다.\n",
        "page_no = 1\n",
        "table_list = []\n",
        "while True:\n",
        "    print(page_no, end=\", \")\n",
        "    df_one = get_one_page(page_no)\n",
        "    if type(df_one) == str:\n",
        "        print(\"\\n수집이 완료되었습니다.\")\n",
        "        break\n",
        "    table_list.append(df_one)\n",
        "    page_no += 1\n",
        "    time.sleep(0.01)"
      ]
    },
    {
      "cell_type": "markdown",
      "metadata": {
        "id": "Dk5tikiY3oqC"
      },
      "source": [
        "## 데이터 병합하기"
      ]
    },
    {
      "cell_type": "code",
      "execution_count": null,
      "metadata": {
        "id": "LGQbf-lp3oqD",
        "outputId": "fcf204a0-5b53-4735-8bd9-1aa1ef846182"
      },
      "outputs": [
        {
          "data": {
            "text/html": [
              "<div>\n",
              "<style scoped>\n",
              "    .dataframe tbody tr th:only-of-type {\n",
              "        vertical-align: middle;\n",
              "    }\n",
              "\n",
              "    .dataframe tbody tr th {\n",
              "        vertical-align: top;\n",
              "    }\n",
              "\n",
              "    .dataframe thead th {\n",
              "        text-align: right;\n",
              "    }\n",
              "</style>\n",
              "<table border=\"1\" class=\"dataframe\">\n",
              "  <thead>\n",
              "    <tr style=\"text-align: right;\">\n",
              "      <th></th>\n",
              "      <th>번호</th>\n",
              "      <th>제목</th>\n",
              "      <th>생산일</th>\n",
              "      <th>조회수</th>\n",
              "      <th>내용번호</th>\n",
              "    </tr>\n",
              "  </thead>\n",
              "  <tbody>\n",
              "    <tr>\n",
              "      <th>0</th>\n",
              "      <td>2470</td>\n",
              "      <td>다자녀가정 실내 바닥매트 지원</td>\n",
              "      <td>2021-08-17</td>\n",
              "      <td>157</td>\n",
              "      <td>25670204</td>\n",
              "    </tr>\n",
              "    <tr>\n",
              "      <th>1</th>\n",
              "      <td>2469</td>\n",
              "      <td>[서울산업진흥원] 서울메이드란?</td>\n",
              "      <td>2021-06-29</td>\n",
              "      <td>675</td>\n",
              "      <td>23194045</td>\n",
              "    </tr>\n",
              "    <tr>\n",
              "      <th>2</th>\n",
              "      <td>2468</td>\n",
              "      <td>광진맘택시 운영(임산부,영아 양육가정 전용 택시)</td>\n",
              "      <td>2021-05-13</td>\n",
              "      <td>712</td>\n",
              "      <td>22904492</td>\n",
              "    </tr>\n",
              "    <tr>\n",
              "      <th>3</th>\n",
              "      <td>2467</td>\n",
              "      <td>마포 뇌병변장애인 비전센터</td>\n",
              "      <td>2021-03-12</td>\n",
              "      <td>840</td>\n",
              "      <td>22477798</td>\n",
              "    </tr>\n",
              "    <tr>\n",
              "      <th>4</th>\n",
              "      <td>2466</td>\n",
              "      <td>위드유 서울 직장 성희롱.성폭력 예방센터</td>\n",
              "      <td>2020-09-16</td>\n",
              "      <td>1177</td>\n",
              "      <td>21212235</td>\n",
              "    </tr>\n",
              "    <tr>\n",
              "      <th>...</th>\n",
              "      <td>...</td>\n",
              "      <td>...</td>\n",
              "      <td>...</td>\n",
              "      <td>...</td>\n",
              "      <td>...</td>\n",
              "    </tr>\n",
              "    <tr>\n",
              "      <th>65</th>\n",
              "      <td>5</td>\n",
              "      <td>이미 지정된 재정비촉진지구의 인접지를 추가 확장하고 싶은데 어떻게 해야 하나요?</td>\n",
              "      <td>2007-01-07</td>\n",
              "      <td>374</td>\n",
              "      <td>2894353</td>\n",
              "    </tr>\n",
              "    <tr>\n",
              "      <th>66</th>\n",
              "      <td>4</td>\n",
              "      <td>수돗물의 톤당 원가는?</td>\n",
              "      <td>2007-01-07</td>\n",
              "      <td>344</td>\n",
              "      <td>19353862</td>\n",
              "    </tr>\n",
              "    <tr>\n",
              "      <th>67</th>\n",
              "      <td>3</td>\n",
              "      <td>출산휴가후 집근처에 안심하고 맡길 수 있는 어린이집이 있는지?</td>\n",
              "      <td>2007-01-07</td>\n",
              "      <td>326</td>\n",
              "      <td>19699584</td>\n",
              "    </tr>\n",
              "    <tr>\n",
              "      <th>68</th>\n",
              "      <td>2</td>\n",
              "      <td>자동차검사장을 지정받고자 하는데 어떻게 해야 하나요?</td>\n",
              "      <td>2007-01-07</td>\n",
              "      <td>292</td>\n",
              "      <td>2898293</td>\n",
              "    </tr>\n",
              "    <tr>\n",
              "      <th>69</th>\n",
              "      <td>1</td>\n",
              "      <td>폐기대상 문서의 폐기는 어떻게 하나요?</td>\n",
              "      <td>2007-01-07</td>\n",
              "      <td>281</td>\n",
              "      <td>19431143</td>\n",
              "    </tr>\n",
              "  </tbody>\n",
              "</table>\n",
              "<p>2470 rows × 5 columns</p>\n",
              "</div>"
            ],
            "text/plain": [
              "      번호                                            제목         생산일   조회수  \\\n",
              "0   2470                              다자녀가정 실내 바닥매트 지원  2021-08-17   157   \n",
              "1   2469                             [서울산업진흥원] 서울메이드란?  2021-06-29   675   \n",
              "2   2468                   광진맘택시 운영(임산부,영아 양육가정 전용 택시)  2021-05-13   712   \n",
              "3   2467                                마포 뇌병변장애인 비전센터  2021-03-12   840   \n",
              "4   2466                        위드유 서울 직장 성희롱.성폭력 예방센터  2020-09-16  1177   \n",
              "..   ...                                           ...         ...   ...   \n",
              "65     5  이미 지정된 재정비촉진지구의 인접지를 추가 확장하고 싶은데 어떻게 해야 하나요?  2007-01-07   374   \n",
              "66     4                                  수돗물의 톤당 원가는?  2007-01-07   344   \n",
              "67     3            출산휴가후 집근처에 안심하고 맡길 수 있는 어린이집이 있는지?  2007-01-07   326   \n",
              "68     2                 자동차검사장을 지정받고자 하는데 어떻게 해야 하나요?  2007-01-07   292   \n",
              "69     1                         폐기대상 문서의 폐기는 어떻게 하나요?  2007-01-07   281   \n",
              "\n",
              "        내용번호  \n",
              "0   25670204  \n",
              "1   23194045  \n",
              "2   22904492  \n",
              "3   22477798  \n",
              "4   21212235  \n",
              "..       ...  \n",
              "65   2894353  \n",
              "66  19353862  \n",
              "67  19699584  \n",
              "68   2898293  \n",
              "69  19431143  \n",
              "\n",
              "[2470 rows x 5 columns]"
            ]
          },
          "execution_count": 235,
          "metadata": {},
          "output_type": "execute_result"
        }
      ],
      "source": [
        "# 여러 페이지의 내용을 하나로 병합합니다.\n",
        "df = pd.concat(table_list)\n",
        "df"
      ]
    },
    {
      "cell_type": "markdown",
      "metadata": {
        "id": "W4-D_wQx3oqD"
      },
      "source": [
        "## 데이터 파일로 저장하기"
      ]
    },
    {
      "cell_type": "code",
      "execution_count": null,
      "metadata": {
        "id": "nFaAjGmL3oqE"
      },
      "outputs": [],
      "source": [
        "# 저장할 파일명\n",
        "file_name = \"seoul-120-list.csv\""
      ]
    },
    {
      "cell_type": "code",
      "execution_count": null,
      "metadata": {
        "id": "rKCoHipK3oqE"
      },
      "outputs": [],
      "source": [
        "# CSV 파일로 저장하기\n",
        "df.to_csv(file_name, index=False)"
      ]
    },
    {
      "cell_type": "code",
      "execution_count": null,
      "metadata": {
        "id": "01PcIZ_B3oqF",
        "outputId": "9b9a0a88-b946-4f5c-9c8d-62cb8b9d2c22"
      },
      "outputs": [
        {
          "data": {
            "text/html": [
              "<div>\n",
              "<style scoped>\n",
              "    .dataframe tbody tr th:only-of-type {\n",
              "        vertical-align: middle;\n",
              "    }\n",
              "\n",
              "    .dataframe tbody tr th {\n",
              "        vertical-align: top;\n",
              "    }\n",
              "\n",
              "    .dataframe thead th {\n",
              "        text-align: right;\n",
              "    }\n",
              "</style>\n",
              "<table border=\"1\" class=\"dataframe\">\n",
              "  <thead>\n",
              "    <tr style=\"text-align: right;\">\n",
              "      <th></th>\n",
              "      <th>번호</th>\n",
              "      <th>제목</th>\n",
              "      <th>생산일</th>\n",
              "      <th>조회수</th>\n",
              "      <th>내용번호</th>\n",
              "    </tr>\n",
              "  </thead>\n",
              "  <tbody>\n",
              "    <tr>\n",
              "      <th>0</th>\n",
              "      <td>2470</td>\n",
              "      <td>다자녀가정 실내 바닥매트 지원</td>\n",
              "      <td>2021-08-17</td>\n",
              "      <td>157</td>\n",
              "      <td>25670204</td>\n",
              "    </tr>\n",
              "    <tr>\n",
              "      <th>1</th>\n",
              "      <td>2469</td>\n",
              "      <td>[서울산업진흥원] 서울메이드란?</td>\n",
              "      <td>2021-06-29</td>\n",
              "      <td>675</td>\n",
              "      <td>23194045</td>\n",
              "    </tr>\n",
              "    <tr>\n",
              "      <th>2</th>\n",
              "      <td>2468</td>\n",
              "      <td>광진맘택시 운영(임산부,영아 양육가정 전용 택시)</td>\n",
              "      <td>2021-05-13</td>\n",
              "      <td>712</td>\n",
              "      <td>22904492</td>\n",
              "    </tr>\n",
              "    <tr>\n",
              "      <th>3</th>\n",
              "      <td>2467</td>\n",
              "      <td>마포 뇌병변장애인 비전센터</td>\n",
              "      <td>2021-03-12</td>\n",
              "      <td>840</td>\n",
              "      <td>22477798</td>\n",
              "    </tr>\n",
              "    <tr>\n",
              "      <th>4</th>\n",
              "      <td>2466</td>\n",
              "      <td>위드유 서울 직장 성희롱.성폭력 예방센터</td>\n",
              "      <td>2020-09-16</td>\n",
              "      <td>1177</td>\n",
              "      <td>21212235</td>\n",
              "    </tr>\n",
              "    <tr>\n",
              "      <th>...</th>\n",
              "      <td>...</td>\n",
              "      <td>...</td>\n",
              "      <td>...</td>\n",
              "      <td>...</td>\n",
              "      <td>...</td>\n",
              "    </tr>\n",
              "    <tr>\n",
              "      <th>2465</th>\n",
              "      <td>5</td>\n",
              "      <td>이미 지정된 재정비촉진지구의 인접지를 추가 확장하고 싶은데 어떻게 해야 하나요?</td>\n",
              "      <td>2007-01-07</td>\n",
              "      <td>374</td>\n",
              "      <td>2894353</td>\n",
              "    </tr>\n",
              "    <tr>\n",
              "      <th>2466</th>\n",
              "      <td>4</td>\n",
              "      <td>수돗물의 톤당 원가는?</td>\n",
              "      <td>2007-01-07</td>\n",
              "      <td>344</td>\n",
              "      <td>19353862</td>\n",
              "    </tr>\n",
              "    <tr>\n",
              "      <th>2467</th>\n",
              "      <td>3</td>\n",
              "      <td>출산휴가후 집근처에 안심하고 맡길 수 있는 어린이집이 있는지?</td>\n",
              "      <td>2007-01-07</td>\n",
              "      <td>326</td>\n",
              "      <td>19699584</td>\n",
              "    </tr>\n",
              "    <tr>\n",
              "      <th>2468</th>\n",
              "      <td>2</td>\n",
              "      <td>자동차검사장을 지정받고자 하는데 어떻게 해야 하나요?</td>\n",
              "      <td>2007-01-07</td>\n",
              "      <td>292</td>\n",
              "      <td>2898293</td>\n",
              "    </tr>\n",
              "    <tr>\n",
              "      <th>2469</th>\n",
              "      <td>1</td>\n",
              "      <td>폐기대상 문서의 폐기는 어떻게 하나요?</td>\n",
              "      <td>2007-01-07</td>\n",
              "      <td>281</td>\n",
              "      <td>19431143</td>\n",
              "    </tr>\n",
              "  </tbody>\n",
              "</table>\n",
              "<p>2470 rows × 5 columns</p>\n",
              "</div>"
            ],
            "text/plain": [
              "        번호                                            제목         생산일   조회수  \\\n",
              "0     2470                              다자녀가정 실내 바닥매트 지원  2021-08-17   157   \n",
              "1     2469                             [서울산업진흥원] 서울메이드란?  2021-06-29   675   \n",
              "2     2468                   광진맘택시 운영(임산부,영아 양육가정 전용 택시)  2021-05-13   712   \n",
              "3     2467                                마포 뇌병변장애인 비전센터  2021-03-12   840   \n",
              "4     2466                        위드유 서울 직장 성희롱.성폭력 예방센터  2020-09-16  1177   \n",
              "...    ...                                           ...         ...   ...   \n",
              "2465     5  이미 지정된 재정비촉진지구의 인접지를 추가 확장하고 싶은데 어떻게 해야 하나요?  2007-01-07   374   \n",
              "2466     4                                  수돗물의 톤당 원가는?  2007-01-07   344   \n",
              "2467     3            출산휴가후 집근처에 안심하고 맡길 수 있는 어린이집이 있는지?  2007-01-07   326   \n",
              "2468     2                 자동차검사장을 지정받고자 하는데 어떻게 해야 하나요?  2007-01-07   292   \n",
              "2469     1                         폐기대상 문서의 폐기는 어떻게 하나요?  2007-01-07   281   \n",
              "\n",
              "          내용번호  \n",
              "0     25670204  \n",
              "1     23194045  \n",
              "2     22904492  \n",
              "3     22477798  \n",
              "4     21212235  \n",
              "...        ...  \n",
              "2465   2894353  \n",
              "2466  19353862  \n",
              "2467  19699584  \n",
              "2468   2898293  \n",
              "2469  19431143  \n",
              "\n",
              "[2470 rows x 5 columns]"
            ]
          },
          "execution_count": 238,
          "metadata": {},
          "output_type": "execute_result"
        }
      ],
      "source": [
        "# 저장한 파일 확인\n",
        "pd.read_csv(file_name)"
      ]
    },
    {
      "cell_type": "code",
      "execution_count": null,
      "metadata": {
        "id": "VvalNYOy3oqG"
      },
      "outputs": [],
      "source": [
        ""
      ]
    }
  ],
  "metadata": {
    "kernelspec": {
      "display_name": "Python 3 (ipykernel)",
      "language": "python",
      "name": "python3"
    },
    "language_info": {
      "codemirror_mode": {
        "name": "ipython",
        "version": 3
      },
      "file_extension": ".py",
      "mimetype": "text/x-python",
      "name": "python",
      "nbconvert_exporter": "python",
      "pygments_lexer": "ipython3",
      "version": "3.7.6"
    },
    "toc": {
      "base_numbering": 1,
      "nav_menu": {},
      "number_sections": true,
      "sideBar": true,
      "skip_h1_title": false,
      "title_cell": "Table of Contents",
      "title_sidebar": "Contents",
      "toc_cell": false,
      "toc_position": {},
      "toc_section_display": true,
      "toc_window_display": true
    },
    "varInspector": {
      "cols": {
        "lenName": 16,
        "lenType": 16,
        "lenVar": 40
      },
      "kernels_config": {
        "python": {
          "delete_cmd_postfix": "",
          "delete_cmd_prefix": "del ",
          "library": "var_list.py",
          "varRefreshCmd": "print(var_dic_list())"
        },
        "r": {
          "delete_cmd_postfix": ") ",
          "delete_cmd_prefix": "rm(",
          "library": "var_list.r",
          "varRefreshCmd": "cat(var_dic_list()) "
        }
      },
      "types_to_exclude": [
        "module",
        "function",
        "builtin_function_or_method",
        "instance",
        "_Feature"
      ],
      "window_display": false
    },
    "colab": {
      "name": "0204-seoul-120-list-scrapping-output.ipynb",
      "provenance": []
    }
  },
  "nbformat": 4,
  "nbformat_minor": 0
}