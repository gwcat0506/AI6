{
  "cells": [
    {
      "cell_type": "markdown",
      "metadata": {
        "id": "pOdYzjmEAGhg"
      },
      "source": [
        "## 네이버 금융 개별종목 수집\n",
        "\n",
        "1. 수집 하고자 하는 페이지의 URL을 알아본다.\n",
        "1. 파이썬의 작은 브라우저 requests 를 통해 URL에 접근한다.\n",
        "1. response.status_code 가 200 OK 라면 정상 응답입니다.\n",
        "1. request의 response 값에서 response.text 만 받아옵니다.\n",
        "1. html 텍스트를 받아왔다면  BeautifulSoup 로 html 을 해석합니다.\n",
        "1. soup.select 를 통해 원하는 태그에 접근합니다.\n",
        "1. 목록을 먼저 받아옵니다.\n",
        "1. 목록에서 행을 하나씩 가져옵니다.\n",
        "1. 행을 모아서 데이터프레임으로 만듭니다.\n",
        "=> 판다스라면 read_html로 table로 된 태그에 대해 위 과정을 코드 한 줄로 해줍니다.\n",
        "\n",
        "\n",
        "\n",
        "### Keyword\n",
        "\n",
        "* html 파일 읽어오기\n",
        "    * pd.read_html(url, encoding=\"cp949\")\n",
        "\n",
        "* 결측 데이터 제거하기(axis 0:행, 1:열)\n",
        "    * table[0].dropna()\n",
        "\n",
        "* 데이터 프레임 합치기\n",
        "    * pd.concat([df1, df2, df3])\n",
        "\n",
        "* 중복데이터 제거\n",
        "    * df.drop_duplicates()\n",
        "\n",
        "* 과학적 기수법\n",
        "    * 1.210000e+02 => 121\n",
        "\n",
        "* 날짜 column의 첫 row값 확인\n",
        "    * date = df.iloc[0][\"날짜\"]\n",
        "\n",
        "* 파일로 저장하기 \n",
        "    * df.to_csv(file_name, index=False)\n",
        "\n",
        "* 파일 읽어오기\n",
        "    * pd.read_csv(file_name)"
      ]
    },
    {
      "cell_type": "markdown",
      "metadata": {
        "id": "-lIn4AdJTMkA"
      },
      "source": [
        "## 수집할 페이지 보기\n",
        "\n",
        "* 네이버 금융 국내증시 : https://finance.naver.com/sise/\n",
        "* 주요 종목\n",
        "    * 삼성전자 : https://finance.naver.com/item/main.naver?code=005930\n",
        "    * 현대차 : https://finance.naver.com/item/main.naver?code=005380\n",
        "    * SK하이닉스 : https://finance.naver.com/item/main.naver?code=000660"
      ]
    },
    {
      "cell_type": "markdown",
      "metadata": {
        "id": "2TQ3QBpMpzJ7"
      },
      "source": [
        "## 라이브러리 로드"
      ]
    },
    {
      "cell_type": "code",
      "execution_count": null,
      "metadata": {
        "id": "6Mm8vuymTMkA"
      },
      "outputs": [],
      "source": [
        "# 라이브러리 로드\n",
        "import pandas as pd\n",
        "import numpy as np"
      ]
    },
    {
      "cell_type": "markdown",
      "metadata": {
        "id": "u6LPTaoRpzJ8"
      },
      "source": [
        "## 수집할 URL 정하기"
      ]
    },
    {
      "cell_type": "code",
      "execution_count": null,
      "metadata": {
        "id": "QzZJoAvoTMkA",
        "scrolled": true,
        "outputId": "04db27ed-b723-487f-f10f-05cbc69839f5"
      },
      "outputs": [
        {
          "name": "stdout",
          "output_type": "stream",
          "text": [
            "https://finance.naver.com/item/sise_day.naver?code=005930&page=5\n"
          ]
        }
      ],
      "source": [
        "# 종목번호와 상장사 이름을 item_code와 item_name으로 설정\n",
        "# item_code = \"323410\"\n",
        "# item_name = \"카카오뱅크\"\n",
        "\n",
        "item_code = \"005930\"\n",
        "item_name = \"삼성전자\"\n",
        "\n",
        "# 종목 URL 만들기\n",
        "url = f\"https://finance.naver.com/item/sise_day.naver?code={item_code}&page=5\"\n",
        "print(url)"
      ]
    },
    {
      "cell_type": "markdown",
      "metadata": {
        "id": "omqDL0q0pzJ9"
      },
      "source": [
        "## requests를 통한 HTTP 요청\n",
        "* [Requests: HTTP for Humans™ — Requests documentation](https://requests.readthedocs.io/en/master/)\n",
        "* [Quickstart — Requests documentation # custom-headers](https://requests.readthedocs.io/en/latest/user/quickstart/#custom-headers)"
      ]
    },
    {
      "cell_type": "code",
      "execution_count": null,
      "metadata": {
        "id": "4N9pP-4EpzJ-",
        "scrolled": true,
        "outputId": "71f53e05-04dd-4444-9674-901e535a7312"
      },
      "outputs": [
        {
          "name": "stdout",
          "output_type": "stream",
          "text": [
            "Mozilla/5.0 (Macintosh; Intel Mac OS X 10_15_7) AppleWebKit/537.36 (KHTML, like Gecko) Chrome/101.0.4951.64 Safari/537.36\n"
          ]
        },
        {
          "data": {
            "text/plain": [
              "200"
            ]
          },
          "execution_count": 30,
          "metadata": {},
          "output_type": "execute_result"
        }
      ],
      "source": [
        "import requests\n",
        "\n",
        "headers = {\"user-agent\": \"Mozilla/5.0 (Macintosh; Intel Mac OS X 10_15_7) AppleWebKit/537.36 (KHTML, like Gecko) Chrome/101.0.4951.64 Safari/537.36\"}\n",
        "print(headers[\"user-agent\"])\n",
        "\n",
        "response = requests.get(url, headers=headers)\n",
        "response.status_code"
      ]
    },
    {
      "cell_type": "code",
      "execution_count": null,
      "metadata": {
        "id": "JywkNegg3kw4",
        "outputId": "e8febe96-4eaf-4051-c1d6-56761506b699"
      },
      "outputs": [
        {
          "name": "stdout",
          "output_type": "stream",
          "text": [
            "https://finance.naver.com/item/sise_day.naver?code=005930&page=5\n"
          ]
        }
      ],
      "source": [
        "print(url)"
      ]
    },
    {
      "cell_type": "code",
      "execution_count": null,
      "metadata": {
        "id": "SIMfSDvo3kw5",
        "outputId": "bf4d66be-f6f3-4901-bda4-7e80ce85d3b8"
      },
      "outputs": [
        {
          "data": {
            "text/plain": [
              "'\\n<html lang=\"ko\">\\n<head>\\n<meta http-equiv=\"Content-Type\" content=\"text/html; charset=euc-kr\">\\n<title>네이버 금융</title>\\n\\n<link rel=\"stylesheet\" type=\"text/css\" href=\"https://ssl.pstatic.net/imgstock/static.pc/20220511192542/css/newstock.css\">\\n<link rel=\"stylesheet\" type=\"text/css\" href=\"https://ssl.pstatic.net/imgstock/static.pc/20220511192542/css/common.css\">\\n<link rel=\"stylesheet\" type=\"text/css\" href=\"https://ssl.pstatic.net/imgstock/static.pc/20220511192542/css/layout.css\">\\n<link rel=\"stylesheet\" type=\"text/css\" href=\"https://ssl.pstatic.net/imgstock/static.pc/20220511192542/css/main.css\">\\n<link rel=\"stylesheet\" type=\"text/css\" href=\"https://ssl.pstatic.net/imgstock/static.pc/20220511192542/css/newstock2.css\">\\n<link rel=\"stylesheet\" type=\"text/css\" href=\"https://ssl.pstatic.net/imgstock/static.pc/20220511192542/css/newstock3.css\">\\n<link rel=\"stylesheet\" type=\"text/css\" href=\"https://ssl.pstatic.net/imgstock/static.pc/20220511192542/css/world.css\">\\n</head>\\n<body>\\n<script language=\"JavaScript\">\\nfunction mouseOver(obj){\\n  obj.style.backgroundColor=\"#f6f4e5\";\\n}\\nfunction mouseOut(obj){\\n  obj.style.backgroundColor=\"#ffffff\";\\n}\\n</script>\\n\\t\\t\\t\\t<h4 class=\"tlline2\"><strong><span class=\"red03\">일별</span>시세</strong></h4>\\t\\t\\t\\n\\t\\t\\t\\t<table cellspacing=\"0\" class=\"type2\">\\n\\t\\t\\t\\t<tr>\\n\\t\\t\\t\\t<th>날짜</th>\\n\\t\\t\\t\\t<th>종가</th>\\n\\t\\t\\t\\t<th>전일비</th>\\n\\t\\t\\t\\t<th>시가</th>\\n\\t\\t\\t\\t<th>고가</th>\\n\\t\\t\\t\\t<th>저가</th>\\n\\t\\t\\t\\t<th>거래량</th>\\n\\t\\t\\t\\t</tr>\\n\\t\\t\\t\\t<tr>\\n\\t\\t\\t\\t<td colspan=\"7\" height=\"8\"></td>\\n\\t\\t\\t\\t</tr>\\n\\n\\n\\t\\n\\t\\n\\t\\n\\t\\t\\n\\t\\t\\t\\n\\t\\t\\t\\t\\n\\t\\t\\t\\t\\t<tr onMouseOver=\"mouseOver(this)\" onMouseOut=\"mouseOut(this)\">\\n\\t\\t\\t\\t\\t<td align=\"center\"><span class=\"tah p10 gray03\">2022.03.21</span></td>\\n\\t\\t\\t\\t\\t<td class=\"num\"><span class=\"tah p11\">69,900</span></td>\\n\\t\\t\\t\\t\\t<td class=\"num\">\\n\\t\\t\\t\\t<img src=\"https://ssl.pstatic.net/imgstock/images/images4/ico_down.gif\" width=\"7\" height=\"6\" style=\"margin-right:4px;\" alt=\"하락\"><span class=\"tah p11 nv01\">\\n\\t\\t\\t\\t800\\n\\t\\t\\t\\t</span>\\n\\t\\t\\t</td>\\n\\t\\t\\t\\t\\t<td class=\"num\"><span class=\"tah p11\">70,900</span></td>\\n\\t\\t\\t\\t\\t<td class=\"num\"><span class=\"tah p11\">71,000</span></td>\\n\\t\\t\\t\\t\\t<td class=\"num\"><span class=\"tah p11\">69,900</span></td>\\n\\t\\t\\t\\t\\t<td class=\"num\"><span class=\"tah p11\">11,169,002</span></td>\\n\\t\\t\\t\\t\\t</tr>\\n\\t\\t\\t\\t\\n\\t\\t\\t\\t\\n\\t\\t\\t\\n\\t\\t\\t\\n\\t\\t\\t\\n\\t\\t\\t\\n\\t\\t\\t\\n\\t\\n\\t\\t\\n\\t\\t\\t\\n\\t\\t\\t\\t\\n\\t\\t\\t\\t\\t<tr onMouseOver=\"mouseOver(this)\" onMouseOut=\"mouseOut(this)\">\\n\\t\\t\\t\\t\\t<td align=\"center\"><span class=\"tah p10 gray03\">2022.03.18</span></td>\\n\\t\\t\\t\\t\\t<td class=\"num\"><span class=\"tah p11\">70,700</span></td>\\n\\t\\t\\t\\t\\t<td class=\"num\">\\n\\t\\t\\t\\t<img src=\"https://ssl.pstatic.net/imgstock/images/images4/ico_down.gif\" width=\"7\" height=\"6\" style=\"margin-right:4px;\" alt=\"하락\"><span class=\"tah p11 nv01\">\\n\\t\\t\\t\\t500\\n\\t\\t\\t\\t</span>\\n\\t\\t\\t</td>\\n\\t\\t\\t\\t\\t<td class=\"num\"><span class=\"tah p11\">70,600</span></td>\\n\\t\\t\\t\\t\\t<td class=\"num\"><span class=\"tah p11\">70,900</span></td>\\n\\t\\t\\t\\t\\t<td class=\"num\"><span class=\"tah p11\">70,200</span></td>\\n\\t\\t\\t\\t\\t<td class=\"num\"><span class=\"tah p11\">14,410,038</span></td>\\n\\t\\t\\t\\t\\t</tr>\\n\\t\\t\\t\\t\\n\\t\\t\\t\\t\\n\\t\\t\\t\\n\\t\\t\\t\\n\\t\\t\\t\\n\\t\\t\\t\\n\\t\\t\\t\\n\\t\\n\\t\\t\\n\\t\\t\\t\\n\\t\\t\\t\\t\\n\\t\\t\\t\\t\\t<tr onMouseOver=\"mouseOver(this)\" onMouseOut=\"mouseOut(this)\">\\n\\t\\t\\t\\t\\t<td align=\"center\"><span class=\"tah p10 gray03\">2022.03.17</span></td>\\n\\t\\t\\t\\t\\t<td class=\"num\"><span class=\"tah p11\">71,200</span></td>\\n\\t\\t\\t\\t\\t<td class=\"num\">\\n\\t\\t\\t\\t<img src=\"https://ssl.pstatic.net/imgstock/images/images4/ico_up.gif\" width=\"7\" height=\"6\" style=\"margin-right:4px;\" alt=\"상승\"><span class=\"tah p11 red02\">\\n\\t\\t\\t\\t800\\n\\t\\t\\t\\t</span>\\n\\t\\t\\t</td>\\n\\t\\t\\t\\t\\t<td class=\"num\"><span class=\"tah p11\">71,200</span></td>\\n\\t\\t\\t\\t\\t<td class=\"num\"><span class=\"tah p11\">71,800</span></td>\\n\\t\\t\\t\\t\\t<td class=\"num\"><span class=\"tah p11\">70,900</span></td>\\n\\t\\t\\t\\t\\t<td class=\"num\"><span class=\"tah p11\">17,646,315</span></td>\\n\\t\\t\\t\\t\\t</tr>\\n\\t\\t\\t\\t\\n\\t\\t\\t\\t\\n\\t\\t\\t\\n\\t\\t\\t\\n\\t\\t\\t\\n\\t\\t\\t\\n\\t\\t\\t\\n\\t\\n\\t\\t\\n\\t\\t\\t\\n\\t\\t\\t\\t\\n\\t\\t\\t\\t\\t<tr onMouseOver=\"mouseOver(this)\" onMouseOut=\"mouseOut(this)\">\\n\\t\\t\\t\\t\\t<td align=\"center\"><span class=\"tah p10 gray03\">2022.03.16</span></td>\\n\\t\\t\\t\\t\\t<td class=\"num\"><span class=\"tah p11\">70,400</span></td>\\n\\t\\t\\t\\t\\t<td class=\"num\">\\n\\t\\t\\t\\t<img src=\"https://ssl.pstatic.net/imgstock/images/images4/ico_up.gif\" width=\"7\" height=\"6\" style=\"margin-right:4px;\" alt=\"상승\"><span class=\"tah p11 red02\">\\n\\t\\t\\t\\t900\\n\\t\\t\\t\\t</span>\\n\\t\\t\\t</td>\\n\\t\\t\\t\\t\\t<td class=\"num\"><span class=\"tah p11\">70,200</span></td>\\n\\t\\t\\t\\t\\t<td class=\"num\"><span class=\"tah p11\">70,500</span></td>\\n\\t\\t\\t\\t\\t<td class=\"num\"><span class=\"tah p11\">69,700</span></td>\\n\\t\\t\\t\\t\\t<td class=\"num\"><span class=\"tah p11\">10,175,750</span></td>\\n\\t\\t\\t\\t\\t</tr>\\n\\t\\t\\t\\t\\n\\t\\t\\t\\t\\n\\t\\t\\t\\n\\t\\t\\t\\n\\t\\t\\t\\n\\t\\t\\t\\n\\t\\t\\t\\n\\t\\n\\t\\t\\n\\t\\t\\t\\n\\t\\t\\t\\t\\n\\t\\t\\t\\t\\t<tr onMouseOver=\"mouseOver(this)\" onMouseOut=\"mouseOut(this)\">\\n\\t\\t\\t\\t\\t<td align=\"center\"><span class=\"tah p10 gray03\">2022.03.15</span></td>\\n\\t\\t\\t\\t\\t<td class=\"num\"><span class=\"tah p11\">69,500</span></td>\\n\\t\\t\\t\\t\\t<td class=\"num\">\\n\\t\\t\\t\\t<img src=\"https://ssl.pstatic.net/imgstock/images/images4/ico_down.gif\" width=\"7\" height=\"6\" style=\"margin-right:4px;\" alt=\"하락\"><span class=\"tah p11 nv01\">\\n\\t\\t\\t\\t700\\n\\t\\t\\t\\t</span>\\n\\t\\t\\t</td>\\n\\t\\t\\t\\t\\t<td class=\"num\"><span class=\"tah p11\">69,800</span></td>\\n\\t\\t\\t\\t\\t<td class=\"num\"><span class=\"tah p11\">70,100</span></td>\\n\\t\\t\\t\\t\\t<td class=\"num\"><span class=\"tah p11\">69,500</span></td>\\n\\t\\t\\t\\t\\t<td class=\"num\"><span class=\"tah p11\">10,258,562</span></td>\\n\\t\\t\\t\\t\\t</tr>\\n\\t\\t\\t\\t\\n\\t\\t\\t\\t\\n\\t\\t\\t\\n\\t\\t\\t\\n\\t\\t\\t\\n\\t\\t\\t\\n\\t\\t\\t\\t<tr>\\n\\t\\t\\t\\t<td colspan=\"7\" height=\"8\"></td>\\n\\t\\t\\t\\t</tr>\\n\\t\\t\\t\\t<tr>\\n\\t\\t\\t\\t<td colspan=\"7\" height=\"1\" bgcolor=\"#e1e1e1\"></td>\\n\\t\\t\\t\\t</tr>\\n\\t\\t\\t\\t<tr>\\n\\t\\t\\t\\t<td colspan=\"7\" height=\"8\"></td>\\n\\t\\t\\t\\t</tr>\\n\\t\\t\\t\\n\\t\\t\\t\\n\\t\\n\\t\\t\\n\\t\\t\\t\\n\\t\\t\\t\\t\\n\\t\\t\\t\\t\\t<tr onMouseOver=\"mouseOver(this)\" onMouseOut=\"mouseOut(this)\">\\n\\t\\t\\t\\t\\t<td align=\"center\"><span class=\"tah p10 gray03\">2022.03.14</span></td>\\n\\t\\t\\t\\t\\t<td class=\"num\"><span class=\"tah p11\">70,200</span></td>\\n\\t\\t\\t\\t\\t<td class=\"num\">\\n\\t\\t\\t\\t<img src=\"https://ssl.pstatic.net/imgstock/images/images4/ico_up.gif\" width=\"7\" height=\"6\" style=\"margin-right:4px;\" alt=\"상승\"><span class=\"tah p11 red02\">\\n\\t\\t\\t\\t200\\n\\t\\t\\t\\t</span>\\n\\t\\t\\t</td>\\n\\t\\t\\t\\t\\t<td class=\"num\"><span class=\"tah p11\">70,000</span></td>\\n\\t\\t\\t\\t\\t<td class=\"num\"><span class=\"tah p11\">70,200</span></td>\\n\\t\\t\\t\\t\\t<td class=\"num\"><span class=\"tah p11\">69,600</span></td>\\n\\t\\t\\t\\t\\t<td class=\"num\"><span class=\"tah p11\">9,040,993</span></td>\\n\\t\\t\\t\\t\\t</tr>\\n\\t\\t\\t\\t\\n\\t\\t\\t\\t\\n\\t\\t\\t\\n\\t\\t\\t\\n\\t\\t\\t\\n\\t\\t\\t\\n\\t\\t\\t\\n\\t\\n\\t\\t\\n\\t\\t\\t\\n\\t\\t\\t\\t\\n\\t\\t\\t\\t\\t<tr onMouseOver=\"mouseOver(this)\" onMouseOut=\"mouseOut(this)\">\\n\\t\\t\\t\\t\\t<td align=\"center\"><span class=\"tah p10 gray03\">2022.03.11</span></td>\\n\\t\\t\\t\\t\\t<td class=\"num\"><span class=\"tah p11\">70,000</span></td>\\n\\t\\t\\t\\t\\t<td class=\"num\">\\n\\t\\t\\t\\t<img src=\"https://ssl.pstatic.net/imgstock/images/images4/ico_down.gif\" width=\"7\" height=\"6\" style=\"margin-right:4px;\" alt=\"하락\"><span class=\"tah p11 nv01\">\\n\\t\\t\\t\\t1,200\\n\\t\\t\\t\\t</span>\\n\\t\\t\\t</td>\\n\\t\\t\\t\\t\\t<td class=\"num\"><span class=\"tah p11\">70,500</span></td>\\n\\t\\t\\t\\t\\t<td class=\"num\"><span class=\"tah p11\">70,700</span></td>\\n\\t\\t\\t\\t\\t<td class=\"num\"><span class=\"tah p11\">69,700</span></td>\\n\\t\\t\\t\\t\\t<td class=\"num\"><span class=\"tah p11\">15,787,655</span></td>\\n\\t\\t\\t\\t\\t</tr>\\n\\t\\t\\t\\t\\n\\t\\t\\t\\t\\n\\t\\t\\t\\n\\t\\t\\t\\n\\t\\t\\t\\n\\t\\t\\t\\n\\t\\t\\t\\n\\t\\n\\t\\t\\n\\t\\t\\t\\n\\t\\t\\t\\t\\n\\t\\t\\t\\t\\t<tr onMouseOver=\"mouseOver(this)\" onMouseOut=\"mouseOut(this)\">\\n\\t\\t\\t\\t\\t<td align=\"center\"><span class=\"tah p10 gray03\">2022.03.10</span></td>\\n\\t\\t\\t\\t\\t<td class=\"num\"><span class=\"tah p11\">71,200</span></td>\\n\\t\\t\\t\\t\\t<td class=\"num\">\\n\\t\\t\\t\\t<img src=\"https://ssl.pstatic.net/imgstock/images/images4/ico_up.gif\" width=\"7\" height=\"6\" style=\"margin-right:4px;\" alt=\"상승\"><span class=\"tah p11 red02\">\\n\\t\\t\\t\\t1,700\\n\\t\\t\\t\\t</span>\\n\\t\\t\\t</td>\\n\\t\\t\\t\\t\\t<td class=\"num\"><span class=\"tah p11\">70,800</span></td>\\n\\t\\t\\t\\t\\t<td class=\"num\"><span class=\"tah p11\">71,200</span></td>\\n\\t\\t\\t\\t\\t<td class=\"num\"><span class=\"tah p11\">70,500</span></td>\\n\\t\\t\\t\\t\\t<td class=\"num\"><span class=\"tah p11\">21,159,248</span></td>\\n\\t\\t\\t\\t\\t</tr>\\n\\t\\t\\t\\t\\n\\t\\t\\t\\t\\n\\t\\t\\t\\n\\t\\t\\t\\n\\t\\t\\t\\n\\t\\t\\t\\n\\t\\t\\t\\n\\t\\n\\t\\t\\n\\t\\t\\t\\n\\t\\t\\t\\t\\n\\t\\t\\t\\t\\t<tr onMouseOver=\"mouseOver(this)\" onMouseOut=\"mouseOut(this)\">\\n\\t\\t\\t\\t\\t<td align=\"center\"><span class=\"tah p10 gray03\">2022.03.08</span></td>\\n\\t\\t\\t\\t\\t<td class=\"num\"><span class=\"tah p11\">69,500</span></td>\\n\\t\\t\\t\\t\\t<td class=\"num\">\\n\\t\\t\\t\\t<img src=\"https://ssl.pstatic.net/imgstock/images/images4/ico_down.gif\" width=\"7\" height=\"6\" style=\"margin-right:4px;\" alt=\"하락\"><span class=\"tah p11 nv01\">\\n\\t\\t\\t\\t600\\n\\t\\t\\t\\t</span>\\n\\t\\t\\t</td>\\n\\t\\t\\t\\t\\t<td class=\"num\"><span class=\"tah p11\">68,800</span></td>\\n\\t\\t\\t\\t\\t<td class=\"num\"><span class=\"tah p11\">70,000</span></td>\\n\\t\\t\\t\\t\\t<td class=\"num\"><span class=\"tah p11\">68,700</span></td>\\n\\t\\t\\t\\t\\t<td class=\"num\"><span class=\"tah p11\">15,828,269</span></td>\\n\\t\\t\\t\\t\\t</tr>\\n\\t\\t\\t\\t\\n\\t\\t\\t\\t\\n\\t\\t\\t\\n\\t\\t\\t\\n\\t\\t\\t\\n\\t\\t\\t\\n\\t\\t\\t\\n\\t\\n\\t\\t\\n\\t\\t\\t\\n\\t\\t\\t\\t\\n\\t\\t\\t\\t\\t<tr onMouseOver=\"mouseOver(this)\" onMouseOut=\"mouseOut(this)\">\\n\\t\\t\\t\\t\\t<td align=\"center\"><span class=\"tah p10 gray03\">2022.03.07</span></td>\\n\\t\\t\\t\\t\\t<td class=\"num\"><span class=\"tah p11\">70,100</span></td>\\n\\t\\t\\t\\t\\t<td class=\"num\">\\n\\t\\t\\t\\t<img src=\"https://ssl.pstatic.net/imgstock/images/images4/ico_down.gif\" width=\"7\" height=\"6\" style=\"margin-right:4px;\" alt=\"하락\"><span class=\"tah p11 nv01\">\\n\\t\\t\\t\\t1,400\\n\\t\\t\\t\\t</span>\\n\\t\\t\\t</td>\\n\\t\\t\\t\\t\\t<td class=\"num\"><span class=\"tah p11\">70,000</span></td>\\n\\t\\t\\t\\t\\t<td class=\"num\"><span class=\"tah p11\">70,600</span></td>\\n\\t\\t\\t\\t\\t<td class=\"num\"><span class=\"tah p11\">69,900</span></td>\\n\\t\\t\\t\\t\\t<td class=\"num\"><span class=\"tah p11\">18,617,138</span></td>\\n\\t\\t\\t\\t\\t</tr>\\n\\t\\t\\t\\t\\n\\t\\t\\t\\t\\n\\t\\t\\t\\n\\t\\t\\t\\n\\t\\t\\t\\n\\t\\t\\t\\n\\t\\t\\t\\n\\t\\n\\t\\t\\n\\t\\n\\n\\t\\t\\t\\t<tr>\\n\\t\\t\\t\\t<td colspan=\"7\" height=\"8\"></td>\\n\\t\\t\\t\\t</tr>\\n\\t\\t\\t\\t</table>\\n\\t\\t\\t\\t<!--- 페이지 네비게이션 시작--->\\n\\t\\t\\t\\t<table summary=\"페이지 네비게이션 리스트\" class=\"Nnavi\" align=\"center\">\\n\\t\\t\\t\\t<caption>페이지 네비게이션</caption>\\n\\t\\t\\t\\t<tr>\\t\\t\\n\\t\\t\\t\\n\\t\\t\\t\\t<td class=\"pgLL\">\\n\\t\\t\\t\\t<a href=\"/item/sise_day.naver?code=005930&amp;page=1\"  >\\n\\t\\t\\t\\t<img src=\"https://ssl.pstatic.net/static/n/cmn/bu_pgarLL.gif\" width=\"7\" height=\"5\" alt=\"\">맨앞\\n\\t\\t\\t\\t</a>\\n\\t\\t\\t\\t</td>\\n\\n                \\n                <td>\\n\\t\\t\\t\\t<a href=\"/item/sise_day.naver?code=005930&amp;page=1\"  >1</a>\\n\\t\\t\\t\\t</td>\\n<td>\\n\\t\\t\\t\\t<a href=\"/item/sise_day.naver?code=005930&amp;page=2\"  >2</a>\\n\\t\\t\\t\\t</td>\\n<td>\\n\\t\\t\\t\\t<a href=\"/item/sise_day.naver?code=005930&amp;page=3\"  >3</a>\\n\\t\\t\\t\\t</td>\\n<td>\\n\\t\\t\\t\\t<a href=\"/item/sise_day.naver?code=005930&amp;page=4\"  >4</a>\\n\\t\\t\\t\\t</td>\\n<td class=\"on\">\\n\\t\\t\\t\\t<a href=\"/item/sise_day.naver?code=005930&amp;page=5\"  >5</a>\\n\\t\\t\\t\\t</td>\\n<td>\\n\\t\\t\\t\\t<a href=\"/item/sise_day.naver?code=005930&amp;page=6\"  >6</a>\\n\\t\\t\\t\\t</td>\\n<td>\\n\\t\\t\\t\\t<a href=\"/item/sise_day.naver?code=005930&amp;page=7\"  >7</a>\\n\\t\\t\\t\\t</td>\\n<td>\\n\\t\\t\\t\\t<a href=\"/item/sise_day.naver?code=005930&amp;page=8\"  >8</a>\\n\\t\\t\\t\\t</td>\\n<td>\\n\\t\\t\\t\\t<a href=\"/item/sise_day.naver?code=005930&amp;page=9\"  >9</a>\\n\\t\\t\\t\\t</td>\\n<td>\\n\\t\\t\\t\\t<a href=\"/item/sise_day.naver?code=005930&amp;page=10\"  >10</a>\\n\\t\\t\\t\\t</td>\\n\\n                <td class=\"pgR\">\\n\\t\\t\\t\\t<a href=\"/item/sise_day.naver?code=005930&amp;page=11\"  >\\n\\t\\t\\t\\t다음<img src=\"https://ssl.pstatic.net/static/n/cmn/bu_pgarR.gif\" width=\"3\" height=\"5\" alt=\"\" border=\"0\">\\n\\t\\t\\t\\t</a>\\n\\t\\t\\t\\t</td>\\n\\n                <td class=\"pgRR\">\\n\\t\\t\\t\\t<a href=\"/item/sise_day.naver?code=005930&amp;page=650\"  >맨뒤\\n\\t\\t\\t\\t<img src=\"https://ssl.pstatic.net/static/n/cmn/bu_pgarRR.gif\" width=\"8\" height=\"5\" alt=\"\" border=\"0\">\\n\\t\\t\\t\\t</a>\\n\\t\\t\\t\\t</td>\\n\\n            \\n\\t\\t\\t\\t</tr>\\n\\t\\t\\t\\t</table>\\n\\t\\t\\t\\t<!--- 페이지 네비게이션 끝--->\\n\\n\\n\\t<script type=\"text/javascript\" src=\"https://ssl.pstatic.net/imgstock/static.pc/20220511192542/js/jindo.min.ns.1.5.3.euckr.js\"></script>\\n\\t<script type=\"text/javascript\" src=\"https://ssl.pstatic.net/imgstock/static.pc/20220511192542/js/lcslog.js\"></script>\\n\\t<script type=\"text/javascript\">\\n        ;(function(){\\n            var eventType = \"onpageshow\" in window ? \"pageshow\" : \"load\";\\n            jindo.$Fn(function(){\\n                lcs_do();\\n            }).attach(window, eventType);\\n        })();\\n\\t</script>\\n\\n</body>'"
            ]
          },
          "execution_count": 31,
          "metadata": {},
          "output_type": "execute_result"
        }
      ],
      "source": [
        "response.text"
      ]
    },
    {
      "cell_type": "code",
      "execution_count": null,
      "metadata": {
        "id": "Pt-v0Lvh3kw6",
        "outputId": "9b5cff06-d470-47dc-dc98-4c3b9cd915d0"
      },
      "outputs": [
        {
          "name": "stdout",
          "output_type": "stream",
          "text": [
            "https://finance.naver.com/item/sise_day.naver?code=005930&page=5\n"
          ]
        }
      ],
      "source": [
        "print(url)"
      ]
    },
    {
      "cell_type": "markdown",
      "metadata": {
        "id": "IGxRB1hgpzJ-"
      },
      "source": [
        "## BeautifulSoup 을 통한 table 태그 찾기"
      ]
    },
    {
      "cell_type": "code",
      "execution_count": null,
      "metadata": {
        "id": "e8xvhBcKpzJ-",
        "scrolled": false,
        "outputId": "a63a6440-8115-4830-dd20-081ba372fd23"
      },
      "outputs": [
        {
          "data": {
            "text/plain": [
              "<html lang=\"ko\">\n",
              "<head>\n",
              "<meta content=\"text/html; charset=utf-8\" http-equiv=\"Content-Type\"/>\n",
              "<title>네이버 금융</title>\n",
              "<link href=\"https://ssl.pstatic.net/imgstock/static.pc/20220511192542/css/newstock.css\" rel=\"stylesheet\" type=\"text/css\"/>\n",
              "<link href=\"https://ssl.pstatic.net/imgstock/static.pc/20220511192542/css/common.css\" rel=\"stylesheet\" type=\"text/css\"/>\n",
              "<link href=\"https://ssl.pstatic.net/imgstock/static.pc/20220511192542/css/layout.css\" rel=\"stylesheet\" type=\"text/css\"/>\n",
              "<link href=\"https://ssl.pstatic.net/imgstock/static.pc/20220511192542/css/main.css\" rel=\"stylesheet\" type=\"text/css\"/>\n",
              "<link href=\"https://ssl.pstatic.net/imgstock/static.pc/20220511192542/css/newstock2.css\" rel=\"stylesheet\" type=\"text/css\"/>\n",
              "<link href=\"https://ssl.pstatic.net/imgstock/static.pc/20220511192542/css/newstock3.css\" rel=\"stylesheet\" type=\"text/css\"/>\n",
              "<link href=\"https://ssl.pstatic.net/imgstock/static.pc/20220511192542/css/world.css\" rel=\"stylesheet\" type=\"text/css\"/>\n",
              "</head>\n",
              "<body>\n",
              "<script language=\"JavaScript\">\n",
              "function mouseOver(obj){\n",
              "  obj.style.backgroundColor=\"#f6f4e5\";\n",
              "}\n",
              "function mouseOut(obj){\n",
              "  obj.style.backgroundColor=\"#ffffff\";\n",
              "}\n",
              "</script>\n",
              "<h4 class=\"tlline2\"><strong><span class=\"red03\">일별</span>시세</strong></h4>\n",
              "<table cellspacing=\"0\" class=\"type2\">\n",
              "<tr>\n",
              "<th>날짜</th>\n",
              "<th>종가</th>\n",
              "<th>전일비</th>\n",
              "<th>시가</th>\n",
              "<th>고가</th>\n",
              "<th>저가</th>\n",
              "<th>거래량</th>\n",
              "</tr>\n",
              "<tr>\n",
              "<td colspan=\"7\" height=\"8\"></td>\n",
              "</tr>\n",
              "<tr onmouseout=\"mouseOut(this)\" onmouseover=\"mouseOver(this)\">\n",
              "<td align=\"center\"><span class=\"tah p10 gray03\">2022.03.21</span></td>\n",
              "<td class=\"num\"><span class=\"tah p11\">69,900</span></td>\n",
              "<td class=\"num\">\n",
              "<img alt=\"하락\" height=\"6\" src=\"https://ssl.pstatic.net/imgstock/images/images4/ico_down.gif\" style=\"margin-right:4px;\" width=\"7\"/><span class=\"tah p11 nv01\">\n",
              "\t\t\t\t800\n",
              "\t\t\t\t</span>\n",
              "</td>\n",
              "<td class=\"num\"><span class=\"tah p11\">70,900</span></td>\n",
              "<td class=\"num\"><span class=\"tah p11\">71,000</span></td>\n",
              "<td class=\"num\"><span class=\"tah p11\">69,900</span></td>\n",
              "<td class=\"num\"><span class=\"tah p11\">11,169,002</span></td>\n",
              "</tr>\n",
              "<tr onmouseout=\"mouseOut(this)\" onmouseover=\"mouseOver(this)\">\n",
              "<td align=\"center\"><span class=\"tah p10 gray03\">2022.03.18</span></td>\n",
              "<td class=\"num\"><span class=\"tah p11\">70,700</span></td>\n",
              "<td class=\"num\">\n",
              "<img alt=\"하락\" height=\"6\" src=\"https://ssl.pstatic.net/imgstock/images/images4/ico_down.gif\" style=\"margin-right:4px;\" width=\"7\"/><span class=\"tah p11 nv01\">\n",
              "\t\t\t\t500\n",
              "\t\t\t\t</span>\n",
              "</td>\n",
              "<td class=\"num\"><span class=\"tah p11\">70,600</span></td>\n",
              "<td class=\"num\"><span class=\"tah p11\">70,900</span></td>\n",
              "<td class=\"num\"><span class=\"tah p11\">70,200</span></td>\n",
              "<td class=\"num\"><span class=\"tah p11\">14,410,038</span></td>\n",
              "</tr>\n",
              "<tr onmouseout=\"mouseOut(this)\" onmouseover=\"mouseOver(this)\">\n",
              "<td align=\"center\"><span class=\"tah p10 gray03\">2022.03.17</span></td>\n",
              "<td class=\"num\"><span class=\"tah p11\">71,200</span></td>\n",
              "<td class=\"num\">\n",
              "<img alt=\"상승\" height=\"6\" src=\"https://ssl.pstatic.net/imgstock/images/images4/ico_up.gif\" style=\"margin-right:4px;\" width=\"7\"/><span class=\"tah p11 red02\">\n",
              "\t\t\t\t800\n",
              "\t\t\t\t</span>\n",
              "</td>\n",
              "<td class=\"num\"><span class=\"tah p11\">71,200</span></td>\n",
              "<td class=\"num\"><span class=\"tah p11\">71,800</span></td>\n",
              "<td class=\"num\"><span class=\"tah p11\">70,900</span></td>\n",
              "<td class=\"num\"><span class=\"tah p11\">17,646,315</span></td>\n",
              "</tr>\n",
              "<tr onmouseout=\"mouseOut(this)\" onmouseover=\"mouseOver(this)\">\n",
              "<td align=\"center\"><span class=\"tah p10 gray03\">2022.03.16</span></td>\n",
              "<td class=\"num\"><span class=\"tah p11\">70,400</span></td>\n",
              "<td class=\"num\">\n",
              "<img alt=\"상승\" height=\"6\" src=\"https://ssl.pstatic.net/imgstock/images/images4/ico_up.gif\" style=\"margin-right:4px;\" width=\"7\"/><span class=\"tah p11 red02\">\n",
              "\t\t\t\t900\n",
              "\t\t\t\t</span>\n",
              "</td>\n",
              "<td class=\"num\"><span class=\"tah p11\">70,200</span></td>\n",
              "<td class=\"num\"><span class=\"tah p11\">70,500</span></td>\n",
              "<td class=\"num\"><span class=\"tah p11\">69,700</span></td>\n",
              "<td class=\"num\"><span class=\"tah p11\">10,175,750</span></td>\n",
              "</tr>\n",
              "<tr onmouseout=\"mouseOut(this)\" onmouseover=\"mouseOver(this)\">\n",
              "<td align=\"center\"><span class=\"tah p10 gray03\">2022.03.15</span></td>\n",
              "<td class=\"num\"><span class=\"tah p11\">69,500</span></td>\n",
              "<td class=\"num\">\n",
              "<img alt=\"하락\" height=\"6\" src=\"https://ssl.pstatic.net/imgstock/images/images4/ico_down.gif\" style=\"margin-right:4px;\" width=\"7\"/><span class=\"tah p11 nv01\">\n",
              "\t\t\t\t700\n",
              "\t\t\t\t</span>\n",
              "</td>\n",
              "<td class=\"num\"><span class=\"tah p11\">69,800</span></td>\n",
              "<td class=\"num\"><span class=\"tah p11\">70,100</span></td>\n",
              "<td class=\"num\"><span class=\"tah p11\">69,500</span></td>\n",
              "<td class=\"num\"><span class=\"tah p11\">10,258,562</span></td>\n",
              "</tr>\n",
              "<tr>\n",
              "<td colspan=\"7\" height=\"8\"></td>\n",
              "</tr>\n",
              "<tr>\n",
              "<td bgcolor=\"#e1e1e1\" colspan=\"7\" height=\"1\"></td>\n",
              "</tr>\n",
              "<tr>\n",
              "<td colspan=\"7\" height=\"8\"></td>\n",
              "</tr>\n",
              "<tr onmouseout=\"mouseOut(this)\" onmouseover=\"mouseOver(this)\">\n",
              "<td align=\"center\"><span class=\"tah p10 gray03\">2022.03.14</span></td>\n",
              "<td class=\"num\"><span class=\"tah p11\">70,200</span></td>\n",
              "<td class=\"num\">\n",
              "<img alt=\"상승\" height=\"6\" src=\"https://ssl.pstatic.net/imgstock/images/images4/ico_up.gif\" style=\"margin-right:4px;\" width=\"7\"/><span class=\"tah p11 red02\">\n",
              "\t\t\t\t200\n",
              "\t\t\t\t</span>\n",
              "</td>\n",
              "<td class=\"num\"><span class=\"tah p11\">70,000</span></td>\n",
              "<td class=\"num\"><span class=\"tah p11\">70,200</span></td>\n",
              "<td class=\"num\"><span class=\"tah p11\">69,600</span></td>\n",
              "<td class=\"num\"><span class=\"tah p11\">9,040,993</span></td>\n",
              "</tr>\n",
              "<tr onmouseout=\"mouseOut(this)\" onmouseover=\"mouseOver(this)\">\n",
              "<td align=\"center\"><span class=\"tah p10 gray03\">2022.03.11</span></td>\n",
              "<td class=\"num\"><span class=\"tah p11\">70,000</span></td>\n",
              "<td class=\"num\">\n",
              "<img alt=\"하락\" height=\"6\" src=\"https://ssl.pstatic.net/imgstock/images/images4/ico_down.gif\" style=\"margin-right:4px;\" width=\"7\"/><span class=\"tah p11 nv01\">\n",
              "\t\t\t\t1,200\n",
              "\t\t\t\t</span>\n",
              "</td>\n",
              "<td class=\"num\"><span class=\"tah p11\">70,500</span></td>\n",
              "<td class=\"num\"><span class=\"tah p11\">70,700</span></td>\n",
              "<td class=\"num\"><span class=\"tah p11\">69,700</span></td>\n",
              "<td class=\"num\"><span class=\"tah p11\">15,787,655</span></td>\n",
              "</tr>\n",
              "<tr onmouseout=\"mouseOut(this)\" onmouseover=\"mouseOver(this)\">\n",
              "<td align=\"center\"><span class=\"tah p10 gray03\">2022.03.10</span></td>\n",
              "<td class=\"num\"><span class=\"tah p11\">71,200</span></td>\n",
              "<td class=\"num\">\n",
              "<img alt=\"상승\" height=\"6\" src=\"https://ssl.pstatic.net/imgstock/images/images4/ico_up.gif\" style=\"margin-right:4px;\" width=\"7\"/><span class=\"tah p11 red02\">\n",
              "\t\t\t\t1,700\n",
              "\t\t\t\t</span>\n",
              "</td>\n",
              "<td class=\"num\"><span class=\"tah p11\">70,800</span></td>\n",
              "<td class=\"num\"><span class=\"tah p11\">71,200</span></td>\n",
              "<td class=\"num\"><span class=\"tah p11\">70,500</span></td>\n",
              "<td class=\"num\"><span class=\"tah p11\">21,159,248</span></td>\n",
              "</tr>\n",
              "<tr onmouseout=\"mouseOut(this)\" onmouseover=\"mouseOver(this)\">\n",
              "<td align=\"center\"><span class=\"tah p10 gray03\">2022.03.08</span></td>\n",
              "<td class=\"num\"><span class=\"tah p11\">69,500</span></td>\n",
              "<td class=\"num\">\n",
              "<img alt=\"하락\" height=\"6\" src=\"https://ssl.pstatic.net/imgstock/images/images4/ico_down.gif\" style=\"margin-right:4px;\" width=\"7\"/><span class=\"tah p11 nv01\">\n",
              "\t\t\t\t600\n",
              "\t\t\t\t</span>\n",
              "</td>\n",
              "<td class=\"num\"><span class=\"tah p11\">68,800</span></td>\n",
              "<td class=\"num\"><span class=\"tah p11\">70,000</span></td>\n",
              "<td class=\"num\"><span class=\"tah p11\">68,700</span></td>\n",
              "<td class=\"num\"><span class=\"tah p11\">15,828,269</span></td>\n",
              "</tr>\n",
              "<tr onmouseout=\"mouseOut(this)\" onmouseover=\"mouseOver(this)\">\n",
              "<td align=\"center\"><span class=\"tah p10 gray03\">2022.03.07</span></td>\n",
              "<td class=\"num\"><span class=\"tah p11\">70,100</span></td>\n",
              "<td class=\"num\">\n",
              "<img alt=\"하락\" height=\"6\" src=\"https://ssl.pstatic.net/imgstock/images/images4/ico_down.gif\" style=\"margin-right:4px;\" width=\"7\"/><span class=\"tah p11 nv01\">\n",
              "\t\t\t\t1,400\n",
              "\t\t\t\t</span>\n",
              "</td>\n",
              "<td class=\"num\"><span class=\"tah p11\">70,000</span></td>\n",
              "<td class=\"num\"><span class=\"tah p11\">70,600</span></td>\n",
              "<td class=\"num\"><span class=\"tah p11\">69,900</span></td>\n",
              "<td class=\"num\"><span class=\"tah p11\">18,617,138</span></td>\n",
              "</tr>\n",
              "<tr>\n",
              "<td colspan=\"7\" height=\"8\"></td>\n",
              "</tr>\n",
              "</table>\n",
              "<!--- 페이지 네비게이션 시작--->\n",
              "<table align=\"center\" class=\"Nnavi\" summary=\"페이지 네비게이션 리스트\">\n",
              "<caption>페이지 네비게이션</caption>\n",
              "<tr>\n",
              "<td class=\"pgLL\">\n",
              "<a href=\"/item/sise_day.naver?code=005930&amp;page=1\">\n",
              "<img alt=\"\" height=\"5\" src=\"https://ssl.pstatic.net/static/n/cmn/bu_pgarLL.gif\" width=\"7\"/>맨앞\n",
              "\t\t\t\t</a>\n",
              "</td>\n",
              "<td>\n",
              "<a href=\"/item/sise_day.naver?code=005930&amp;page=1\">1</a>\n",
              "</td>\n",
              "<td>\n",
              "<a href=\"/item/sise_day.naver?code=005930&amp;page=2\">2</a>\n",
              "</td>\n",
              "<td>\n",
              "<a href=\"/item/sise_day.naver?code=005930&amp;page=3\">3</a>\n",
              "</td>\n",
              "<td>\n",
              "<a href=\"/item/sise_day.naver?code=005930&amp;page=4\">4</a>\n",
              "</td>\n",
              "<td class=\"on\">\n",
              "<a href=\"/item/sise_day.naver?code=005930&amp;page=5\">5</a>\n",
              "</td>\n",
              "<td>\n",
              "<a href=\"/item/sise_day.naver?code=005930&amp;page=6\">6</a>\n",
              "</td>\n",
              "<td>\n",
              "<a href=\"/item/sise_day.naver?code=005930&amp;page=7\">7</a>\n",
              "</td>\n",
              "<td>\n",
              "<a href=\"/item/sise_day.naver?code=005930&amp;page=8\">8</a>\n",
              "</td>\n",
              "<td>\n",
              "<a href=\"/item/sise_day.naver?code=005930&amp;page=9\">9</a>\n",
              "</td>\n",
              "<td>\n",
              "<a href=\"/item/sise_day.naver?code=005930&amp;page=10\">10</a>\n",
              "</td>\n",
              "<td class=\"pgR\">\n",
              "<a href=\"/item/sise_day.naver?code=005930&amp;page=11\">\n",
              "\t\t\t\t다음<img alt=\"\" border=\"0\" height=\"5\" src=\"https://ssl.pstatic.net/static/n/cmn/bu_pgarR.gif\" width=\"3\"/>\n",
              "</a>\n",
              "</td>\n",
              "<td class=\"pgRR\">\n",
              "<a href=\"/item/sise_day.naver?code=005930&amp;page=650\">맨뒤\n",
              "\t\t\t\t<img alt=\"\" border=\"0\" height=\"5\" src=\"https://ssl.pstatic.net/static/n/cmn/bu_pgarRR.gif\" width=\"8\"/>\n",
              "</a>\n",
              "</td>\n",
              "</tr>\n",
              "</table>\n",
              "<!--- 페이지 네비게이션 끝--->\n",
              "<script src=\"https://ssl.pstatic.net/imgstock/static.pc/20220511192542/js/jindo.min.ns.1.5.3.euckr.js\" type=\"text/javascript\"></script>\n",
              "<script src=\"https://ssl.pstatic.net/imgstock/static.pc/20220511192542/js/lcslog.js\" type=\"text/javascript\"></script>\n",
              "<script type=\"text/javascript\">\n",
              "        ;(function(){\n",
              "            var eventType = \"onpageshow\" in window ? \"pageshow\" : \"load\";\n",
              "            jindo.$Fn(function(){\n",
              "                lcs_do();\n",
              "            }).attach(window, eventType);\n",
              "        })();\n",
              "\t</script>\n",
              "</body></html>"
            ]
          },
          "execution_count": 35,
          "metadata": {},
          "output_type": "execute_result"
        }
      ],
      "source": [
        "from bs4 import BeautifulSoup as bs\n",
        "\n",
        "html = bs(response.text, \"lxml\")\n",
        "html"
      ]
    },
    {
      "cell_type": "code",
      "execution_count": null,
      "metadata": {
        "id": "AvLHkpkOpzJ_",
        "outputId": "a4c42286-90fc-4b29-feaa-299613158cb8"
      },
      "outputs": [
        {
          "data": {
            "text/plain": [
              "<title>네이버 금융</title>"
            ]
          },
          "execution_count": 36,
          "metadata": {},
          "output_type": "execute_result"
        }
      ],
      "source": [
        "html.title"
      ]
    },
    {
      "cell_type": "code",
      "execution_count": null,
      "metadata": {
        "id": "G_5UOqVw3kw8",
        "outputId": "01ef523a-af55-4387-fabd-6b09b2403672"
      },
      "outputs": [
        {
          "data": {
            "text/plain": [
              "33"
            ]
          },
          "execution_count": 46,
          "metadata": {},
          "output_type": "execute_result"
        }
      ],
      "source": [
        "len(html.find(\"table\"))"
      ]
    },
    {
      "cell_type": "code",
      "execution_count": null,
      "metadata": {
        "id": "7-hSsi8-3kw9",
        "outputId": "714a8f26-a989-4b66-ece6-a8e3e1e294b7"
      },
      "outputs": [
        {
          "data": {
            "text/plain": [
              "<table cellspacing=\"0\" class=\"type2\">\n",
              "<tr>\n",
              "<th>날짜</th>\n",
              "<th>종가</th>\n",
              "<th>전일비</th>\n",
              "<th>시가</th>\n",
              "<th>고가</th>\n",
              "<th>저가</th>\n",
              "<th>거래량</th>\n",
              "</tr>\n",
              "<tr>\n",
              "<td colspan=\"7\" height=\"8\"></td>\n",
              "</tr>\n",
              "<tr onmouseout=\"mouseOut(this)\" onmouseover=\"mouseOver(this)\">\n",
              "<td align=\"center\"><span class=\"tah p10 gray03\">2022.03.21</span></td>\n",
              "<td class=\"num\"><span class=\"tah p11\">69,900</span></td>\n",
              "<td class=\"num\">\n",
              "<img alt=\"하락\" height=\"6\" src=\"https://ssl.pstatic.net/imgstock/images/images4/ico_down.gif\" style=\"margin-right:4px;\" width=\"7\"/><span class=\"tah p11 nv01\">\n",
              "\t\t\t\t800\n",
              "\t\t\t\t</span>\n",
              "</td>\n",
              "<td class=\"num\"><span class=\"tah p11\">70,900</span></td>\n",
              "<td class=\"num\"><span class=\"tah p11\">71,000</span></td>\n",
              "<td class=\"num\"><span class=\"tah p11\">69,900</span></td>\n",
              "<td class=\"num\"><span class=\"tah p11\">11,169,002</span></td>\n",
              "</tr>\n",
              "<tr onmouseout=\"mouseOut(this)\" onmouseover=\"mouseOver(this)\">\n",
              "<td align=\"center\"><span class=\"tah p10 gray03\">2022.03.18</span></td>\n",
              "<td class=\"num\"><span class=\"tah p11\">70,700</span></td>\n",
              "<td class=\"num\">\n",
              "<img alt=\"하락\" height=\"6\" src=\"https://ssl.pstatic.net/imgstock/images/images4/ico_down.gif\" style=\"margin-right:4px;\" width=\"7\"/><span class=\"tah p11 nv01\">\n",
              "\t\t\t\t500\n",
              "\t\t\t\t</span>\n",
              "</td>\n",
              "<td class=\"num\"><span class=\"tah p11\">70,600</span></td>\n",
              "<td class=\"num\"><span class=\"tah p11\">70,900</span></td>\n",
              "<td class=\"num\"><span class=\"tah p11\">70,200</span></td>\n",
              "<td class=\"num\"><span class=\"tah p11\">14,410,038</span></td>\n",
              "</tr>\n",
              "<tr onmouseout=\"mouseOut(this)\" onmouseover=\"mouseOver(this)\">\n",
              "<td align=\"center\"><span class=\"tah p10 gray03\">2022.03.17</span></td>\n",
              "<td class=\"num\"><span class=\"tah p11\">71,200</span></td>\n",
              "<td class=\"num\">\n",
              "<img alt=\"상승\" height=\"6\" src=\"https://ssl.pstatic.net/imgstock/images/images4/ico_up.gif\" style=\"margin-right:4px;\" width=\"7\"/><span class=\"tah p11 red02\">\n",
              "\t\t\t\t800\n",
              "\t\t\t\t</span>\n",
              "</td>\n",
              "<td class=\"num\"><span class=\"tah p11\">71,200</span></td>\n",
              "<td class=\"num\"><span class=\"tah p11\">71,800</span></td>\n",
              "<td class=\"num\"><span class=\"tah p11\">70,900</span></td>\n",
              "<td class=\"num\"><span class=\"tah p11\">17,646,315</span></td>\n",
              "</tr>\n",
              "<tr onmouseout=\"mouseOut(this)\" onmouseover=\"mouseOver(this)\">\n",
              "<td align=\"center\"><span class=\"tah p10 gray03\">2022.03.16</span></td>\n",
              "<td class=\"num\"><span class=\"tah p11\">70,400</span></td>\n",
              "<td class=\"num\">\n",
              "<img alt=\"상승\" height=\"6\" src=\"https://ssl.pstatic.net/imgstock/images/images4/ico_up.gif\" style=\"margin-right:4px;\" width=\"7\"/><span class=\"tah p11 red02\">\n",
              "\t\t\t\t900\n",
              "\t\t\t\t</span>\n",
              "</td>\n",
              "<td class=\"num\"><span class=\"tah p11\">70,200</span></td>\n",
              "<td class=\"num\"><span class=\"tah p11\">70,500</span></td>\n",
              "<td class=\"num\"><span class=\"tah p11\">69,700</span></td>\n",
              "<td class=\"num\"><span class=\"tah p11\">10,175,750</span></td>\n",
              "</tr>\n",
              "<tr onmouseout=\"mouseOut(this)\" onmouseover=\"mouseOver(this)\">\n",
              "<td align=\"center\"><span class=\"tah p10 gray03\">2022.03.15</span></td>\n",
              "<td class=\"num\"><span class=\"tah p11\">69,500</span></td>\n",
              "<td class=\"num\">\n",
              "<img alt=\"하락\" height=\"6\" src=\"https://ssl.pstatic.net/imgstock/images/images4/ico_down.gif\" style=\"margin-right:4px;\" width=\"7\"/><span class=\"tah p11 nv01\">\n",
              "\t\t\t\t700\n",
              "\t\t\t\t</span>\n",
              "</td>\n",
              "<td class=\"num\"><span class=\"tah p11\">69,800</span></td>\n",
              "<td class=\"num\"><span class=\"tah p11\">70,100</span></td>\n",
              "<td class=\"num\"><span class=\"tah p11\">69,500</span></td>\n",
              "<td class=\"num\"><span class=\"tah p11\">10,258,562</span></td>\n",
              "</tr>\n",
              "<tr>\n",
              "<td colspan=\"7\" height=\"8\"></td>\n",
              "</tr>\n",
              "<tr>\n",
              "<td bgcolor=\"#e1e1e1\" colspan=\"7\" height=\"1\"></td>\n",
              "</tr>\n",
              "<tr>\n",
              "<td colspan=\"7\" height=\"8\"></td>\n",
              "</tr>\n",
              "<tr onmouseout=\"mouseOut(this)\" onmouseover=\"mouseOver(this)\">\n",
              "<td align=\"center\"><span class=\"tah p10 gray03\">2022.03.14</span></td>\n",
              "<td class=\"num\"><span class=\"tah p11\">70,200</span></td>\n",
              "<td class=\"num\">\n",
              "<img alt=\"상승\" height=\"6\" src=\"https://ssl.pstatic.net/imgstock/images/images4/ico_up.gif\" style=\"margin-right:4px;\" width=\"7\"/><span class=\"tah p11 red02\">\n",
              "\t\t\t\t200\n",
              "\t\t\t\t</span>\n",
              "</td>\n",
              "<td class=\"num\"><span class=\"tah p11\">70,000</span></td>\n",
              "<td class=\"num\"><span class=\"tah p11\">70,200</span></td>\n",
              "<td class=\"num\"><span class=\"tah p11\">69,600</span></td>\n",
              "<td class=\"num\"><span class=\"tah p11\">9,040,993</span></td>\n",
              "</tr>\n",
              "<tr onmouseout=\"mouseOut(this)\" onmouseover=\"mouseOver(this)\">\n",
              "<td align=\"center\"><span class=\"tah p10 gray03\">2022.03.11</span></td>\n",
              "<td class=\"num\"><span class=\"tah p11\">70,000</span></td>\n",
              "<td class=\"num\">\n",
              "<img alt=\"하락\" height=\"6\" src=\"https://ssl.pstatic.net/imgstock/images/images4/ico_down.gif\" style=\"margin-right:4px;\" width=\"7\"/><span class=\"tah p11 nv01\">\n",
              "\t\t\t\t1,200\n",
              "\t\t\t\t</span>\n",
              "</td>\n",
              "<td class=\"num\"><span class=\"tah p11\">70,500</span></td>\n",
              "<td class=\"num\"><span class=\"tah p11\">70,700</span></td>\n",
              "<td class=\"num\"><span class=\"tah p11\">69,700</span></td>\n",
              "<td class=\"num\"><span class=\"tah p11\">15,787,655</span></td>\n",
              "</tr>\n",
              "<tr onmouseout=\"mouseOut(this)\" onmouseover=\"mouseOver(this)\">\n",
              "<td align=\"center\"><span class=\"tah p10 gray03\">2022.03.10</span></td>\n",
              "<td class=\"num\"><span class=\"tah p11\">71,200</span></td>\n",
              "<td class=\"num\">\n",
              "<img alt=\"상승\" height=\"6\" src=\"https://ssl.pstatic.net/imgstock/images/images4/ico_up.gif\" style=\"margin-right:4px;\" width=\"7\"/><span class=\"tah p11 red02\">\n",
              "\t\t\t\t1,700\n",
              "\t\t\t\t</span>\n",
              "</td>\n",
              "<td class=\"num\"><span class=\"tah p11\">70,800</span></td>\n",
              "<td class=\"num\"><span class=\"tah p11\">71,200</span></td>\n",
              "<td class=\"num\"><span class=\"tah p11\">70,500</span></td>\n",
              "<td class=\"num\"><span class=\"tah p11\">21,159,248</span></td>\n",
              "</tr>\n",
              "<tr onmouseout=\"mouseOut(this)\" onmouseover=\"mouseOver(this)\">\n",
              "<td align=\"center\"><span class=\"tah p10 gray03\">2022.03.08</span></td>\n",
              "<td class=\"num\"><span class=\"tah p11\">69,500</span></td>\n",
              "<td class=\"num\">\n",
              "<img alt=\"하락\" height=\"6\" src=\"https://ssl.pstatic.net/imgstock/images/images4/ico_down.gif\" style=\"margin-right:4px;\" width=\"7\"/><span class=\"tah p11 nv01\">\n",
              "\t\t\t\t600\n",
              "\t\t\t\t</span>\n",
              "</td>\n",
              "<td class=\"num\"><span class=\"tah p11\">68,800</span></td>\n",
              "<td class=\"num\"><span class=\"tah p11\">70,000</span></td>\n",
              "<td class=\"num\"><span class=\"tah p11\">68,700</span></td>\n",
              "<td class=\"num\"><span class=\"tah p11\">15,828,269</span></td>\n",
              "</tr>\n",
              "<tr onmouseout=\"mouseOut(this)\" onmouseover=\"mouseOver(this)\">\n",
              "<td align=\"center\"><span class=\"tah p10 gray03\">2022.03.07</span></td>\n",
              "<td class=\"num\"><span class=\"tah p11\">70,100</span></td>\n",
              "<td class=\"num\">\n",
              "<img alt=\"하락\" height=\"6\" src=\"https://ssl.pstatic.net/imgstock/images/images4/ico_down.gif\" style=\"margin-right:4px;\" width=\"7\"/><span class=\"tah p11 nv01\">\n",
              "\t\t\t\t1,400\n",
              "\t\t\t\t</span>\n",
              "</td>\n",
              "<td class=\"num\"><span class=\"tah p11\">70,000</span></td>\n",
              "<td class=\"num\"><span class=\"tah p11\">70,600</span></td>\n",
              "<td class=\"num\"><span class=\"tah p11\">69,900</span></td>\n",
              "<td class=\"num\"><span class=\"tah p11\">18,617,138</span></td>\n",
              "</tr>\n",
              "<tr>\n",
              "<td colspan=\"7\" height=\"8\"></td>\n",
              "</tr>\n",
              "</table>"
            ]
          },
          "execution_count": 47,
          "metadata": {},
          "output_type": "execute_result"
        }
      ],
      "source": [
        "html.find(\"table\")"
      ]
    },
    {
      "cell_type": "code",
      "execution_count": null,
      "metadata": {
        "id": "o5ndM-np3kw-",
        "outputId": "15aae139-bd8b-472b-c28a-c369a08dafd6"
      },
      "outputs": [
        {
          "data": {
            "text/plain": [
              "2"
            ]
          },
          "execution_count": 45,
          "metadata": {},
          "output_type": "execute_result"
        }
      ],
      "source": [
        "len(html.find_all(\"table\"))"
      ]
    },
    {
      "cell_type": "code",
      "execution_count": null,
      "metadata": {
        "id": "buKpjPQS3kw_",
        "outputId": "10d9e2a8-d9f5-4748-cbec-1ac0d1364445"
      },
      "outputs": [
        {
          "data": {
            "text/plain": [
              "True"
            ]
          },
          "execution_count": 57,
          "metadata": {},
          "output_type": "execute_result"
        }
      ],
      "source": [
        "html.table == html.find(\"table\")"
      ]
    },
    {
      "cell_type": "code",
      "execution_count": null,
      "metadata": {
        "id": "LQEFWPBA3kxA",
        "outputId": "9ff3d946-9345-4f47-82cf-b4d0baef22ab"
      },
      "outputs": [
        {
          "data": {
            "text/plain": [
              "2"
            ]
          },
          "execution_count": 58,
          "metadata": {},
          "output_type": "execute_result"
        }
      ],
      "source": [
        "tables = html.select(\"table\")\n",
        "len(tables)"
      ]
    },
    {
      "cell_type": "markdown",
      "metadata": {
        "id": "wUczQAoFpzJ_"
      },
      "source": [
        "## pandas 코드 한 줄로 데이터 수집하기"
      ]
    },
    {
      "cell_type": "code",
      "execution_count": null,
      "metadata": {
        "scrolled": true,
        "id": "pvTSkNuM3kxA",
        "outputId": "c495dbda-b987-492b-c678-b2a7b6a27634"
      },
      "outputs": [
        {
          "data": {
            "text/plain": [
              "[            날짜       종가     전일비       시가       고가       저가         거래량\n",
              " 0          NaN      NaN     NaN      NaN      NaN      NaN         NaN\n",
              " 1   2022.03.21  69900.0   800.0  70900.0  71000.0  69900.0  11169002.0\n",
              " 2   2022.03.18  70700.0   500.0  70600.0  70900.0  70200.0  14410038.0\n",
              " 3   2022.03.17  71200.0   800.0  71200.0  71800.0  70900.0  17646315.0\n",
              " 4   2022.03.16  70400.0   900.0  70200.0  70500.0  69700.0  10175750.0\n",
              " 5   2022.03.15  69500.0   700.0  69800.0  70100.0  69500.0  10258562.0\n",
              " 6          NaN      NaN     NaN      NaN      NaN      NaN         NaN\n",
              " 7          NaN      NaN     NaN      NaN      NaN      NaN         NaN\n",
              " 8          NaN      NaN     NaN      NaN      NaN      NaN         NaN\n",
              " 9   2022.03.14  70200.0   200.0  70000.0  70200.0  69600.0   9040993.0\n",
              " 10  2022.03.11  70000.0  1200.0  70500.0  70700.0  69700.0  15787655.0\n",
              " 11  2022.03.10  71200.0  1700.0  70800.0  71200.0  70500.0  21159248.0\n",
              " 12  2022.03.08  69500.0   600.0  68800.0  70000.0  68700.0  15828269.0\n",
              " 13  2022.03.07  70100.0  1400.0  70000.0  70600.0  69900.0  18617138.0\n",
              " 14         NaN      NaN     NaN      NaN      NaN      NaN         NaN,\n",
              "    0   1   2   3   4   5   6   7   8   9   10  11  12\n",
              " 0  맨앞   1   2   3   4   5   6   7   8   9  10  다음  맨뒤]"
            ]
          },
          "execution_count": 52,
          "metadata": {},
          "output_type": "execute_result"
        }
      ],
      "source": [
        "table = pd.read_html(requests.get(url, headers={'User-agent': 'Mozilla/5.0'}).text) \n",
        "table"
      ]
    },
    {
      "cell_type": "code",
      "execution_count": null,
      "metadata": {
        "id": "T3e0Jt0mTMkA",
        "outputId": "6eb4e216-0cfe-46f1-8fa9-75714193a3de"
      },
      "outputs": [
        {
          "name": "stdout",
          "output_type": "stream",
          "text": [
            "2\n"
          ]
        },
        {
          "data": {
            "text/html": [
              "<div>\n",
              "<style scoped>\n",
              "    .dataframe tbody tr th:only-of-type {\n",
              "        vertical-align: middle;\n",
              "    }\n",
              "\n",
              "    .dataframe tbody tr th {\n",
              "        vertical-align: top;\n",
              "    }\n",
              "\n",
              "    .dataframe thead th {\n",
              "        text-align: right;\n",
              "    }\n",
              "</style>\n",
              "<table border=\"1\" class=\"dataframe\">\n",
              "  <thead>\n",
              "    <tr style=\"text-align: right;\">\n",
              "      <th></th>\n",
              "      <th>날짜</th>\n",
              "      <th>종가</th>\n",
              "      <th>전일비</th>\n",
              "      <th>시가</th>\n",
              "      <th>고가</th>\n",
              "      <th>저가</th>\n",
              "      <th>거래량</th>\n",
              "    </tr>\n",
              "  </thead>\n",
              "  <tbody>\n",
              "    <tr>\n",
              "      <th>0</th>\n",
              "      <td>NaN</td>\n",
              "      <td>NaN</td>\n",
              "      <td>NaN</td>\n",
              "      <td>NaN</td>\n",
              "      <td>NaN</td>\n",
              "      <td>NaN</td>\n",
              "      <td>NaN</td>\n",
              "    </tr>\n",
              "    <tr>\n",
              "      <th>1</th>\n",
              "      <td>2022.03.21</td>\n",
              "      <td>69900.0</td>\n",
              "      <td>800.0</td>\n",
              "      <td>70900.0</td>\n",
              "      <td>71000.0</td>\n",
              "      <td>69900.0</td>\n",
              "      <td>11169002.0</td>\n",
              "    </tr>\n",
              "    <tr>\n",
              "      <th>2</th>\n",
              "      <td>2022.03.18</td>\n",
              "      <td>70700.0</td>\n",
              "      <td>500.0</td>\n",
              "      <td>70600.0</td>\n",
              "      <td>70900.0</td>\n",
              "      <td>70200.0</td>\n",
              "      <td>14410038.0</td>\n",
              "    </tr>\n",
              "    <tr>\n",
              "      <th>3</th>\n",
              "      <td>2022.03.17</td>\n",
              "      <td>71200.0</td>\n",
              "      <td>800.0</td>\n",
              "      <td>71200.0</td>\n",
              "      <td>71800.0</td>\n",
              "      <td>70900.0</td>\n",
              "      <td>17646315.0</td>\n",
              "    </tr>\n",
              "    <tr>\n",
              "      <th>4</th>\n",
              "      <td>2022.03.16</td>\n",
              "      <td>70400.0</td>\n",
              "      <td>900.0</td>\n",
              "      <td>70200.0</td>\n",
              "      <td>70500.0</td>\n",
              "      <td>69700.0</td>\n",
              "      <td>10175750.0</td>\n",
              "    </tr>\n",
              "    <tr>\n",
              "      <th>5</th>\n",
              "      <td>2022.03.15</td>\n",
              "      <td>69500.0</td>\n",
              "      <td>700.0</td>\n",
              "      <td>69800.0</td>\n",
              "      <td>70100.0</td>\n",
              "      <td>69500.0</td>\n",
              "      <td>10258562.0</td>\n",
              "    </tr>\n",
              "    <tr>\n",
              "      <th>6</th>\n",
              "      <td>NaN</td>\n",
              "      <td>NaN</td>\n",
              "      <td>NaN</td>\n",
              "      <td>NaN</td>\n",
              "      <td>NaN</td>\n",
              "      <td>NaN</td>\n",
              "      <td>NaN</td>\n",
              "    </tr>\n",
              "    <tr>\n",
              "      <th>7</th>\n",
              "      <td>NaN</td>\n",
              "      <td>NaN</td>\n",
              "      <td>NaN</td>\n",
              "      <td>NaN</td>\n",
              "      <td>NaN</td>\n",
              "      <td>NaN</td>\n",
              "      <td>NaN</td>\n",
              "    </tr>\n",
              "    <tr>\n",
              "      <th>8</th>\n",
              "      <td>NaN</td>\n",
              "      <td>NaN</td>\n",
              "      <td>NaN</td>\n",
              "      <td>NaN</td>\n",
              "      <td>NaN</td>\n",
              "      <td>NaN</td>\n",
              "      <td>NaN</td>\n",
              "    </tr>\n",
              "    <tr>\n",
              "      <th>9</th>\n",
              "      <td>2022.03.14</td>\n",
              "      <td>70200.0</td>\n",
              "      <td>200.0</td>\n",
              "      <td>70000.0</td>\n",
              "      <td>70200.0</td>\n",
              "      <td>69600.0</td>\n",
              "      <td>9040993.0</td>\n",
              "    </tr>\n",
              "    <tr>\n",
              "      <th>10</th>\n",
              "      <td>2022.03.11</td>\n",
              "      <td>70000.0</td>\n",
              "      <td>1200.0</td>\n",
              "      <td>70500.0</td>\n",
              "      <td>70700.0</td>\n",
              "      <td>69700.0</td>\n",
              "      <td>15787655.0</td>\n",
              "    </tr>\n",
              "    <tr>\n",
              "      <th>11</th>\n",
              "      <td>2022.03.10</td>\n",
              "      <td>71200.0</td>\n",
              "      <td>1700.0</td>\n",
              "      <td>70800.0</td>\n",
              "      <td>71200.0</td>\n",
              "      <td>70500.0</td>\n",
              "      <td>21159248.0</td>\n",
              "    </tr>\n",
              "    <tr>\n",
              "      <th>12</th>\n",
              "      <td>2022.03.08</td>\n",
              "      <td>69500.0</td>\n",
              "      <td>600.0</td>\n",
              "      <td>68800.0</td>\n",
              "      <td>70000.0</td>\n",
              "      <td>68700.0</td>\n",
              "      <td>15828269.0</td>\n",
              "    </tr>\n",
              "    <tr>\n",
              "      <th>13</th>\n",
              "      <td>2022.03.07</td>\n",
              "      <td>70100.0</td>\n",
              "      <td>1400.0</td>\n",
              "      <td>70000.0</td>\n",
              "      <td>70600.0</td>\n",
              "      <td>69900.0</td>\n",
              "      <td>18617138.0</td>\n",
              "    </tr>\n",
              "    <tr>\n",
              "      <th>14</th>\n",
              "      <td>NaN</td>\n",
              "      <td>NaN</td>\n",
              "      <td>NaN</td>\n",
              "      <td>NaN</td>\n",
              "      <td>NaN</td>\n",
              "      <td>NaN</td>\n",
              "      <td>NaN</td>\n",
              "    </tr>\n",
              "  </tbody>\n",
              "</table>\n",
              "</div>"
            ],
            "text/plain": [
              "            날짜       종가     전일비       시가       고가       저가         거래량\n",
              "0          NaN      NaN     NaN      NaN      NaN      NaN         NaN\n",
              "1   2022.03.21  69900.0   800.0  70900.0  71000.0  69900.0  11169002.0\n",
              "2   2022.03.18  70700.0   500.0  70600.0  70900.0  70200.0  14410038.0\n",
              "3   2022.03.17  71200.0   800.0  71200.0  71800.0  70900.0  17646315.0\n",
              "4   2022.03.16  70400.0   900.0  70200.0  70500.0  69700.0  10175750.0\n",
              "5   2022.03.15  69500.0   700.0  69800.0  70100.0  69500.0  10258562.0\n",
              "6          NaN      NaN     NaN      NaN      NaN      NaN         NaN\n",
              "7          NaN      NaN     NaN      NaN      NaN      NaN         NaN\n",
              "8          NaN      NaN     NaN      NaN      NaN      NaN         NaN\n",
              "9   2022.03.14  70200.0   200.0  70000.0  70200.0  69600.0   9040993.0\n",
              "10  2022.03.11  70000.0  1200.0  70500.0  70700.0  69700.0  15787655.0\n",
              "11  2022.03.10  71200.0  1700.0  70800.0  71200.0  70500.0  21159248.0\n",
              "12  2022.03.08  69500.0   600.0  68800.0  70000.0  68700.0  15828269.0\n",
              "13  2022.03.07  70100.0  1400.0  70000.0  70600.0  69900.0  18617138.0\n",
              "14         NaN      NaN     NaN      NaN      NaN      NaN         NaN"
            ]
          },
          "execution_count": 61,
          "metadata": {},
          "output_type": "execute_result"
        }
      ],
      "source": [
        "# read_html을 이용하여 url의 page내의 값을 DataFrame으로 받아옵니다.\n",
        "# cp949는 한글 인코딩을 위해 사용합니다. 기본 인코딩 설정은 utf-8 이며, \n",
        "# 네이버의 일별 시세는 cp949 인코딩으로 불러올 수 있습니다.\n",
        "# 데이터를 로드 했을 때 한글 인코딩이 깨진다면 대부분 cp949 로 불러올 수 있습니다.\n",
        "table = pd.read_html(str(tables), encoding=\"cp949\")\n",
        "print(len(table))\n",
        "table[0]"
      ]
    },
    {
      "cell_type": "code",
      "execution_count": null,
      "metadata": {
        "id": "GQ_LCYp0TMkA",
        "outputId": "a43cc94c-3a08-41d6-e58e-d8c69ad848fc"
      },
      "outputs": [
        {
          "data": {
            "text/html": [
              "<div>\n",
              "<style scoped>\n",
              "    .dataframe tbody tr th:only-of-type {\n",
              "        vertical-align: middle;\n",
              "    }\n",
              "\n",
              "    .dataframe tbody tr th {\n",
              "        vertical-align: top;\n",
              "    }\n",
              "\n",
              "    .dataframe thead th {\n",
              "        text-align: right;\n",
              "    }\n",
              "</style>\n",
              "<table border=\"1\" class=\"dataframe\">\n",
              "  <thead>\n",
              "    <tr style=\"text-align: right;\">\n",
              "      <th></th>\n",
              "      <th>0</th>\n",
              "      <th>1</th>\n",
              "      <th>2</th>\n",
              "      <th>3</th>\n",
              "      <th>4</th>\n",
              "      <th>5</th>\n",
              "      <th>6</th>\n",
              "      <th>7</th>\n",
              "      <th>8</th>\n",
              "      <th>9</th>\n",
              "      <th>10</th>\n",
              "      <th>11</th>\n",
              "      <th>12</th>\n",
              "    </tr>\n",
              "  </thead>\n",
              "  <tbody>\n",
              "    <tr>\n",
              "      <th>0</th>\n",
              "      <td>맨앞</td>\n",
              "      <td>1</td>\n",
              "      <td>2</td>\n",
              "      <td>3</td>\n",
              "      <td>4</td>\n",
              "      <td>5</td>\n",
              "      <td>6</td>\n",
              "      <td>7</td>\n",
              "      <td>8</td>\n",
              "      <td>9</td>\n",
              "      <td>10</td>\n",
              "      <td>다음</td>\n",
              "      <td>맨뒤</td>\n",
              "    </tr>\n",
              "  </tbody>\n",
              "</table>\n",
              "</div>"
            ],
            "text/plain": [
              "   0   1   2   3   4   5   6   7   8   9   10  11  12\n",
              "0  맨앞   1   2   3   4   5   6   7   8   9  10  다음  맨뒤"
            ]
          },
          "execution_count": 62,
          "metadata": {},
          "output_type": "execute_result"
        }
      ],
      "source": [
        "# table[0]와 table[1]을 확인하여 보면 table[0]에 필요한 데이터들이 있습니다.\n",
        "table[1]"
      ]
    },
    {
      "cell_type": "code",
      "execution_count": null,
      "metadata": {
        "id": "0gI1rNUbTMkA",
        "outputId": "cf211e28-0cfc-425d-e619-83156daba99e"
      },
      "outputs": [
        {
          "data": {
            "text/html": [
              "<div>\n",
              "<style scoped>\n",
              "    .dataframe tbody tr th:only-of-type {\n",
              "        vertical-align: middle;\n",
              "    }\n",
              "\n",
              "    .dataframe tbody tr th {\n",
              "        vertical-align: top;\n",
              "    }\n",
              "\n",
              "    .dataframe thead th {\n",
              "        text-align: right;\n",
              "    }\n",
              "</style>\n",
              "<table border=\"1\" class=\"dataframe\">\n",
              "  <thead>\n",
              "    <tr style=\"text-align: right;\">\n",
              "      <th></th>\n",
              "      <th>날짜</th>\n",
              "      <th>종가</th>\n",
              "      <th>전일비</th>\n",
              "      <th>시가</th>\n",
              "      <th>고가</th>\n",
              "      <th>저가</th>\n",
              "      <th>거래량</th>\n",
              "    </tr>\n",
              "  </thead>\n",
              "  <tbody>\n",
              "    <tr>\n",
              "      <th>1</th>\n",
              "      <td>2022.03.21</td>\n",
              "      <td>69900.0</td>\n",
              "      <td>800.0</td>\n",
              "      <td>70900.0</td>\n",
              "      <td>71000.0</td>\n",
              "      <td>69900.0</td>\n",
              "      <td>11169002.0</td>\n",
              "    </tr>\n",
              "    <tr>\n",
              "      <th>2</th>\n",
              "      <td>2022.03.18</td>\n",
              "      <td>70700.0</td>\n",
              "      <td>500.0</td>\n",
              "      <td>70600.0</td>\n",
              "      <td>70900.0</td>\n",
              "      <td>70200.0</td>\n",
              "      <td>14410038.0</td>\n",
              "    </tr>\n",
              "    <tr>\n",
              "      <th>3</th>\n",
              "      <td>2022.03.17</td>\n",
              "      <td>71200.0</td>\n",
              "      <td>800.0</td>\n",
              "      <td>71200.0</td>\n",
              "      <td>71800.0</td>\n",
              "      <td>70900.0</td>\n",
              "      <td>17646315.0</td>\n",
              "    </tr>\n",
              "    <tr>\n",
              "      <th>4</th>\n",
              "      <td>2022.03.16</td>\n",
              "      <td>70400.0</td>\n",
              "      <td>900.0</td>\n",
              "      <td>70200.0</td>\n",
              "      <td>70500.0</td>\n",
              "      <td>69700.0</td>\n",
              "      <td>10175750.0</td>\n",
              "    </tr>\n",
              "    <tr>\n",
              "      <th>5</th>\n",
              "      <td>2022.03.15</td>\n",
              "      <td>69500.0</td>\n",
              "      <td>700.0</td>\n",
              "      <td>69800.0</td>\n",
              "      <td>70100.0</td>\n",
              "      <td>69500.0</td>\n",
              "      <td>10258562.0</td>\n",
              "    </tr>\n",
              "    <tr>\n",
              "      <th>9</th>\n",
              "      <td>2022.03.14</td>\n",
              "      <td>70200.0</td>\n",
              "      <td>200.0</td>\n",
              "      <td>70000.0</td>\n",
              "      <td>70200.0</td>\n",
              "      <td>69600.0</td>\n",
              "      <td>9040993.0</td>\n",
              "    </tr>\n",
              "    <tr>\n",
              "      <th>10</th>\n",
              "      <td>2022.03.11</td>\n",
              "      <td>70000.0</td>\n",
              "      <td>1200.0</td>\n",
              "      <td>70500.0</td>\n",
              "      <td>70700.0</td>\n",
              "      <td>69700.0</td>\n",
              "      <td>15787655.0</td>\n",
              "    </tr>\n",
              "    <tr>\n",
              "      <th>11</th>\n",
              "      <td>2022.03.10</td>\n",
              "      <td>71200.0</td>\n",
              "      <td>1700.0</td>\n",
              "      <td>70800.0</td>\n",
              "      <td>71200.0</td>\n",
              "      <td>70500.0</td>\n",
              "      <td>21159248.0</td>\n",
              "    </tr>\n",
              "    <tr>\n",
              "      <th>12</th>\n",
              "      <td>2022.03.08</td>\n",
              "      <td>69500.0</td>\n",
              "      <td>600.0</td>\n",
              "      <td>68800.0</td>\n",
              "      <td>70000.0</td>\n",
              "      <td>68700.0</td>\n",
              "      <td>15828269.0</td>\n",
              "    </tr>\n",
              "    <tr>\n",
              "      <th>13</th>\n",
              "      <td>2022.03.07</td>\n",
              "      <td>70100.0</td>\n",
              "      <td>1400.0</td>\n",
              "      <td>70000.0</td>\n",
              "      <td>70600.0</td>\n",
              "      <td>69900.0</td>\n",
              "      <td>18617138.0</td>\n",
              "    </tr>\n",
              "  </tbody>\n",
              "</table>\n",
              "</div>"
            ],
            "text/plain": [
              "            날짜       종가     전일비       시가       고가       저가         거래량\n",
              "1   2022.03.21  69900.0   800.0  70900.0  71000.0  69900.0  11169002.0\n",
              "2   2022.03.18  70700.0   500.0  70600.0  70900.0  70200.0  14410038.0\n",
              "3   2022.03.17  71200.0   800.0  71200.0  71800.0  70900.0  17646315.0\n",
              "4   2022.03.16  70400.0   900.0  70200.0  70500.0  69700.0  10175750.0\n",
              "5   2022.03.15  69500.0   700.0  69800.0  70100.0  69500.0  10258562.0\n",
              "9   2022.03.14  70200.0   200.0  70000.0  70200.0  69600.0   9040993.0\n",
              "10  2022.03.11  70000.0  1200.0  70500.0  70700.0  69700.0  15787655.0\n",
              "11  2022.03.10  71200.0  1700.0  70800.0  71200.0  70500.0  21159248.0\n",
              "12  2022.03.08  69500.0   600.0  68800.0  70000.0  68700.0  15828269.0\n",
              "13  2022.03.07  70100.0  1400.0  70000.0  70600.0  69900.0  18617138.0"
            ]
          },
          "execution_count": 67,
          "metadata": {},
          "output_type": "execute_result"
        }
      ],
      "source": [
        "# dropna를 통해 결측치가 들어있는 row를 제거합니다.\n",
        "temp = table[0].dropna()\n",
        "temp"
      ]
    },
    {
      "cell_type": "markdown",
      "metadata": {
        "id": "CKhsb94wTMkA"
      },
      "source": [
        "## 페이지별 데이터 수집 함수 만들기"
      ]
    },
    {
      "cell_type": "code",
      "execution_count": null,
      "metadata": {
        "id": "gJugcyoiTMkA"
      },
      "outputs": [],
      "source": [
        "# 종목 번호를 이용해 page에 따라 데이터를 읽어오는 함수\n",
        "# \"\"\" 는 이 두개 사이의 행들은 주석 처리되며, 함수의 docstring 으로 사용됩니다.\n",
        "\n",
        "def get_day_list(item_code, page_no):\n",
        "    \"\"\"\n",
        "    일자별 시세를 페이지별로 수집\n",
        "    \"\"\" \n",
        "    url = f\"https://finance.naver.com/item/sise_day.naver?code={item_code}&page={page_no}\"\n",
        "    headers = {\"user-agent\": \"Mozilla/5.0 (Macintosh; Intel Mac OS X 10_15_7) AppleWebKit/537.36 (KHTML, like Gecko) Chrome/101.0.4951.64 Safari/537.36\"}\n",
        "   \n",
        "    response = requests.get(url, headers=headers)\n",
        "    table = pd.read_html(response.text, encoding=\"cp949\")\n",
        "    temp = table[0].dropna()\n",
        "    \n",
        "    return temp"
      ]
    },
    {
      "cell_type": "code",
      "execution_count": null,
      "metadata": {
        "id": "evjinapgTMkA",
        "outputId": "3b6c5f07-61bf-4121-ea64-9f7bc0f085b8"
      },
      "outputs": [
        {
          "data": {
            "text/html": [
              "<div>\n",
              "<style scoped>\n",
              "    .dataframe tbody tr th:only-of-type {\n",
              "        vertical-align: middle;\n",
              "    }\n",
              "\n",
              "    .dataframe tbody tr th {\n",
              "        vertical-align: top;\n",
              "    }\n",
              "\n",
              "    .dataframe thead th {\n",
              "        text-align: right;\n",
              "    }\n",
              "</style>\n",
              "<table border=\"1\" class=\"dataframe\">\n",
              "  <thead>\n",
              "    <tr style=\"text-align: right;\">\n",
              "      <th></th>\n",
              "      <th>날짜</th>\n",
              "      <th>종가</th>\n",
              "      <th>전일비</th>\n",
              "      <th>시가</th>\n",
              "      <th>고가</th>\n",
              "      <th>저가</th>\n",
              "      <th>거래량</th>\n",
              "    </tr>\n",
              "  </thead>\n",
              "  <tbody>\n",
              "    <tr>\n",
              "      <th>1</th>\n",
              "      <td>2022.05.02</td>\n",
              "      <td>67300.0</td>\n",
              "      <td>100.0</td>\n",
              "      <td>66600.0</td>\n",
              "      <td>67600.0</td>\n",
              "      <td>66500.0</td>\n",
              "      <td>14106184.0</td>\n",
              "    </tr>\n",
              "    <tr>\n",
              "      <th>2</th>\n",
              "      <td>2022.04.29</td>\n",
              "      <td>67400.0</td>\n",
              "      <td>2600.0</td>\n",
              "      <td>65100.0</td>\n",
              "      <td>67600.0</td>\n",
              "      <td>65000.0</td>\n",
              "      <td>26190390.0</td>\n",
              "    </tr>\n",
              "    <tr>\n",
              "      <th>3</th>\n",
              "      <td>2022.04.28</td>\n",
              "      <td>64800.0</td>\n",
              "      <td>200.0</td>\n",
              "      <td>65400.0</td>\n",
              "      <td>65500.0</td>\n",
              "      <td>64500.0</td>\n",
              "      <td>16895527.0</td>\n",
              "    </tr>\n",
              "    <tr>\n",
              "      <th>4</th>\n",
              "      <td>2022.04.27</td>\n",
              "      <td>65000.0</td>\n",
              "      <td>1100.0</td>\n",
              "      <td>65400.0</td>\n",
              "      <td>65500.0</td>\n",
              "      <td>64900.0</td>\n",
              "      <td>18122084.0</td>\n",
              "    </tr>\n",
              "    <tr>\n",
              "      <th>5</th>\n",
              "      <td>2022.04.26</td>\n",
              "      <td>66100.0</td>\n",
              "      <td>200.0</td>\n",
              "      <td>66400.0</td>\n",
              "      <td>66700.0</td>\n",
              "      <td>66100.0</td>\n",
              "      <td>12946923.0</td>\n",
              "    </tr>\n",
              "    <tr>\n",
              "      <th>9</th>\n",
              "      <td>2022.04.25</td>\n",
              "      <td>66300.0</td>\n",
              "      <td>700.0</td>\n",
              "      <td>66500.0</td>\n",
              "      <td>66700.0</td>\n",
              "      <td>66300.0</td>\n",
              "      <td>11016474.0</td>\n",
              "    </tr>\n",
              "    <tr>\n",
              "      <th>10</th>\n",
              "      <td>2022.04.22</td>\n",
              "      <td>67000.0</td>\n",
              "      <td>700.0</td>\n",
              "      <td>67200.0</td>\n",
              "      <td>67300.0</td>\n",
              "      <td>66700.0</td>\n",
              "      <td>11791478.0</td>\n",
              "    </tr>\n",
              "    <tr>\n",
              "      <th>11</th>\n",
              "      <td>2022.04.21</td>\n",
              "      <td>67700.0</td>\n",
              "      <td>300.0</td>\n",
              "      <td>67600.0</td>\n",
              "      <td>68300.0</td>\n",
              "      <td>67500.0</td>\n",
              "      <td>12847448.0</td>\n",
              "    </tr>\n",
              "    <tr>\n",
              "      <th>12</th>\n",
              "      <td>2022.04.20</td>\n",
              "      <td>67400.0</td>\n",
              "      <td>100.0</td>\n",
              "      <td>67000.0</td>\n",
              "      <td>67400.0</td>\n",
              "      <td>66500.0</td>\n",
              "      <td>16693293.0</td>\n",
              "    </tr>\n",
              "    <tr>\n",
              "      <th>13</th>\n",
              "      <td>2022.04.19</td>\n",
              "      <td>67300.0</td>\n",
              "      <td>600.0</td>\n",
              "      <td>67100.0</td>\n",
              "      <td>68000.0</td>\n",
              "      <td>67000.0</td>\n",
              "      <td>12959434.0</td>\n",
              "    </tr>\n",
              "  </tbody>\n",
              "</table>\n",
              "</div>"
            ],
            "text/plain": [
              "            날짜       종가     전일비       시가       고가       저가         거래량\n",
              "1   2022.05.02  67300.0   100.0  66600.0  67600.0  66500.0  14106184.0\n",
              "2   2022.04.29  67400.0  2600.0  65100.0  67600.0  65000.0  26190390.0\n",
              "3   2022.04.28  64800.0   200.0  65400.0  65500.0  64500.0  16895527.0\n",
              "4   2022.04.27  65000.0  1100.0  65400.0  65500.0  64900.0  18122084.0\n",
              "5   2022.04.26  66100.0   200.0  66400.0  66700.0  66100.0  12946923.0\n",
              "9   2022.04.25  66300.0   700.0  66500.0  66700.0  66300.0  11016474.0\n",
              "10  2022.04.22  67000.0   700.0  67200.0  67300.0  66700.0  11791478.0\n",
              "11  2022.04.21  67700.0   300.0  67600.0  68300.0  67500.0  12847448.0\n",
              "12  2022.04.20  67400.0   100.0  67000.0  67400.0  66500.0  16693293.0\n",
              "13  2022.04.19  67300.0   600.0  67100.0  68000.0  67000.0  12959434.0"
            ]
          },
          "execution_count": 82,
          "metadata": {},
          "output_type": "execute_result"
        }
      ],
      "source": [
        "# 함수가 잘 만들어졌는지 확인하기\n",
        "page_no = 2\n",
        "get_day_list(item_code, page_no)"
      ]
    },
    {
      "cell_type": "code",
      "execution_count": null,
      "metadata": {
        "id": "cpA59-0s3kxE",
        "outputId": "df44f5d6-7bd0-440f-c147-ceaa10c11df6"
      },
      "outputs": [
        {
          "data": {
            "text/html": [
              "<div>\n",
              "<style scoped>\n",
              "    .dataframe tbody tr th:only-of-type {\n",
              "        vertical-align: middle;\n",
              "    }\n",
              "\n",
              "    .dataframe tbody tr th {\n",
              "        vertical-align: top;\n",
              "    }\n",
              "\n",
              "    .dataframe thead th {\n",
              "        text-align: right;\n",
              "    }\n",
              "</style>\n",
              "<table border=\"1\" class=\"dataframe\">\n",
              "  <thead>\n",
              "    <tr style=\"text-align: right;\">\n",
              "      <th></th>\n",
              "      <th>0</th>\n",
              "      <th>1</th>\n",
              "      <th>2</th>\n",
              "      <th>3</th>\n",
              "      <th>4</th>\n",
              "      <th>5</th>\n",
              "      <th>6</th>\n",
              "      <th>7</th>\n",
              "      <th>8</th>\n",
              "      <th>9</th>\n",
              "      <th>10</th>\n",
              "      <th>11</th>\n",
              "      <th>12</th>\n",
              "    </tr>\n",
              "  </thead>\n",
              "  <tbody>\n",
              "    <tr>\n",
              "      <th>0</th>\n",
              "      <td>맨앞</td>\n",
              "      <td>1</td>\n",
              "      <td>2</td>\n",
              "      <td>3</td>\n",
              "      <td>4</td>\n",
              "      <td>5</td>\n",
              "      <td>6</td>\n",
              "      <td>7</td>\n",
              "      <td>8</td>\n",
              "      <td>9</td>\n",
              "      <td>10</td>\n",
              "      <td>다음</td>\n",
              "      <td>맨뒤</td>\n",
              "    </tr>\n",
              "  </tbody>\n",
              "</table>\n",
              "</div>"
            ],
            "text/plain": [
              "   0   1   2   3   4   5   6   7   8   9   10  11  12\n",
              "0  맨앞   1   2   3   4   5   6   7   8   9  10  다음  맨뒤"
            ]
          },
          "execution_count": 85,
          "metadata": {},
          "output_type": "execute_result"
        }
      ],
      "source": [
        "table[-1]"
      ]
    },
    {
      "cell_type": "code",
      "execution_count": null,
      "metadata": {
        "id": "MXBwV5WV3kxE",
        "outputId": "efd38683-116d-4084-9aac-763523447212"
      },
      "outputs": [
        {
          "data": {
            "text/plain": [
              "'650'"
            ]
          },
          "execution_count": 91,
          "metadata": {},
          "output_type": "execute_result"
        }
      ],
      "source": [
        "html.select(\"a\")[-1][\"href\"].split(\"=\")[-1]"
      ]
    },
    {
      "cell_type": "markdown",
      "metadata": {
        "id": "uuaac8XTTMkA"
      },
      "source": [
        "## 반복문을 통한 전체 일자 데이터 수집하기\n",
        "* (주의) 기간이 긴 데이터를 수집할때는 서버에 부담을 주지 않기 위해 time.sleep()값을 주세요."
      ]
    },
    {
      "cell_type": "code",
      "execution_count": null,
      "metadata": {
        "id": "IDv0VtXP3kxF"
      },
      "outputs": [],
      "source": [
        "url = \"https://finance.naver.com/item/sise.naver?code=373220&page=2\""
      ]
    },
    {
      "cell_type": "code",
      "execution_count": null,
      "metadata": {
        "id": "3iv_MTOm3kxF",
        "outputId": "9ddd1d24-98a1-4111-8574-5b59c78aebb8"
      },
      "outputs": [
        {
          "data": {
            "text/plain": [
              "'2022.02.04'"
            ]
          },
          "execution_count": 110,
          "metadata": {},
          "output_type": "execute_result"
        }
      ],
      "source": [
        "item_code = \"373220\"\n",
        "item_name = \"LG에너지솔루션\"\n",
        "page_no = 7\n",
        "temp = get_day_list(item_code, page_no)\n",
        "temp.iloc[-1, 0]"
      ]
    },
    {
      "cell_type": "code",
      "execution_count": null,
      "metadata": {
        "id": "Jm4IE-tc3kxF"
      },
      "outputs": [],
      "source": [
        "# 카카오페이\n",
        "# https://finance.naver.com/item/main.naver?code=377300"
      ]
    },
    {
      "cell_type": "code",
      "execution_count": null,
      "metadata": {
        "id": "EQs1C6C_TMkA",
        "outputId": "b9ceca7c-3574-4eee-fc19-548e81705a31"
      },
      "outputs": [
        {
          "name": "stdout",
          "output_type": "stream",
          "text": [
            "1\n",
            "2\n",
            "3\n",
            "4\n",
            "5\n",
            "6\n",
            "7\n",
            "8\n",
            "9\n"
          ]
        }
      ],
      "source": [
        "import time\n",
        "# web page 시작번호\n",
        "page_no = 1\n",
        "# 데이터를 저장할 빈 변수 선언\n",
        "item_list = []\n",
        "item_code = \"373220\"\n",
        "item_name = \"LG에너지솔루션\"\n",
        "# item_code = \"377300\"\n",
        "# item_name = \"카카오페이\"\n",
        "\n",
        "prev = \"\"\n",
        "\n",
        "while True:\n",
        "    print(page_no)\n",
        "    \n",
        "    df_one_page = get_day_list(item_code, page_no)\n",
        "    # 마지막 날짜를 가져옴\n",
        "    curr = df_one_page.iloc[-1, 0]\n",
        "    # 마지막 날짜를 비교했을 때 같으면 반복문을 종료\n",
        "    if curr == prev:\n",
        "        break\n",
        "        \n",
        "    item_list.append(df_one_page)\n",
        "    page_no = page_no + 1\n",
        "    # 현재 날짜를 이전 날짜 변수에 담아서 다음번에 비교합니다.\n",
        "    prev = curr"
      ]
    },
    {
      "cell_type": "markdown",
      "metadata": {
        "id": "iEFBJv5XTMkA"
      },
      "source": [
        "## 수집한 데이터 하나의 데이터프레임으로 합치기\n",
        "\n",
        "<img src=\"https://pandas.pydata.org/docs/_images/merging_concat_basic.png\">\n",
        "\n",
        "* [Merge, join, concatenate and compare documentation](https://pandas.pydata.org/docs/user_guide/merging.html#merge-join-concatenate-and-compare)"
      ]
    },
    {
      "cell_type": "code",
      "execution_count": null,
      "metadata": {
        "id": "mUcxeTMFTMkA",
        "outputId": "95fec5a0-fd0e-47a9-f7f2-fafb39153a1c"
      },
      "outputs": [
        {
          "data": {
            "text/html": [
              "<div>\n",
              "<style scoped>\n",
              "    .dataframe tbody tr th:only-of-type {\n",
              "        vertical-align: middle;\n",
              "    }\n",
              "\n",
              "    .dataframe tbody tr th {\n",
              "        vertical-align: top;\n",
              "    }\n",
              "\n",
              "    .dataframe thead th {\n",
              "        text-align: right;\n",
              "    }\n",
              "</style>\n",
              "<table border=\"1\" class=\"dataframe\">\n",
              "  <thead>\n",
              "    <tr style=\"text-align: right;\">\n",
              "      <th></th>\n",
              "      <th>날짜</th>\n",
              "      <th>종가</th>\n",
              "      <th>전일비</th>\n",
              "      <th>시가</th>\n",
              "      <th>고가</th>\n",
              "      <th>저가</th>\n",
              "      <th>거래량</th>\n",
              "    </tr>\n",
              "  </thead>\n",
              "  <tbody>\n",
              "    <tr>\n",
              "      <th>1</th>\n",
              "      <td>2022.05.17</td>\n",
              "      <td>408500.0</td>\n",
              "      <td>8000.0</td>\n",
              "      <td>400500.0</td>\n",
              "      <td>411000.0</td>\n",
              "      <td>399000.0</td>\n",
              "      <td>228952.0</td>\n",
              "    </tr>\n",
              "    <tr>\n",
              "      <th>2</th>\n",
              "      <td>2022.05.16</td>\n",
              "      <td>400500.0</td>\n",
              "      <td>0.0</td>\n",
              "      <td>407000.0</td>\n",
              "      <td>407500.0</td>\n",
              "      <td>397000.0</td>\n",
              "      <td>200731.0</td>\n",
              "    </tr>\n",
              "    <tr>\n",
              "      <th>3</th>\n",
              "      <td>2022.05.13</td>\n",
              "      <td>400500.0</td>\n",
              "      <td>12500.0</td>\n",
              "      <td>390500.0</td>\n",
              "      <td>401500.0</td>\n",
              "      <td>390500.0</td>\n",
              "      <td>228636.0</td>\n",
              "    </tr>\n",
              "    <tr>\n",
              "      <th>4</th>\n",
              "      <td>2022.05.12</td>\n",
              "      <td>388000.0</td>\n",
              "      <td>3500.0</td>\n",
              "      <td>390000.0</td>\n",
              "      <td>395500.0</td>\n",
              "      <td>386000.0</td>\n",
              "      <td>251570.0</td>\n",
              "    </tr>\n",
              "    <tr>\n",
              "      <th>5</th>\n",
              "      <td>2022.05.11</td>\n",
              "      <td>391500.0</td>\n",
              "      <td>2000.0</td>\n",
              "      <td>394000.0</td>\n",
              "      <td>398000.0</td>\n",
              "      <td>391500.0</td>\n",
              "      <td>239355.0</td>\n",
              "    </tr>\n",
              "    <tr>\n",
              "      <th>...</th>\n",
              "      <td>...</td>\n",
              "      <td>...</td>\n",
              "      <td>...</td>\n",
              "      <td>...</td>\n",
              "      <td>...</td>\n",
              "      <td>...</td>\n",
              "      <td>...</td>\n",
              "    </tr>\n",
              "    <tr>\n",
              "      <th>12</th>\n",
              "      <td>2022.02.07</td>\n",
              "      <td>548000.0</td>\n",
              "      <td>44000.0</td>\n",
              "      <td>520000.0</td>\n",
              "      <td>548000.0</td>\n",
              "      <td>511000.0</td>\n",
              "      <td>1911176.0</td>\n",
              "    </tr>\n",
              "    <tr>\n",
              "      <th>13</th>\n",
              "      <td>2022.02.04</td>\n",
              "      <td>504000.0</td>\n",
              "      <td>27000.0</td>\n",
              "      <td>476500.0</td>\n",
              "      <td>505000.0</td>\n",
              "      <td>476000.0</td>\n",
              "      <td>2088996.0</td>\n",
              "    </tr>\n",
              "    <tr>\n",
              "      <th>1</th>\n",
              "      <td>2022.02.03</td>\n",
              "      <td>477000.0</td>\n",
              "      <td>27000.0</td>\n",
              "      <td>458000.0</td>\n",
              "      <td>495500.0</td>\n",
              "      <td>441000.0</td>\n",
              "      <td>2918435.0</td>\n",
              "    </tr>\n",
              "    <tr>\n",
              "      <th>2</th>\n",
              "      <td>2022.01.28</td>\n",
              "      <td>450000.0</td>\n",
              "      <td>55000.0</td>\n",
              "      <td>476000.0</td>\n",
              "      <td>483000.0</td>\n",
              "      <td>445000.0</td>\n",
              "      <td>4559773.0</td>\n",
              "    </tr>\n",
              "    <tr>\n",
              "      <th>3</th>\n",
              "      <td>2022.01.27</td>\n",
              "      <td>505000.0</td>\n",
              "      <td>92000.0</td>\n",
              "      <td>597000.0</td>\n",
              "      <td>598000.0</td>\n",
              "      <td>450000.0</td>\n",
              "      <td>15946992.0</td>\n",
              "    </tr>\n",
              "  </tbody>\n",
              "</table>\n",
              "<p>73 rows × 7 columns</p>\n",
              "</div>"
            ],
            "text/plain": [
              "            날짜        종가      전일비        시가        고가        저가         거래량\n",
              "1   2022.05.17  408500.0   8000.0  400500.0  411000.0  399000.0    228952.0\n",
              "2   2022.05.16  400500.0      0.0  407000.0  407500.0  397000.0    200731.0\n",
              "3   2022.05.13  400500.0  12500.0  390500.0  401500.0  390500.0    228636.0\n",
              "4   2022.05.12  388000.0   3500.0  390000.0  395500.0  386000.0    251570.0\n",
              "5   2022.05.11  391500.0   2000.0  394000.0  398000.0  391500.0    239355.0\n",
              "..         ...       ...      ...       ...       ...       ...         ...\n",
              "12  2022.02.07  548000.0  44000.0  520000.0  548000.0  511000.0   1911176.0\n",
              "13  2022.02.04  504000.0  27000.0  476500.0  505000.0  476000.0   2088996.0\n",
              "1   2022.02.03  477000.0  27000.0  458000.0  495500.0  441000.0   2918435.0\n",
              "2   2022.01.28  450000.0  55000.0  476000.0  483000.0  445000.0   4559773.0\n",
              "3   2022.01.27  505000.0  92000.0  597000.0  598000.0  450000.0  15946992.0\n",
              "\n",
              "[73 rows x 7 columns]"
            ]
          },
          "execution_count": 119,
          "metadata": {},
          "output_type": "execute_result"
        }
      ],
      "source": [
        "# DataFrame들이 list의 형태로 저장된 것을 concat을 이용하여 합치면서 하나의 DataFrame으로 만듭니다.\n",
        "df = pd.concat(item_list)\n",
        "df"
      ]
    },
    {
      "cell_type": "code",
      "execution_count": null,
      "metadata": {
        "id": "1jPebfg53kxH",
        "outputId": "316abf3b-50c5-48a3-f6b3-653e2df86927"
      },
      "outputs": [
        {
          "name": "stdout",
          "output_type": "stream",
          "text": [
            "24 µs ± 1.43 µs per loop (mean ± std. dev. of 7 runs, 10000 loops each)\n"
          ]
        }
      ],
      "source": [
        "%timeit df.iloc[0, 0]"
      ]
    },
    {
      "cell_type": "code",
      "execution_count": null,
      "metadata": {
        "id": "N1cGPmca3kxH",
        "outputId": "741b525d-373e-4027-e59b-6e6fa9b4fd5e"
      },
      "outputs": [
        {
          "name": "stdout",
          "output_type": "stream",
          "text": [
            "96.5 µs ± 1.93 µs per loop (mean ± std. dev. of 7 runs, 10000 loops each)\n"
          ]
        }
      ],
      "source": [
        "%timeit df.iloc[0][0]"
      ]
    },
    {
      "cell_type": "markdown",
      "metadata": {
        "id": "xbV1ou_cpzKB"
      },
      "source": [
        "<img src=\"https://pandas.pydata.org/docs/_images/02_io_readwrite.svg\">"
      ]
    },
    {
      "cell_type": "code",
      "execution_count": null,
      "metadata": {
        "id": "Ep3NWfM-TMkA",
        "outputId": "1157f97d-500d-4664-8454-d470cfbde7ae"
      },
      "outputs": [
        {
          "data": {
            "text/html": [
              "<div>\n",
              "<style scoped>\n",
              "    .dataframe tbody tr th:only-of-type {\n",
              "        vertical-align: middle;\n",
              "    }\n",
              "\n",
              "    .dataframe tbody tr th {\n",
              "        vertical-align: top;\n",
              "    }\n",
              "\n",
              "    .dataframe thead th {\n",
              "        text-align: right;\n",
              "    }\n",
              "</style>\n",
              "<table border=\"1\" class=\"dataframe\">\n",
              "  <thead>\n",
              "    <tr style=\"text-align: right;\">\n",
              "      <th></th>\n",
              "      <th>날짜</th>\n",
              "      <th>종가</th>\n",
              "      <th>전일비</th>\n",
              "      <th>시가</th>\n",
              "      <th>고가</th>\n",
              "      <th>저가</th>\n",
              "      <th>거래량</th>\n",
              "    </tr>\n",
              "  </thead>\n",
              "  <tbody>\n",
              "    <tr>\n",
              "      <th>1</th>\n",
              "      <td>2022.05.17</td>\n",
              "      <td>408500.0</td>\n",
              "      <td>8000.0</td>\n",
              "      <td>400500.0</td>\n",
              "      <td>411000.0</td>\n",
              "      <td>399000.0</td>\n",
              "      <td>228952.0</td>\n",
              "    </tr>\n",
              "    <tr>\n",
              "      <th>2</th>\n",
              "      <td>2022.05.16</td>\n",
              "      <td>400500.0</td>\n",
              "      <td>0.0</td>\n",
              "      <td>407000.0</td>\n",
              "      <td>407500.0</td>\n",
              "      <td>397000.0</td>\n",
              "      <td>200731.0</td>\n",
              "    </tr>\n",
              "    <tr>\n",
              "      <th>3</th>\n",
              "      <td>2022.05.13</td>\n",
              "      <td>400500.0</td>\n",
              "      <td>12500.0</td>\n",
              "      <td>390500.0</td>\n",
              "      <td>401500.0</td>\n",
              "      <td>390500.0</td>\n",
              "      <td>228636.0</td>\n",
              "    </tr>\n",
              "    <tr>\n",
              "      <th>4</th>\n",
              "      <td>2022.05.12</td>\n",
              "      <td>388000.0</td>\n",
              "      <td>3500.0</td>\n",
              "      <td>390000.0</td>\n",
              "      <td>395500.0</td>\n",
              "      <td>386000.0</td>\n",
              "      <td>251570.0</td>\n",
              "    </tr>\n",
              "    <tr>\n",
              "      <th>5</th>\n",
              "      <td>2022.05.11</td>\n",
              "      <td>391500.0</td>\n",
              "      <td>2000.0</td>\n",
              "      <td>394000.0</td>\n",
              "      <td>398000.0</td>\n",
              "      <td>391500.0</td>\n",
              "      <td>239355.0</td>\n",
              "    </tr>\n",
              "  </tbody>\n",
              "</table>\n",
              "</div>"
            ],
            "text/plain": [
              "           날짜        종가      전일비        시가        고가        저가       거래량\n",
              "1  2022.05.17  408500.0   8000.0  400500.0  411000.0  399000.0  228952.0\n",
              "2  2022.05.16  400500.0      0.0  407000.0  407500.0  397000.0  200731.0\n",
              "3  2022.05.13  400500.0  12500.0  390500.0  401500.0  390500.0  228636.0\n",
              "4  2022.05.12  388000.0   3500.0  390000.0  395500.0  386000.0  251570.0\n",
              "5  2022.05.11  391500.0   2000.0  394000.0  398000.0  391500.0  239355.0"
            ]
          },
          "execution_count": 125,
          "metadata": {},
          "output_type": "execute_result"
        }
      ],
      "source": [
        "# head와 tail로 데이터의 일부를 가져와서 봅니다.\n",
        "df.head()"
      ]
    },
    {
      "cell_type": "code",
      "execution_count": null,
      "metadata": {
        "id": "hHcKUo8iTMkA",
        "outputId": "5abb9690-7fa9-4140-dbbf-bc6f1b890395"
      },
      "outputs": [
        {
          "data": {
            "text/html": [
              "<div>\n",
              "<style scoped>\n",
              "    .dataframe tbody tr th:only-of-type {\n",
              "        vertical-align: middle;\n",
              "    }\n",
              "\n",
              "    .dataframe tbody tr th {\n",
              "        vertical-align: top;\n",
              "    }\n",
              "\n",
              "    .dataframe thead th {\n",
              "        text-align: right;\n",
              "    }\n",
              "</style>\n",
              "<table border=\"1\" class=\"dataframe\">\n",
              "  <thead>\n",
              "    <tr style=\"text-align: right;\">\n",
              "      <th></th>\n",
              "      <th>날짜</th>\n",
              "      <th>종가</th>\n",
              "      <th>전일비</th>\n",
              "      <th>시가</th>\n",
              "      <th>고가</th>\n",
              "      <th>저가</th>\n",
              "      <th>거래량</th>\n",
              "    </tr>\n",
              "  </thead>\n",
              "  <tbody>\n",
              "    <tr>\n",
              "      <th>12</th>\n",
              "      <td>2022.02.07</td>\n",
              "      <td>548000.0</td>\n",
              "      <td>44000.0</td>\n",
              "      <td>520000.0</td>\n",
              "      <td>548000.0</td>\n",
              "      <td>511000.0</td>\n",
              "      <td>1911176.0</td>\n",
              "    </tr>\n",
              "    <tr>\n",
              "      <th>13</th>\n",
              "      <td>2022.02.04</td>\n",
              "      <td>504000.0</td>\n",
              "      <td>27000.0</td>\n",
              "      <td>476500.0</td>\n",
              "      <td>505000.0</td>\n",
              "      <td>476000.0</td>\n",
              "      <td>2088996.0</td>\n",
              "    </tr>\n",
              "    <tr>\n",
              "      <th>1</th>\n",
              "      <td>2022.02.03</td>\n",
              "      <td>477000.0</td>\n",
              "      <td>27000.0</td>\n",
              "      <td>458000.0</td>\n",
              "      <td>495500.0</td>\n",
              "      <td>441000.0</td>\n",
              "      <td>2918435.0</td>\n",
              "    </tr>\n",
              "    <tr>\n",
              "      <th>2</th>\n",
              "      <td>2022.01.28</td>\n",
              "      <td>450000.0</td>\n",
              "      <td>55000.0</td>\n",
              "      <td>476000.0</td>\n",
              "      <td>483000.0</td>\n",
              "      <td>445000.0</td>\n",
              "      <td>4559773.0</td>\n",
              "    </tr>\n",
              "    <tr>\n",
              "      <th>3</th>\n",
              "      <td>2022.01.27</td>\n",
              "      <td>505000.0</td>\n",
              "      <td>92000.0</td>\n",
              "      <td>597000.0</td>\n",
              "      <td>598000.0</td>\n",
              "      <td>450000.0</td>\n",
              "      <td>15946992.0</td>\n",
              "    </tr>\n",
              "  </tbody>\n",
              "</table>\n",
              "</div>"
            ],
            "text/plain": [
              "            날짜        종가      전일비        시가        고가        저가         거래량\n",
              "12  2022.02.07  548000.0  44000.0  520000.0  548000.0  511000.0   1911176.0\n",
              "13  2022.02.04  504000.0  27000.0  476500.0  505000.0  476000.0   2088996.0\n",
              "1   2022.02.03  477000.0  27000.0  458000.0  495500.0  441000.0   2918435.0\n",
              "2   2022.01.28  450000.0  55000.0  476000.0  483000.0  445000.0   4559773.0\n",
              "3   2022.01.27  505000.0  92000.0  597000.0  598000.0  450000.0  15946992.0"
            ]
          },
          "execution_count": 126,
          "metadata": {},
          "output_type": "execute_result"
        }
      ],
      "source": [
        "df.tail()"
      ]
    },
    {
      "cell_type": "markdown",
      "metadata": {
        "id": "DdML6w8yTMkA"
      },
      "source": [
        "## 데이터프레임에 종목코드와 종목명을 추가하기\n",
        "* 파생변수 만들기"
      ]
    },
    {
      "cell_type": "code",
      "execution_count": null,
      "metadata": {
        "id": "-yIDnlZHTMkA"
      },
      "outputs": [],
      "source": [
        "# '종목코드'와 '종목명' column을 추가하면서 각각 item_code와 item_name 값을 입력합니다.\n",
        "df[\"종목코드\"] = item_code\n",
        "df[\"종목명\"] = item_name"
      ]
    },
    {
      "cell_type": "code",
      "execution_count": null,
      "metadata": {
        "id": "bwDA0C4PTMkA",
        "outputId": "4d6f0563-32c2-4465-95c6-342533a4ccfb"
      },
      "outputs": [
        {
          "data": {
            "text/html": [
              "<div>\n",
              "<style scoped>\n",
              "    .dataframe tbody tr th:only-of-type {\n",
              "        vertical-align: middle;\n",
              "    }\n",
              "\n",
              "    .dataframe tbody tr th {\n",
              "        vertical-align: top;\n",
              "    }\n",
              "\n",
              "    .dataframe thead th {\n",
              "        text-align: right;\n",
              "    }\n",
              "</style>\n",
              "<table border=\"1\" class=\"dataframe\">\n",
              "  <thead>\n",
              "    <tr style=\"text-align: right;\">\n",
              "      <th></th>\n",
              "      <th>날짜</th>\n",
              "      <th>종가</th>\n",
              "      <th>전일비</th>\n",
              "      <th>시가</th>\n",
              "      <th>고가</th>\n",
              "      <th>저가</th>\n",
              "      <th>거래량</th>\n",
              "      <th>종목코드</th>\n",
              "      <th>종목명</th>\n",
              "    </tr>\n",
              "  </thead>\n",
              "  <tbody>\n",
              "    <tr>\n",
              "      <th>1</th>\n",
              "      <td>2022.05.17</td>\n",
              "      <td>408500.0</td>\n",
              "      <td>8000.0</td>\n",
              "      <td>400500.0</td>\n",
              "      <td>411000.0</td>\n",
              "      <td>399000.0</td>\n",
              "      <td>228952.0</td>\n",
              "      <td>373220</td>\n",
              "      <td>LG에너지솔루션</td>\n",
              "    </tr>\n",
              "    <tr>\n",
              "      <th>2</th>\n",
              "      <td>2022.05.16</td>\n",
              "      <td>400500.0</td>\n",
              "      <td>0.0</td>\n",
              "      <td>407000.0</td>\n",
              "      <td>407500.0</td>\n",
              "      <td>397000.0</td>\n",
              "      <td>200731.0</td>\n",
              "      <td>373220</td>\n",
              "      <td>LG에너지솔루션</td>\n",
              "    </tr>\n",
              "    <tr>\n",
              "      <th>3</th>\n",
              "      <td>2022.05.13</td>\n",
              "      <td>400500.0</td>\n",
              "      <td>12500.0</td>\n",
              "      <td>390500.0</td>\n",
              "      <td>401500.0</td>\n",
              "      <td>390500.0</td>\n",
              "      <td>228636.0</td>\n",
              "      <td>373220</td>\n",
              "      <td>LG에너지솔루션</td>\n",
              "    </tr>\n",
              "    <tr>\n",
              "      <th>4</th>\n",
              "      <td>2022.05.12</td>\n",
              "      <td>388000.0</td>\n",
              "      <td>3500.0</td>\n",
              "      <td>390000.0</td>\n",
              "      <td>395500.0</td>\n",
              "      <td>386000.0</td>\n",
              "      <td>251570.0</td>\n",
              "      <td>373220</td>\n",
              "      <td>LG에너지솔루션</td>\n",
              "    </tr>\n",
              "    <tr>\n",
              "      <th>5</th>\n",
              "      <td>2022.05.11</td>\n",
              "      <td>391500.0</td>\n",
              "      <td>2000.0</td>\n",
              "      <td>394000.0</td>\n",
              "      <td>398000.0</td>\n",
              "      <td>391500.0</td>\n",
              "      <td>239355.0</td>\n",
              "      <td>373220</td>\n",
              "      <td>LG에너지솔루션</td>\n",
              "    </tr>\n",
              "  </tbody>\n",
              "</table>\n",
              "</div>"
            ],
            "text/plain": [
              "           날짜        종가      전일비        시가        고가        저가       거래량  \\\n",
              "1  2022.05.17  408500.0   8000.0  400500.0  411000.0  399000.0  228952.0   \n",
              "2  2022.05.16  400500.0      0.0  407000.0  407500.0  397000.0  200731.0   \n",
              "3  2022.05.13  400500.0  12500.0  390500.0  401500.0  390500.0  228636.0   \n",
              "4  2022.05.12  388000.0   3500.0  390000.0  395500.0  386000.0  251570.0   \n",
              "5  2022.05.11  391500.0   2000.0  394000.0  398000.0  391500.0  239355.0   \n",
              "\n",
              "     종목코드       종목명  \n",
              "1  373220  LG에너지솔루션  \n",
              "2  373220  LG에너지솔루션  \n",
              "3  373220  LG에너지솔루션  \n",
              "4  373220  LG에너지솔루션  \n",
              "5  373220  LG에너지솔루션  "
            ]
          },
          "execution_count": 128,
          "metadata": {},
          "output_type": "execute_result"
        }
      ],
      "source": [
        "df.head()"
      ]
    },
    {
      "cell_type": "markdown",
      "metadata": {
        "id": "3RlnKPE1TMkA"
      },
      "source": [
        "## 컬럼 순서 변경하기"
      ]
    },
    {
      "cell_type": "code",
      "execution_count": null,
      "metadata": {
        "id": "JblNSbuRTMkA"
      },
      "outputs": [],
      "source": [
        "# DataFrame에서 column 들의 이름을 순서를 조정하여 column순서를 변경할 수 있습니다."
      ]
    },
    {
      "cell_type": "code",
      "execution_count": null,
      "metadata": {
        "id": "K1GYLvjzpzKD",
        "scrolled": true,
        "outputId": "b039177b-2874-4fab-a1a1-168e8d3d692a"
      },
      "outputs": [
        {
          "data": {
            "text/html": [
              "<div>\n",
              "<style scoped>\n",
              "    .dataframe tbody tr th:only-of-type {\n",
              "        vertical-align: middle;\n",
              "    }\n",
              "\n",
              "    .dataframe tbody tr th {\n",
              "        vertical-align: top;\n",
              "    }\n",
              "\n",
              "    .dataframe thead th {\n",
              "        text-align: right;\n",
              "    }\n",
              "</style>\n",
              "<table border=\"1\" class=\"dataframe\">\n",
              "  <thead>\n",
              "    <tr style=\"text-align: right;\">\n",
              "      <th></th>\n",
              "      <th>종목코드</th>\n",
              "      <th>종목명</th>\n",
              "      <th>날짜</th>\n",
              "      <th>종가</th>\n",
              "      <th>전일비</th>\n",
              "      <th>시가</th>\n",
              "      <th>고가</th>\n",
              "      <th>저가</th>\n",
              "      <th>거래량</th>\n",
              "    </tr>\n",
              "  </thead>\n",
              "  <tbody>\n",
              "    <tr>\n",
              "      <th>1</th>\n",
              "      <td>373220</td>\n",
              "      <td>LG에너지솔루션</td>\n",
              "      <td>2022.05.17</td>\n",
              "      <td>408500.0</td>\n",
              "      <td>8000.0</td>\n",
              "      <td>400500.0</td>\n",
              "      <td>411000.0</td>\n",
              "      <td>399000.0</td>\n",
              "      <td>228952.0</td>\n",
              "    </tr>\n",
              "  </tbody>\n",
              "</table>\n",
              "</div>"
            ],
            "text/plain": [
              "     종목코드       종목명          날짜        종가     전일비        시가        고가  \\\n",
              "1  373220  LG에너지솔루션  2022.05.17  408500.0  8000.0  400500.0  411000.0   \n",
              "\n",
              "         저가       거래량  \n",
              "1  399000.0  228952.0  "
            ]
          },
          "execution_count": 131,
          "metadata": {},
          "output_type": "execute_result"
        }
      ],
      "source": [
        "cols = ['종목코드', '종목명', '날짜', '종가', '전일비', '시가', '고가', '저가', '거래량']\n",
        "df = df[cols]\n",
        "df.head(1)"
      ]
    },
    {
      "cell_type": "code",
      "execution_count": null,
      "metadata": {
        "id": "YonKR-zQ3kxK"
      },
      "outputs": [],
      "source": [
        "# import FinanceDataReader as fdr\n",
        "\n",
        "# fdr.DataReader??"
      ]
    },
    {
      "cell_type": "markdown",
      "metadata": {
        "id": "_-SXjeiSTMkA"
      },
      "source": [
        "## 중복데이터 제거하기\n",
        "* drop_duplicates 를 통해 중복된 데이터가 있다면 제거합니다."
      ]
    },
    {
      "cell_type": "code",
      "execution_count": null,
      "metadata": {
        "id": "F0VZGMNRTMkA",
        "outputId": "37918ea7-626f-4e71-930a-54ca9f1b53d1"
      },
      "outputs": [
        {
          "data": {
            "text/plain": [
              "(73, 9)"
            ]
          },
          "execution_count": 141,
          "metadata": {},
          "output_type": "execute_result"
        }
      ],
      "source": [
        "# drop_duplicates : row들 끼리 data를 비교하여 같은 값이 있으면 row중 하나를 삭제\n",
        "# df.shape를 전/후로 출력하여 삭제된 row가 있는지 확인\n",
        "df = df.drop_duplicates()\n",
        "df.shape"
      ]
    },
    {
      "cell_type": "markdown",
      "metadata": {
        "id": "viEbEi4iTMkB"
      },
      "source": [
        "## 기술통계값 구하기"
      ]
    },
    {
      "cell_type": "code",
      "execution_count": null,
      "metadata": {
        "id": "Q-gV-QPPTMkB"
      },
      "outputs": [],
      "source": [
        "# describe는 기본적으로 수치데이터에 대한 기술통계값을 구하게 됩니다.\n"
      ]
    },
    {
      "cell_type": "markdown",
      "metadata": {
        "id": "MZYL5CNcpzKD"
      },
      "source": [
        "* 참고 : E notation\n",
        "[과학적 기수법 - 위키백과, 우리 모두의 백과사전](https://ko.wikipedia.org/wiki/%EA%B3%BC%ED%95%99%EC%A0%81_%EA%B8%B0%EC%88%98%EB%B2%95)\n",
        "\n",
        "과학적 기수법, 과학적 표기법(scientific notation, scientific form, standard index form, standard form)은 너무 크거나 너무 작은 숫자들을 십진법으로 편하게 작성하여 표현하는 방법이다. 과학자, 수학자, 공학자들이 공통적으로 사용하는데, 부분적인 이유는 특정한 산술을 단순화시켜 주기 때문이다. 과학 계산기에서는 \"SCI\" 디스플레이 모드라는 이름으로 알려져 있다."
      ]
    },
    {
      "cell_type": "code",
      "execution_count": null,
      "metadata": {
        "id": "bRrv4mutpzKE"
      },
      "outputs": [],
      "source": [
        "# 거래량의 과학적 기수법 읽기\n"
      ]
    },
    {
      "cell_type": "markdown",
      "metadata": {
        "id": "Ql0phnyuTMkB"
      },
      "source": [
        "## 최근 날짜 구해서 파일명 만들기"
      ]
    },
    {
      "cell_type": "code",
      "execution_count": null,
      "metadata": {
        "id": "_dyLUpVVTMkB",
        "outputId": "57cad1f9-0f7c-4eca-f4b5-e2667209cad4"
      },
      "outputs": [
        {
          "data": {
            "text/plain": [
              "'2022.05.17'"
            ]
          },
          "execution_count": 144,
          "metadata": {},
          "output_type": "execute_result"
        }
      ],
      "source": [
        "# 날짜 column의 첫 row값 확인\n",
        "# date\n",
        "\n",
        "df.iloc[0][\"날짜\"]"
      ]
    },
    {
      "cell_type": "code",
      "execution_count": null,
      "metadata": {
        "id": "teInPugvTMkB"
      },
      "outputs": [],
      "source": [
        "# 종목명, 종목코드, 날짜를 이름으로 하는 csv 파일명 만들기\n",
        "# file_name\n"
      ]
    },
    {
      "cell_type": "markdown",
      "metadata": {
        "id": "1LXe-dutTMkB"
      },
      "source": [
        "## 파일로 저장하기"
      ]
    },
    {
      "cell_type": "code",
      "execution_count": null,
      "metadata": {
        "id": "dBRXOwIxTMkB"
      },
      "outputs": [],
      "source": [
        "# 파일로 저장하기 \n",
        "# index=False 로 데이터프레임의 기본 index 는 저장하지 않도록 합니다.\n"
      ]
    },
    {
      "cell_type": "code",
      "execution_count": null,
      "metadata": {
        "id": "EEfm9Yk9TMkB"
      },
      "outputs": [],
      "source": [
        "# 제대로 저장되었는지 파일을 읽어서 확인합니다.\n"
      ]
    },
    {
      "cell_type": "markdown",
      "metadata": {
        "id": "ns71GJrepzKF"
      },
      "source": [
        "## 전체 과정을 하나의 함수로 만들기"
      ]
    },
    {
      "cell_type": "code",
      "execution_count": null,
      "metadata": {
        "id": "p0ZnJR2vpzKF"
      },
      "outputs": [],
      "source": [
        "# def get_item_list(item_code, item_name):\n",
        "#     \"\"\"\n",
        "#     일별 시세를 수집하는 함수\n",
        "#     \"\"\""
      ]
    },
    {
      "cell_type": "code",
      "execution_count": null,
      "metadata": {
        "id": "dWsnom_CpzKF"
      },
      "outputs": [],
      "source": [
        "# item_code = \"323410\"\n",
        "# item_name = \"카카오뱅크\"\n"
      ]
    },
    {
      "cell_type": "markdown",
      "metadata": {
        "id": "sMn_Jv2BpzKF"
      },
      "source": [
        "## 내가 만든 함수의 기능과 소스코드가 궁금하다면?"
      ]
    },
    {
      "cell_type": "code",
      "execution_count": null,
      "metadata": {
        "id": "Do91XzYdpzKF"
      },
      "outputs": [],
      "source": [
        "# 도움말 보기\n",
        "# get_item_list?\n"
      ]
    },
    {
      "cell_type": "code",
      "execution_count": null,
      "metadata": {
        "id": "ZEgR39pVpzKG"
      },
      "outputs": [],
      "source": [
        "# 소스코드 보기\n",
        "# get_item_list??\n"
      ]
    },
    {
      "cell_type": "code",
      "execution_count": null,
      "metadata": {
        "id": "mKNWBkWKpzKG"
      },
      "outputs": [],
      "source": [
        ""
      ]
    }
  ],
  "metadata": {
    "colab": {
      "collapsed_sections": [],
      "name": "0203-naver-finance-daily-price-web-scraping-output.ipynb",
      "provenance": [],
      "toc_visible": true
    },
    "kernelspec": {
      "display_name": "Python 3 (ipykernel)",
      "language": "python",
      "name": "python3"
    },
    "language_info": {
      "codemirror_mode": {
        "name": "ipython",
        "version": 3
      },
      "file_extension": ".py",
      "mimetype": "text/x-python",
      "name": "python",
      "nbconvert_exporter": "python",
      "pygments_lexer": "ipython3",
      "version": "3.7.6"
    },
    "toc": {
      "base_numbering": 1,
      "nav_menu": {},
      "number_sections": true,
      "sideBar": true,
      "skip_h1_title": false,
      "title_cell": "Table of Contents",
      "title_sidebar": "Contents",
      "toc_cell": false,
      "toc_position": {
        "height": "calc(100% - 180px)",
        "left": "10px",
        "top": "150px",
        "width": "204.797px"
      },
      "toc_section_display": true,
      "toc_window_display": true
    },
    "varInspector": {
      "cols": {
        "lenName": 16,
        "lenType": 16,
        "lenVar": 40
      },
      "kernels_config": {
        "python": {
          "delete_cmd_postfix": "",
          "delete_cmd_prefix": "del ",
          "library": "var_list.py",
          "varRefreshCmd": "print(var_dic_list())"
        },
        "r": {
          "delete_cmd_postfix": ") ",
          "delete_cmd_prefix": "rm(",
          "library": "var_list.r",
          "varRefreshCmd": "cat(var_dic_list()) "
        }
      },
      "types_to_exclude": [
        "module",
        "function",
        "builtin_function_or_method",
        "instance",
        "_Feature"
      ],
      "window_display": false
    }
  },
  "nbformat": 4,
  "nbformat_minor": 0
}