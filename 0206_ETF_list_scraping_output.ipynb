{
  "cells": [
    {
      "cell_type": "markdown",
      "metadata": {
        "id": "b6ZRO3Ic0jYm"
      },
      "source": [
        "## ETF란?\n",
        "* ETF(상장지수펀드)는 기초지수의 성과를 추적하는 것이 목표인 인덱스펀드로, 거래소에 상장되어 있어서 개별주식과 마찬가지로 기존의 주식계좌를 통해 거래를 할 수 있습니다. 그 구성종목과 수량 등 자산구성내역(PDF)이 투명하게 공개되어 있고, 장중에는 실시간으로 순자산가치(NAV)가 제공되어 거래에 참고하실 수 있습니다. ETF는 1좌를 거래할 수 있는 최소한의 금액만으로 분산투자 효과를 누릴 수 있어 효율적인 투자수단이며, 펀드보다 운용보수가 낮고 주식에 적용되는 거래세도 붙지 않습니다. \n",
        "    * 출처 : [ETF : 네이버 금융](https://finance.naver.com/sise/etf.nhn)\n",
        "\n",
        "\n",
        "## 크롬 브라우저의 네트워크 정보를 통한 데이터 수집\n",
        "* json 데이터 수집과 파일저장 방법\n",
        "\n",
        "* [ETF : 네이버 금융](https://finance.naver.com/sise/etf.nhn)\n",
        "\n"
      ]
    },
    {
      "cell_type": "code",
      "execution_count": null,
      "metadata": {
        "id": "RzS961AR0jYn"
      },
      "outputs": [],
      "source": [
        "# 라이브러리를 불러옵니다.\n",
        "# 데이터 분석을 위한 pandas, 수치계산을 위한 numpy, http 요청을 위한 requests를 받아옵니다.\n",
        "import pandas as pd\n",
        "import numpy as np\n",
        "import requests"
      ]
    },
    {
      "cell_type": "code",
      "execution_count": null,
      "metadata": {
        "id": "tNPvs5c50jYn"
      },
      "outputs": [],
      "source": [
        "# 수집할 url을 가져옵니다.\n",
        "url = \"https://finance.naver.com/api/sise/etfItemList.nhn?etfType=0&targetColumn=market_sum&sortOrder=desc\"\n",
        "# url =\"https://finance.naver.com/api/sise/etfItemList.nhn?etfType=2&targetColumn=market_sum&sortOrder=desc&_callback=window.__jindo2_callback._3452\""
      ]
    },
    {
      "cell_type": "markdown",
      "metadata": {
        "id": "QxQGgYgP3wxL"
      },
      "source": [
        "## Pandas를 통한 요청"
      ]
    },
    {
      "cell_type": "code",
      "execution_count": null,
      "metadata": {
        "id": "TIBB-xq33wxM",
        "outputId": "5a261d8e-a864-4622-d4d1-8c30e0264297"
      },
      "outputs": [
        {
          "name": "stdout",
          "output_type": "stream",
          "text": [
            "https://finance.naver.com/api/sise/etfItemList.nhn?etfType=0&targetColumn=market_sum&sortOrder=desc\n"
          ]
        }
      ],
      "source": [
        "print(url)"
      ]
    },
    {
      "cell_type": "code",
      "execution_count": null,
      "metadata": {
        "id": "cKenJ6cQ3wxP"
      },
      "outputs": [],
      "source": [
        "# pd.read_html(url)"
      ]
    },
    {
      "cell_type": "markdown",
      "metadata": {
        "id": "I8uhXL0s3wxS"
      },
      "source": [
        "## JSON \n",
        "\n",
        "<img src=\"https://upload.wikimedia.org/wikipedia/commons/thumb/c/c9/JSON_vector_logo.svg/300px-JSON_vector_logo.svg.png\" width=\"100\">\n",
        "\n",
        "JSON(제이슨, JavaScript Object Notation)은 속성-값 쌍( attribute–value pairs and array data types (or any other serializable value)) 또는 \"키-값 쌍\"으로 이루어진 데이터 오브젝트를 전달하기 위해 인간이 읽을 수 있는 텍스트를 사용하는 개방형 표준 포맷이다. 비동기 브라우저/서버 통신 (AJAX)을 위해, 넓게는 XML(AJAX가 사용)을 대체하는 주요 데이터 포맷이다. 특히, 인터넷에서 자료를 주고 받을 때 그 자료를 표현하는 방법으로 알려져 있다. 자료의 종류에 큰 제한은 없으며, 특히 컴퓨터 프로그램의 변수값을 표현하는 데 적합하다.\n",
        "본래는 자바스크립트 언어로부터 파생되어 자바스크립트의 구문 형식을 따르지만 언어 독립형 데이터 포맷이다. 즉, 프로그래밍 언어나 플랫폼에 독립적이므로, 구문 분석 및 JSON 데이터 생성을 위한 코드는 C, C++, C#, 자바, 자바스크립트, 펄, 파이썬 등 수많은 프로그래밍 언어에서 쉽게 이용할 수 있다.\n",
        "\n",
        "* 출처 : [JSON - 위키백과, 우리 모두의 백과사전](https://ko.wikipedia.org/wiki/JSON)"
      ]
    },
    {
      "cell_type": "markdown",
      "metadata": {
        "id": "0blbTORV3wxT"
      },
      "source": [
        "## requests를 통한 HTTP 요청\n",
        "* [Requests: HTTP for Humans™ — Requests documentation](https://requests.readthedocs.io/en/master/)"
      ]
    },
    {
      "cell_type": "code",
      "execution_count": null,
      "metadata": {
        "id": "Cuo_DDk80jYn",
        "outputId": "81febfa8-9120-4df8-ea0b-0b384a910e24"
      },
      "outputs": [
        {
          "data": {
            "text/plain": [
              "<Response [200]>"
            ]
          },
          "execution_count": 53,
          "metadata": {},
          "output_type": "execute_result"
        }
      ],
      "source": [
        "# requests 라이브러리를 통해 url을 받아옵니다.\n",
        "response = requests.get(url)\n",
        "response"
      ]
    },
    {
      "cell_type": "code",
      "execution_count": null,
      "metadata": {
        "id": "3_SqG6lZ3wxW"
      },
      "outputs": [],
      "source": [
        "# response.text"
      ]
    },
    {
      "cell_type": "markdown",
      "metadata": {
        "id": "TKb-o2ds3wxX"
      },
      "source": [
        "### JSON 타입으로 데이터 받기"
      ]
    },
    {
      "cell_type": "code",
      "execution_count": null,
      "metadata": {
        "id": "BhFy-du10jYn",
        "scrolled": false
      },
      "outputs": [],
      "source": [
        "# requests 의 응답을 json 타입으로 받습니다.\n",
        "etf_json = response.json()"
      ]
    },
    {
      "cell_type": "markdown",
      "metadata": {
        "id": "2KECe8bq3wxZ"
      },
      "source": [
        "### JSON 에서 원하는 데이터 찾기"
      ]
    },
    {
      "cell_type": "code",
      "execution_count": null,
      "metadata": {
        "id": "5KX_Txxm0jYn",
        "outputId": "ec4accd5-8a45-484d-c529-7593c5128f29"
      },
      "outputs": [
        {
          "data": {
            "text/plain": [
              "{'itemcode': '069500',\n",
              " 'etfTabCode': 1,\n",
              " 'itemname': 'KODEX 200',\n",
              " 'nowVal': 34990,\n",
              " 'risefall': '2',\n",
              " 'changeVal': 5,\n",
              " 'changeRate': 0.01,\n",
              " 'nav': 35008.0,\n",
              " 'threeMonthEarnRate': -4.7898,\n",
              " 'quant': 1546905,\n",
              " 'amonut': 54233,\n",
              " 'marketSum': 50158}"
            ]
          },
          "execution_count": 17,
          "metadata": {},
          "output_type": "execute_result"
        }
      ],
      "source": [
        "# result > etfItemList 의 하위 구조로 목록을 찾고자 하는 데이터를 가져옵니다.\n",
        "etfItemList = etf_json[\"result\"][\"etfItemList\"]\n",
        "etfItemList[0]"
      ]
    },
    {
      "cell_type": "markdown",
      "metadata": {
        "id": "f-S8s1qa3wxb"
      },
      "source": [
        "## 데이터프레임 변환\n",
        "### JSON 데이터를 pandas 의 데이터프레임 형태로 만들기"
      ]
    },
    {
      "cell_type": "code",
      "execution_count": null,
      "metadata": {
        "id": "JCGehw-a0jYn",
        "outputId": "0087314c-97ca-4524-8e15-77f7215e9e63"
      },
      "outputs": [
        {
          "data": {
            "text/html": [
              "<div>\n",
              "<style scoped>\n",
              "    .dataframe tbody tr th:only-of-type {\n",
              "        vertical-align: middle;\n",
              "    }\n",
              "\n",
              "    .dataframe tbody tr th {\n",
              "        vertical-align: top;\n",
              "    }\n",
              "\n",
              "    .dataframe thead th {\n",
              "        text-align: right;\n",
              "    }\n",
              "</style>\n",
              "<table border=\"1\" class=\"dataframe\">\n",
              "  <thead>\n",
              "    <tr style=\"text-align: right;\">\n",
              "      <th></th>\n",
              "      <th>itemcode</th>\n",
              "      <th>etfTabCode</th>\n",
              "      <th>itemname</th>\n",
              "      <th>nowVal</th>\n",
              "      <th>risefall</th>\n",
              "      <th>changeVal</th>\n",
              "      <th>changeRate</th>\n",
              "      <th>nav</th>\n",
              "      <th>threeMonthEarnRate</th>\n",
              "      <th>quant</th>\n",
              "      <th>amonut</th>\n",
              "      <th>marketSum</th>\n",
              "    </tr>\n",
              "  </thead>\n",
              "  <tbody>\n",
              "    <tr>\n",
              "      <th>0</th>\n",
              "      <td>069500</td>\n",
              "      <td>1</td>\n",
              "      <td>KODEX 200</td>\n",
              "      <td>34990</td>\n",
              "      <td>2</td>\n",
              "      <td>5</td>\n",
              "      <td>0.01</td>\n",
              "      <td>35008.0</td>\n",
              "      <td>-4.7898</td>\n",
              "      <td>1546905</td>\n",
              "      <td>54233</td>\n",
              "      <td>50158</td>\n",
              "    </tr>\n",
              "    <tr>\n",
              "      <th>1</th>\n",
              "      <td>371460</td>\n",
              "      <td>4</td>\n",
              "      <td>TIGER 차이나전기차SOLACTIVE</td>\n",
              "      <td>13720</td>\n",
              "      <td>5</td>\n",
              "      <td>-50</td>\n",
              "      <td>-0.36</td>\n",
              "      <td>13835.0</td>\n",
              "      <td>-10.4973</td>\n",
              "      <td>2481798</td>\n",
              "      <td>34234</td>\n",
              "      <td>34794</td>\n",
              "    </tr>\n",
              "    <tr>\n",
              "      <th>2</th>\n",
              "      <td>122630</td>\n",
              "      <td>3</td>\n",
              "      <td>KODEX 레버리지</td>\n",
              "      <td>18515</td>\n",
              "      <td>5</td>\n",
              "      <td>-10</td>\n",
              "      <td>-0.05</td>\n",
              "      <td>18565.0</td>\n",
              "      <td>-10.7229</td>\n",
              "      <td>10161235</td>\n",
              "      <td>189023</td>\n",
              "      <td>23116</td>\n",
              "    </tr>\n",
              "    <tr>\n",
              "      <th>3</th>\n",
              "      <td>133690</td>\n",
              "      <td>4</td>\n",
              "      <td>TIGER 미국나스닥100</td>\n",
              "      <td>67835</td>\n",
              "      <td>5</td>\n",
              "      <td>-370</td>\n",
              "      <td>-0.54</td>\n",
              "      <td>67266.0</td>\n",
              "      <td>-10.5943</td>\n",
              "      <td>134941</td>\n",
              "      <td>9176</td>\n",
              "      <td>19414</td>\n",
              "    </tr>\n",
              "    <tr>\n",
              "      <th>4</th>\n",
              "      <td>214980</td>\n",
              "      <td>6</td>\n",
              "      <td>KODEX 단기채권PLUS</td>\n",
              "      <td>103875</td>\n",
              "      <td>5</td>\n",
              "      <td>-10</td>\n",
              "      <td>-0.01</td>\n",
              "      <td>103883.0</td>\n",
              "      <td>0.2654</td>\n",
              "      <td>706</td>\n",
              "      <td>73</td>\n",
              "      <td>18968</td>\n",
              "    </tr>\n",
              "    <tr>\n",
              "      <th>...</th>\n",
              "      <td>...</td>\n",
              "      <td>...</td>\n",
              "      <td>...</td>\n",
              "      <td>...</td>\n",
              "      <td>...</td>\n",
              "      <td>...</td>\n",
              "      <td>...</td>\n",
              "      <td>...</td>\n",
              "      <td>...</td>\n",
              "      <td>...</td>\n",
              "      <td>...</td>\n",
              "      <td>...</td>\n",
              "    </tr>\n",
              "    <tr>\n",
              "      <th>560</th>\n",
              "      <td>295000</td>\n",
              "      <td>6</td>\n",
              "      <td>KBSTAR 국채선물10년</td>\n",
              "      <td>51115</td>\n",
              "      <td>2</td>\n",
              "      <td>120</td>\n",
              "      <td>0.24</td>\n",
              "      <td>51094.0</td>\n",
              "      <td>-3.4917</td>\n",
              "      <td>457</td>\n",
              "      <td>23</td>\n",
              "      <td>20</td>\n",
              "    </tr>\n",
              "    <tr>\n",
              "      <th>561</th>\n",
              "      <td>284990</td>\n",
              "      <td>2</td>\n",
              "      <td>KBSTAR 200에너지화학</td>\n",
              "      <td>11270</td>\n",
              "      <td>5</td>\n",
              "      <td>-125</td>\n",
              "      <td>-1.10</td>\n",
              "      <td>11302.0</td>\n",
              "      <td>1.4512</td>\n",
              "      <td>132</td>\n",
              "      <td>1</td>\n",
              "      <td>16</td>\n",
              "    </tr>\n",
              "    <tr>\n",
              "      <th>562</th>\n",
              "      <td>287330</td>\n",
              "      <td>2</td>\n",
              "      <td>KBSTAR 200생활소비재</td>\n",
              "      <td>6880</td>\n",
              "      <td>5</td>\n",
              "      <td>-5</td>\n",
              "      <td>-0.07</td>\n",
              "      <td>6895.0</td>\n",
              "      <td>-7.3227</td>\n",
              "      <td>5</td>\n",
              "      <td>0</td>\n",
              "      <td>12</td>\n",
              "    </tr>\n",
              "    <tr>\n",
              "      <th>563</th>\n",
              "      <td>287310</td>\n",
              "      <td>2</td>\n",
              "      <td>KBSTAR 200경기소비재</td>\n",
              "      <td>9850</td>\n",
              "      <td>5</td>\n",
              "      <td>-50</td>\n",
              "      <td>-0.51</td>\n",
              "      <td>9885.0</td>\n",
              "      <td>-0.9901</td>\n",
              "      <td>143</td>\n",
              "      <td>1</td>\n",
              "      <td>12</td>\n",
              "    </tr>\n",
              "    <tr>\n",
              "      <th>564</th>\n",
              "      <td>287320</td>\n",
              "      <td>2</td>\n",
              "      <td>KBSTAR 200산업재</td>\n",
              "      <td>12080</td>\n",
              "      <td>2</td>\n",
              "      <td>40</td>\n",
              "      <td>0.33</td>\n",
              "      <td>12098.0</td>\n",
              "      <td>9.9041</td>\n",
              "      <td>32</td>\n",
              "      <td>0</td>\n",
              "      <td>7</td>\n",
              "    </tr>\n",
              "  </tbody>\n",
              "</table>\n",
              "<p>565 rows × 12 columns</p>\n",
              "</div>"
            ],
            "text/plain": [
              "    itemcode  etfTabCode               itemname  nowVal risefall  changeVal  \\\n",
              "0     069500           1              KODEX 200   34990        2          5   \n",
              "1     371460           4  TIGER 차이나전기차SOLACTIVE   13720        5        -50   \n",
              "2     122630           3             KODEX 레버리지   18515        5        -10   \n",
              "3     133690           4         TIGER 미국나스닥100   67835        5       -370   \n",
              "4     214980           6         KODEX 단기채권PLUS  103875        5        -10   \n",
              "..       ...         ...                    ...     ...      ...        ...   \n",
              "560   295000           6         KBSTAR 국채선물10년   51115        2        120   \n",
              "561   284990           2        KBSTAR 200에너지화학   11270        5       -125   \n",
              "562   287330           2        KBSTAR 200생활소비재    6880        5         -5   \n",
              "563   287310           2        KBSTAR 200경기소비재    9850        5        -50   \n",
              "564   287320           2          KBSTAR 200산업재   12080        2         40   \n",
              "\n",
              "     changeRate       nav  threeMonthEarnRate     quant  amonut  marketSum  \n",
              "0          0.01   35008.0             -4.7898   1546905   54233      50158  \n",
              "1         -0.36   13835.0            -10.4973   2481798   34234      34794  \n",
              "2         -0.05   18565.0            -10.7229  10161235  189023      23116  \n",
              "3         -0.54   67266.0            -10.5943    134941    9176      19414  \n",
              "4         -0.01  103883.0              0.2654       706      73      18968  \n",
              "..          ...       ...                 ...       ...     ...        ...  \n",
              "560        0.24   51094.0             -3.4917       457      23         20  \n",
              "561       -1.10   11302.0              1.4512       132       1         16  \n",
              "562       -0.07    6895.0             -7.3227         5       0         12  \n",
              "563       -0.51    9885.0             -0.9901       143       1         12  \n",
              "564        0.33   12098.0              9.9041        32       0          7  \n",
              "\n",
              "[565 rows x 12 columns]"
            ]
          },
          "execution_count": 37,
          "metadata": {},
          "output_type": "execute_result"
        }
      ],
      "source": [
        "# 키-값 형태의 데이터를 데이터프레임으로 만듭니다.\n",
        "df = pd.DataFrame(etfItemList)\n",
        "df"
      ]
    },
    {
      "cell_type": "markdown",
      "metadata": {
        "id": "0sbyk5ka3wxc"
      },
      "source": [
        "### 데이터 확인"
      ]
    },
    {
      "cell_type": "code",
      "execution_count": null,
      "metadata": {
        "id": "H3t5Uj8-0jYn",
        "outputId": "345e68a1-6966-42c1-f44b-514df952bde4"
      },
      "outputs": [
        {
          "data": {
            "text/html": [
              "<div>\n",
              "<style scoped>\n",
              "    .dataframe tbody tr th:only-of-type {\n",
              "        vertical-align: middle;\n",
              "    }\n",
              "\n",
              "    .dataframe tbody tr th {\n",
              "        vertical-align: top;\n",
              "    }\n",
              "\n",
              "    .dataframe thead th {\n",
              "        text-align: right;\n",
              "    }\n",
              "</style>\n",
              "<table border=\"1\" class=\"dataframe\">\n",
              "  <thead>\n",
              "    <tr style=\"text-align: right;\">\n",
              "      <th></th>\n",
              "      <th>itemcode</th>\n",
              "      <th>etfTabCode</th>\n",
              "      <th>itemname</th>\n",
              "      <th>nowVal</th>\n",
              "      <th>risefall</th>\n",
              "      <th>changeVal</th>\n",
              "      <th>changeRate</th>\n",
              "      <th>nav</th>\n",
              "      <th>threeMonthEarnRate</th>\n",
              "      <th>quant</th>\n",
              "      <th>amonut</th>\n",
              "      <th>marketSum</th>\n",
              "    </tr>\n",
              "  </thead>\n",
              "  <tbody>\n",
              "    <tr>\n",
              "      <th>0</th>\n",
              "      <td>069500</td>\n",
              "      <td>1</td>\n",
              "      <td>KODEX 200</td>\n",
              "      <td>34990</td>\n",
              "      <td>2</td>\n",
              "      <td>5</td>\n",
              "      <td>0.01</td>\n",
              "      <td>35008.0</td>\n",
              "      <td>-4.7898</td>\n",
              "      <td>1546905</td>\n",
              "      <td>54233</td>\n",
              "      <td>50158</td>\n",
              "    </tr>\n",
              "    <tr>\n",
              "      <th>1</th>\n",
              "      <td>371460</td>\n",
              "      <td>4</td>\n",
              "      <td>TIGER 차이나전기차SOLACTIVE</td>\n",
              "      <td>13720</td>\n",
              "      <td>5</td>\n",
              "      <td>-50</td>\n",
              "      <td>-0.36</td>\n",
              "      <td>13835.0</td>\n",
              "      <td>-10.4973</td>\n",
              "      <td>2481798</td>\n",
              "      <td>34234</td>\n",
              "      <td>34794</td>\n",
              "    </tr>\n",
              "    <tr>\n",
              "      <th>2</th>\n",
              "      <td>122630</td>\n",
              "      <td>3</td>\n",
              "      <td>KODEX 레버리지</td>\n",
              "      <td>18515</td>\n",
              "      <td>5</td>\n",
              "      <td>-10</td>\n",
              "      <td>-0.05</td>\n",
              "      <td>18565.0</td>\n",
              "      <td>-10.7229</td>\n",
              "      <td>10161235</td>\n",
              "      <td>189023</td>\n",
              "      <td>23116</td>\n",
              "    </tr>\n",
              "    <tr>\n",
              "      <th>3</th>\n",
              "      <td>133690</td>\n",
              "      <td>4</td>\n",
              "      <td>TIGER 미국나스닥100</td>\n",
              "      <td>67835</td>\n",
              "      <td>5</td>\n",
              "      <td>-370</td>\n",
              "      <td>-0.54</td>\n",
              "      <td>67266.0</td>\n",
              "      <td>-10.5943</td>\n",
              "      <td>134941</td>\n",
              "      <td>9176</td>\n",
              "      <td>19414</td>\n",
              "    </tr>\n",
              "    <tr>\n",
              "      <th>4</th>\n",
              "      <td>214980</td>\n",
              "      <td>6</td>\n",
              "      <td>KODEX 단기채권PLUS</td>\n",
              "      <td>103875</td>\n",
              "      <td>5</td>\n",
              "      <td>-10</td>\n",
              "      <td>-0.01</td>\n",
              "      <td>103883.0</td>\n",
              "      <td>0.2654</td>\n",
              "      <td>706</td>\n",
              "      <td>73</td>\n",
              "      <td>18968</td>\n",
              "    </tr>\n",
              "  </tbody>\n",
              "</table>\n",
              "</div>"
            ],
            "text/plain": [
              "  itemcode  etfTabCode               itemname  nowVal risefall  changeVal  \\\n",
              "0   069500           1              KODEX 200   34990        2          5   \n",
              "1   371460           4  TIGER 차이나전기차SOLACTIVE   13720        5        -50   \n",
              "2   122630           3             KODEX 레버리지   18515        5        -10   \n",
              "3   133690           4         TIGER 미국나스닥100   67835        5       -370   \n",
              "4   214980           6         KODEX 단기채권PLUS  103875        5        -10   \n",
              "\n",
              "   changeRate       nav  threeMonthEarnRate     quant  amonut  marketSum  \n",
              "0        0.01   35008.0             -4.7898   1546905   54233      50158  \n",
              "1       -0.36   13835.0            -10.4973   2481798   34234      34794  \n",
              "2       -0.05   18565.0            -10.7229  10161235  189023      23116  \n",
              "3       -0.54   67266.0            -10.5943    134941    9176      19414  \n",
              "4       -0.01  103883.0              0.2654       706      73      18968  "
            ]
          },
          "execution_count": 38,
          "metadata": {},
          "output_type": "execute_result"
        }
      ],
      "source": [
        "# 데이터 프레임으로 잘 만들어 졌는지 상단 데이터의 일부만 미리보기 합니다.\n",
        "df.head()"
      ]
    },
    {
      "cell_type": "code",
      "execution_count": null,
      "metadata": {
        "id": "CrEXrnVy0jYn",
        "outputId": "99bea637-98cc-45da-dd99-c0ad9fdec5f3"
      },
      "outputs": [
        {
          "data": {
            "text/html": [
              "<div>\n",
              "<style scoped>\n",
              "    .dataframe tbody tr th:only-of-type {\n",
              "        vertical-align: middle;\n",
              "    }\n",
              "\n",
              "    .dataframe tbody tr th {\n",
              "        vertical-align: top;\n",
              "    }\n",
              "\n",
              "    .dataframe thead th {\n",
              "        text-align: right;\n",
              "    }\n",
              "</style>\n",
              "<table border=\"1\" class=\"dataframe\">\n",
              "  <thead>\n",
              "    <tr style=\"text-align: right;\">\n",
              "      <th></th>\n",
              "      <th>itemcode</th>\n",
              "      <th>etfTabCode</th>\n",
              "      <th>itemname</th>\n",
              "      <th>nowVal</th>\n",
              "      <th>risefall</th>\n",
              "      <th>changeVal</th>\n",
              "      <th>changeRate</th>\n",
              "      <th>nav</th>\n",
              "      <th>threeMonthEarnRate</th>\n",
              "      <th>quant</th>\n",
              "      <th>amonut</th>\n",
              "      <th>marketSum</th>\n",
              "    </tr>\n",
              "  </thead>\n",
              "  <tbody>\n",
              "    <tr>\n",
              "      <th>560</th>\n",
              "      <td>295000</td>\n",
              "      <td>6</td>\n",
              "      <td>KBSTAR 국채선물10년</td>\n",
              "      <td>51115</td>\n",
              "      <td>2</td>\n",
              "      <td>120</td>\n",
              "      <td>0.24</td>\n",
              "      <td>51094.0</td>\n",
              "      <td>-3.4917</td>\n",
              "      <td>457</td>\n",
              "      <td>23</td>\n",
              "      <td>20</td>\n",
              "    </tr>\n",
              "    <tr>\n",
              "      <th>561</th>\n",
              "      <td>284990</td>\n",
              "      <td>2</td>\n",
              "      <td>KBSTAR 200에너지화학</td>\n",
              "      <td>11270</td>\n",
              "      <td>5</td>\n",
              "      <td>-125</td>\n",
              "      <td>-1.10</td>\n",
              "      <td>11302.0</td>\n",
              "      <td>1.4512</td>\n",
              "      <td>132</td>\n",
              "      <td>1</td>\n",
              "      <td>16</td>\n",
              "    </tr>\n",
              "    <tr>\n",
              "      <th>562</th>\n",
              "      <td>287330</td>\n",
              "      <td>2</td>\n",
              "      <td>KBSTAR 200생활소비재</td>\n",
              "      <td>6880</td>\n",
              "      <td>5</td>\n",
              "      <td>-5</td>\n",
              "      <td>-0.07</td>\n",
              "      <td>6895.0</td>\n",
              "      <td>-7.3227</td>\n",
              "      <td>5</td>\n",
              "      <td>0</td>\n",
              "      <td>12</td>\n",
              "    </tr>\n",
              "    <tr>\n",
              "      <th>563</th>\n",
              "      <td>287310</td>\n",
              "      <td>2</td>\n",
              "      <td>KBSTAR 200경기소비재</td>\n",
              "      <td>9850</td>\n",
              "      <td>5</td>\n",
              "      <td>-50</td>\n",
              "      <td>-0.51</td>\n",
              "      <td>9885.0</td>\n",
              "      <td>-0.9901</td>\n",
              "      <td>143</td>\n",
              "      <td>1</td>\n",
              "      <td>12</td>\n",
              "    </tr>\n",
              "    <tr>\n",
              "      <th>564</th>\n",
              "      <td>287320</td>\n",
              "      <td>2</td>\n",
              "      <td>KBSTAR 200산업재</td>\n",
              "      <td>12080</td>\n",
              "      <td>2</td>\n",
              "      <td>40</td>\n",
              "      <td>0.33</td>\n",
              "      <td>12098.0</td>\n",
              "      <td>9.9041</td>\n",
              "      <td>32</td>\n",
              "      <td>0</td>\n",
              "      <td>7</td>\n",
              "    </tr>\n",
              "  </tbody>\n",
              "</table>\n",
              "</div>"
            ],
            "text/plain": [
              "    itemcode  etfTabCode         itemname  nowVal risefall  changeVal  \\\n",
              "560   295000           6   KBSTAR 국채선물10년   51115        2        120   \n",
              "561   284990           2  KBSTAR 200에너지화학   11270        5       -125   \n",
              "562   287330           2  KBSTAR 200생활소비재    6880        5         -5   \n",
              "563   287310           2  KBSTAR 200경기소비재    9850        5        -50   \n",
              "564   287320           2    KBSTAR 200산업재   12080        2         40   \n",
              "\n",
              "     changeRate      nav  threeMonthEarnRate  quant  amonut  marketSum  \n",
              "560        0.24  51094.0             -3.4917    457      23         20  \n",
              "561       -1.10  11302.0              1.4512    132       1         16  \n",
              "562       -0.07   6895.0             -7.3227      5       0         12  \n",
              "563       -0.51   9885.0             -0.9901    143       1         12  \n",
              "564        0.33  12098.0              9.9041     32       0          7  "
            ]
          },
          "execution_count": 39,
          "metadata": {},
          "output_type": "execute_result"
        }
      ],
      "source": [
        "# 데이터 프레임으로 잘 만들어 졌는지 하단 데이터의 일부만 미리보기 합니다.\n",
        "df.tail()"
      ]
    },
    {
      "cell_type": "markdown",
      "metadata": {
        "id": "DBX4sytU3wxf"
      },
      "source": [
        "## 파일 저장\n",
        "### 파일명 만들기"
      ]
    },
    {
      "cell_type": "code",
      "execution_count": null,
      "metadata": {
        "id": "WZTFTe620jYn",
        "outputId": "2c0944aa-528a-488f-8f7c-8f387ff566d0"
      },
      "outputs": [
        {
          "data": {
            "text/plain": [
              "'2022-05-23'"
            ]
          },
          "execution_count": 57,
          "metadata": {},
          "output_type": "execute_result"
        }
      ],
      "source": [
        "# 파이썬 표준라이브러리인 datetime을 불러옵니다.\n",
        "# 날짜를 만들어 저장하기 위해 오늘 날짜를 구합니다.\n",
        "from datetime import datetime\n",
        "\n",
        "today = datetime.today().strftime(\"%Y-%m-%d\")\n",
        "today"
      ]
    },
    {
      "cell_type": "code",
      "execution_count": null,
      "metadata": {
        "id": "dWw88foz0jYn",
        "scrolled": true,
        "outputId": "de65bc01-9122-4d39-d24c-09fc06090943"
      },
      "outputs": [
        {
          "data": {
            "text/plain": [
              "'eft_2022-05-23_raw.csv'"
            ]
          },
          "execution_count": 59,
          "metadata": {},
          "output_type": "execute_result"
        }
      ],
      "source": [
        "# f-string 방식으로 파일명을 만들어 줍니다.\n",
        "# eft_날짜_raw.csv 형태로 만듭니다.\n",
        "file_name = f\"eft_{today}_raw.csv\"\n",
        "file_name"
      ]
    },
    {
      "cell_type": "markdown",
      "metadata": {
        "id": "kQcDOdJ93wxj"
      },
      "source": [
        "### 파일로 저장하고 불러오기"
      ]
    },
    {
      "cell_type": "code",
      "execution_count": null,
      "metadata": {
        "id": "L8WaFl6d0jYn"
      },
      "outputs": [],
      "source": [
        "# csv 형태로 저장합니다. index 가 저장되지 않도록 합니다.\n",
        "df.to_csv(file_name, index=False)"
      ]
    },
    {
      "cell_type": "code",
      "execution_count": null,
      "metadata": {
        "id": "2Vi0tnZL0jYn",
        "outputId": "d0304ab8-ccf3-4c23-ea3f-10c8e595c37d"
      },
      "outputs": [
        {
          "data": {
            "text/html": [
              "<div>\n",
              "<style scoped>\n",
              "    .dataframe tbody tr th:only-of-type {\n",
              "        vertical-align: middle;\n",
              "    }\n",
              "\n",
              "    .dataframe tbody tr th {\n",
              "        vertical-align: top;\n",
              "    }\n",
              "\n",
              "    .dataframe thead th {\n",
              "        text-align: right;\n",
              "    }\n",
              "</style>\n",
              "<table border=\"1\" class=\"dataframe\">\n",
              "  <thead>\n",
              "    <tr style=\"text-align: right;\">\n",
              "      <th></th>\n",
              "      <th>itemcode</th>\n",
              "      <th>etfTabCode</th>\n",
              "      <th>itemname</th>\n",
              "      <th>nowVal</th>\n",
              "      <th>risefall</th>\n",
              "      <th>changeVal</th>\n",
              "      <th>changeRate</th>\n",
              "      <th>nav</th>\n",
              "      <th>threeMonthEarnRate</th>\n",
              "      <th>quant</th>\n",
              "      <th>amonut</th>\n",
              "      <th>marketSum</th>\n",
              "    </tr>\n",
              "  </thead>\n",
              "  <tbody>\n",
              "    <tr>\n",
              "      <th>0</th>\n",
              "      <td>069500</td>\n",
              "      <td>1</td>\n",
              "      <td>KODEX 200</td>\n",
              "      <td>34990</td>\n",
              "      <td>2</td>\n",
              "      <td>5</td>\n",
              "      <td>0.01</td>\n",
              "      <td>35008.0</td>\n",
              "      <td>-4.7898</td>\n",
              "      <td>1546905</td>\n",
              "      <td>54233</td>\n",
              "      <td>50158</td>\n",
              "    </tr>\n",
              "    <tr>\n",
              "      <th>1</th>\n",
              "      <td>371460</td>\n",
              "      <td>4</td>\n",
              "      <td>TIGER 차이나전기차SOLACTIVE</td>\n",
              "      <td>13720</td>\n",
              "      <td>5</td>\n",
              "      <td>-50</td>\n",
              "      <td>-0.36</td>\n",
              "      <td>13835.0</td>\n",
              "      <td>-10.4973</td>\n",
              "      <td>2481798</td>\n",
              "      <td>34234</td>\n",
              "      <td>34794</td>\n",
              "    </tr>\n",
              "    <tr>\n",
              "      <th>2</th>\n",
              "      <td>122630</td>\n",
              "      <td>3</td>\n",
              "      <td>KODEX 레버리지</td>\n",
              "      <td>18515</td>\n",
              "      <td>5</td>\n",
              "      <td>-10</td>\n",
              "      <td>-0.05</td>\n",
              "      <td>18565.0</td>\n",
              "      <td>-10.7229</td>\n",
              "      <td>10161235</td>\n",
              "      <td>189023</td>\n",
              "      <td>23116</td>\n",
              "    </tr>\n",
              "    <tr>\n",
              "      <th>3</th>\n",
              "      <td>133690</td>\n",
              "      <td>4</td>\n",
              "      <td>TIGER 미국나스닥100</td>\n",
              "      <td>67835</td>\n",
              "      <td>5</td>\n",
              "      <td>-370</td>\n",
              "      <td>-0.54</td>\n",
              "      <td>67266.0</td>\n",
              "      <td>-10.5943</td>\n",
              "      <td>134941</td>\n",
              "      <td>9176</td>\n",
              "      <td>19414</td>\n",
              "    </tr>\n",
              "    <tr>\n",
              "      <th>4</th>\n",
              "      <td>214980</td>\n",
              "      <td>6</td>\n",
              "      <td>KODEX 단기채권PLUS</td>\n",
              "      <td>103875</td>\n",
              "      <td>5</td>\n",
              "      <td>-10</td>\n",
              "      <td>-0.01</td>\n",
              "      <td>103883.0</td>\n",
              "      <td>0.2654</td>\n",
              "      <td>706</td>\n",
              "      <td>73</td>\n",
              "      <td>18968</td>\n",
              "    </tr>\n",
              "    <tr>\n",
              "      <th>...</th>\n",
              "      <td>...</td>\n",
              "      <td>...</td>\n",
              "      <td>...</td>\n",
              "      <td>...</td>\n",
              "      <td>...</td>\n",
              "      <td>...</td>\n",
              "      <td>...</td>\n",
              "      <td>...</td>\n",
              "      <td>...</td>\n",
              "      <td>...</td>\n",
              "      <td>...</td>\n",
              "      <td>...</td>\n",
              "    </tr>\n",
              "    <tr>\n",
              "      <th>560</th>\n",
              "      <td>295000</td>\n",
              "      <td>6</td>\n",
              "      <td>KBSTAR 국채선물10년</td>\n",
              "      <td>51115</td>\n",
              "      <td>2</td>\n",
              "      <td>120</td>\n",
              "      <td>0.24</td>\n",
              "      <td>51094.0</td>\n",
              "      <td>-3.4917</td>\n",
              "      <td>457</td>\n",
              "      <td>23</td>\n",
              "      <td>20</td>\n",
              "    </tr>\n",
              "    <tr>\n",
              "      <th>561</th>\n",
              "      <td>284990</td>\n",
              "      <td>2</td>\n",
              "      <td>KBSTAR 200에너지화학</td>\n",
              "      <td>11270</td>\n",
              "      <td>5</td>\n",
              "      <td>-125</td>\n",
              "      <td>-1.10</td>\n",
              "      <td>11302.0</td>\n",
              "      <td>1.4512</td>\n",
              "      <td>132</td>\n",
              "      <td>1</td>\n",
              "      <td>16</td>\n",
              "    </tr>\n",
              "    <tr>\n",
              "      <th>562</th>\n",
              "      <td>287330</td>\n",
              "      <td>2</td>\n",
              "      <td>KBSTAR 200생활소비재</td>\n",
              "      <td>6880</td>\n",
              "      <td>5</td>\n",
              "      <td>-5</td>\n",
              "      <td>-0.07</td>\n",
              "      <td>6895.0</td>\n",
              "      <td>-7.3227</td>\n",
              "      <td>5</td>\n",
              "      <td>0</td>\n",
              "      <td>12</td>\n",
              "    </tr>\n",
              "    <tr>\n",
              "      <th>563</th>\n",
              "      <td>287310</td>\n",
              "      <td>2</td>\n",
              "      <td>KBSTAR 200경기소비재</td>\n",
              "      <td>9850</td>\n",
              "      <td>5</td>\n",
              "      <td>-50</td>\n",
              "      <td>-0.51</td>\n",
              "      <td>9885.0</td>\n",
              "      <td>-0.9901</td>\n",
              "      <td>143</td>\n",
              "      <td>1</td>\n",
              "      <td>12</td>\n",
              "    </tr>\n",
              "    <tr>\n",
              "      <th>564</th>\n",
              "      <td>287320</td>\n",
              "      <td>2</td>\n",
              "      <td>KBSTAR 200산업재</td>\n",
              "      <td>12080</td>\n",
              "      <td>2</td>\n",
              "      <td>40</td>\n",
              "      <td>0.33</td>\n",
              "      <td>12098.0</td>\n",
              "      <td>9.9041</td>\n",
              "      <td>32</td>\n",
              "      <td>0</td>\n",
              "      <td>7</td>\n",
              "    </tr>\n",
              "  </tbody>\n",
              "</table>\n",
              "<p>565 rows × 12 columns</p>\n",
              "</div>"
            ],
            "text/plain": [
              "    itemcode  etfTabCode               itemname  nowVal  risefall  changeVal  \\\n",
              "0     069500           1              KODEX 200   34990         2          5   \n",
              "1     371460           4  TIGER 차이나전기차SOLACTIVE   13720         5        -50   \n",
              "2     122630           3             KODEX 레버리지   18515         5        -10   \n",
              "3     133690           4         TIGER 미국나스닥100   67835         5       -370   \n",
              "4     214980           6         KODEX 단기채권PLUS  103875         5        -10   \n",
              "..       ...         ...                    ...     ...       ...        ...   \n",
              "560   295000           6         KBSTAR 국채선물10년   51115         2        120   \n",
              "561   284990           2        KBSTAR 200에너지화학   11270         5       -125   \n",
              "562   287330           2        KBSTAR 200생활소비재    6880         5         -5   \n",
              "563   287310           2        KBSTAR 200경기소비재    9850         5        -50   \n",
              "564   287320           2          KBSTAR 200산업재   12080         2         40   \n",
              "\n",
              "     changeRate       nav  threeMonthEarnRate     quant  amonut  marketSum  \n",
              "0          0.01   35008.0             -4.7898   1546905   54233      50158  \n",
              "1         -0.36   13835.0            -10.4973   2481798   34234      34794  \n",
              "2         -0.05   18565.0            -10.7229  10161235  189023      23116  \n",
              "3         -0.54   67266.0            -10.5943    134941    9176      19414  \n",
              "4         -0.01  103883.0              0.2654       706      73      18968  \n",
              "..          ...       ...                 ...       ...     ...        ...  \n",
              "560        0.24   51094.0             -3.4917       457      23         20  \n",
              "561       -1.10   11302.0              1.4512       132       1         16  \n",
              "562       -0.07    6895.0             -7.3227         5       0         12  \n",
              "563       -0.51    9885.0             -0.9901       143       1         12  \n",
              "564        0.33   12098.0              9.9041        32       0          7  \n",
              "\n",
              "[565 rows x 12 columns]"
            ]
          },
          "execution_count": 67,
          "metadata": {},
          "output_type": "execute_result"
        }
      ],
      "source": [
        "# 저장된 csv 파일을 읽어옵니다.\n",
        "# itemcode 숫자 앞의 0 이 지워진다면 dtype={\"itemcode\": np.object} 로 타입을 지정해 주면 문자형태로 읽어옵니다.\n",
        "pd.read_csv(file_name, dtype={\"itemcode\": \"object\"})"
      ]
    },
    {
      "cell_type": "code",
      "execution_count": null,
      "metadata": {
        "id": "0VX-NE4e0jYn"
      },
      "outputs": [],
      "source": [
        ""
      ]
    },
    {
      "cell_type": "code",
      "execution_count": null,
      "metadata": {
        "id": "JPANQb-23wxn"
      },
      "outputs": [],
      "source": [
        ""
      ]
    }
  ],
  "metadata": {
    "colab": {
      "collapsed_sections": [],
      "name": "0206-ETF-list-scraping-output.ipynb",
      "provenance": [],
      "toc_visible": true
    },
    "kernelspec": {
      "display_name": "Python 3 (ipykernel)",
      "language": "python",
      "name": "python3"
    },
    "language_info": {
      "codemirror_mode": {
        "name": "ipython",
        "version": 3
      },
      "file_extension": ".py",
      "mimetype": "text/x-python",
      "name": "python",
      "nbconvert_exporter": "python",
      "pygments_lexer": "ipython3",
      "version": "3.7.6"
    },
    "toc": {
      "base_numbering": 1,
      "nav_menu": {},
      "number_sections": true,
      "sideBar": true,
      "skip_h1_title": false,
      "title_cell": "Table of Contents",
      "title_sidebar": "Contents",
      "toc_cell": false,
      "toc_position": {
        "height": "calc(100% - 180px)",
        "left": "10px",
        "top": "150px",
        "width": "204.8px"
      },
      "toc_section_display": true,
      "toc_window_display": true
    },
    "varInspector": {
      "cols": {
        "lenName": 16,
        "lenType": 16,
        "lenVar": 40
      },
      "kernels_config": {
        "python": {
          "delete_cmd_postfix": "",
          "delete_cmd_prefix": "del ",
          "library": "var_list.py",
          "varRefreshCmd": "print(var_dic_list())"
        },
        "r": {
          "delete_cmd_postfix": ") ",
          "delete_cmd_prefix": "rm(",
          "library": "var_list.r",
          "varRefreshCmd": "cat(var_dic_list()) "
        }
      },
      "types_to_exclude": [
        "module",
        "function",
        "builtin_function_or_method",
        "instance",
        "_Feature"
      ],
      "window_display": false
    }
  },
  "nbformat": 4,
  "nbformat_minor": 0
}